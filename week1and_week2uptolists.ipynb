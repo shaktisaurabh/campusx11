{
  "cells": [
    {
      "cell_type": "code",
      "execution_count": null,
      "metadata": {
        "colab": {
          "base_uri": "https://localhost:8080/"
        },
        "id": "Ve6jEjB9o5ry",
        "outputId": "88384665-5a2f-4d80-ab84-a9fd3da1ee05"
      },
      "outputs": [
        {
          "name": "stdout",
          "output_type": "stream",
          "text": [
            "hello/1/4.5/True\n"
          ]
        }
      ],
      "source": [
        "print(\"hello\",1,4.5,True,sep='/')"
      ]
    },
    {
      "cell_type": "code",
      "execution_count": null,
      "metadata": {
        "colab": {
          "base_uri": "https://localhost:8080/"
        },
        "id": "LRbfikZq5vnq",
        "outputId": "99135476-3e9f-4f64-9934-c70430ac22ae"
      },
      "outputs": [
        {
          "name": "stdout",
          "output_type": "stream",
          "text": [
            "hello-world\n"
          ]
        }
      ],
      "source": [
        "print(\"hello\",end='-')\n",
        "print(\"world\")"
      ]
    },
    {
      "cell_type": "code",
      "execution_count": null,
      "metadata": {
        "colab": {
          "base_uri": "https://localhost:8080/"
        },
        "id": "jCdfr0zH9T5h",
        "outputId": "c59e5135-812c-4ea7-f700-ad7d4a83cf74"
      },
      "outputs": [
        {
          "name": "stdout",
          "output_type": "stream",
          "text": [
            "1e+308\n"
          ]
        }
      ],
      "source": [
        "print(1e308)\n",
        "#python can handle integers upto 1*10^308 and so 1*10^309 prints infinity as python cannot handle that"
      ]
    },
    {
      "cell_type": "code",
      "execution_count": null,
      "metadata": {
        "colab": {
          "base_uri": "https://localhost:8080/"
        },
        "id": "VCafUipR9XUD",
        "outputId": "61246d11-1d59-4d9a-abb1-300b9237d21f"
      },
      "outputs": [
        {
          "name": "stdout",
          "output_type": "stream",
          "text": [
            "inf\n"
          ]
        }
      ],
      "source": [
        "print(1e309)"
      ]
    },
    {
      "cell_type": "code",
      "execution_count": null,
      "metadata": {
        "colab": {
          "base_uri": "https://localhost:8080/"
        },
        "id": "zYJvVUPQ_yTz",
        "outputId": "9ced8fa7-4d8c-4107-a3b9-957a49ff982d"
      },
      "outputs": [
        {
          "name": "stdout",
          "output_type": "stream",
          "text": [
            "inf\n"
          ]
        }
      ],
      "source": [
        "print(1.7e309)"
      ]
    },
    {
      "cell_type": "code",
      "execution_count": null,
      "metadata": {
        "colab": {
          "base_uri": "https://localhost:8080/"
        },
        "id": "KbuAFJQE_2cO",
        "outputId": "cd1e8728-4f83-4ecd-f46f-1d79ccf8b87c"
      },
      "outputs": [
        {
          "name": "stdout",
          "output_type": "stream",
          "text": [
            "inf\n"
          ]
        }
      ],
      "source": [
        "print(1.7e308)"
      ]
    },
    {
      "cell_type": "code",
      "execution_count": null,
      "metadata": {
        "colab": {
          "base_uri": "https://localhost:8080/"
        },
        "id": "q-ZcWic55zpM",
        "outputId": "8f90b6f3-f2ce-402f-c918-d8b82688c0ef"
      },
      "outputs": [
        {
          "name": "stdout",
          "output_type": "stream",
          "text": [
            "1 2 3\n"
          ]
        }
      ],
      "source": [
        "a,b,c=1,2,3\n",
        "print(a,b,c)"
      ]
    },
    {
      "cell_type": "code",
      "execution_count": null,
      "metadata": {
        "colab": {
          "base_uri": "https://localhost:8080/"
        },
        "id": "MxY_xnlZ7DuA",
        "outputId": "7744424c-156f-44e4-f4e5-5cfa0eaa391a"
      },
      "outputs": [
        {
          "name": "stdout",
          "output_type": "stream",
          "text": [
            "5 5 5\n"
          ]
        }
      ],
      "source": [
        "a=b=c=5\n",
        "print(a,b,c)"
      ]
    },
    {
      "cell_type": "markdown",
      "metadata": {
        "id": "cZXOqVDPXkRT"
      },
      "source": [
        "Hash"
      ]
    },
    {
      "cell_type": "code",
      "execution_count": null,
      "metadata": {
        "id": "_-zm3LqIXnZk"
      },
      "outputs": [],
      "source": [
        "string=\"This is python\"\n",
        "strings='This is python'\n",
        "char=\"C\"\n",
        "multiline_str=\"\"\"This is multiline string with more than one line\"\"\"\n",
        "unicode=u\"\\U0001f600\\U0001F606\\U0001F923\"\n",
        "raw_str=r\"raw \\n string\""
      ]
    },
    {
      "cell_type": "code",
      "execution_count": null,
      "metadata": {
        "colab": {
          "base_uri": "https://localhost:8080/"
        },
        "id": "h8E-yxNUEB0X",
        "outputId": "a9ff8219-d93b-4601-96b4-2df3f155b867"
      },
      "outputs": [
        {
          "name": "stdout",
          "output_type": "stream",
          "text": [
            "This is python\n",
            "This is python\n",
            "C\n",
            "This is multiline string with more than one line\n",
            "😀😆🤣\n",
            "raw \\n string\n"
          ]
        }
      ],
      "source": [
        "print(string)\n",
        "print(strings)\n",
        "print(char)\n",
        "print(multiline_str)\n",
        "print(unicode)\n",
        "print(raw_str)"
      ]
    },
    {
      "cell_type": "code",
      "execution_count": null,
      "metadata": {
        "colab": {
          "base_uri": "https://localhost:8080/"
        },
        "id": "xZVVUHhHFaU0",
        "outputId": "36723c76-cb3b-4aae-b6ca-96fdd672eb75"
      },
      "outputs": [
        {
          "name": "stdout",
          "output_type": "stream",
          "text": [
            "a: 5\n",
            "b: 4\n"
          ]
        }
      ],
      "source": [
        "a=True+4\n",
        "b=False+4\n",
        "print(\"a:\",a)\n",
        "print(\"b:\",b)\n",
        "#True is taken as 1 and False as 0\n",
        "#python treats booleans as numbers in mathematical expressions"
      ]
    },
    {
      "cell_type": "code",
      "execution_count": null,
      "metadata": {
        "colab": {
          "base_uri": "https://localhost:8080/"
        },
        "id": "VTjyWjvBF_U6",
        "outputId": "f693dc8a-164e-4291-c6ce-579bb8f42be3"
      },
      "outputs": [
        {
          "name": "stdout",
          "output_type": "stream",
          "text": [
            "None\n"
          ]
        }
      ],
      "source": [
        "a=None\n",
        "print(a)"
      ]
    },
    {
      "cell_type": "code",
      "execution_count": null,
      "metadata": {
        "colab": {
          "base_uri": "https://localhost:8080/"
        },
        "id": "p7pkhn7pGsFF",
        "outputId": "2c10e0ee-477e-4e46-f194-98186a00fc1e"
      },
      "outputs": [
        {
          "name": "stdout",
          "output_type": "stream",
          "text": [
            "Nitishendra\n"
          ]
        }
      ],
      "source": [
        "k=None\n",
        "a=5\n",
        "b=6\n",
        "print(\"Nitishendra\")\n",
        "#in this way k can be declared to be used for future use without giving an error"
      ]
    },
    {
      "cell_type": "code",
      "execution_count": null,
      "metadata": {
        "colab": {
          "base_uri": "https://localhost:8080/"
        },
        "id": "PypL_4Q-XoYc",
        "outputId": "76123c03-f5ec-40ed-dc10-a66e6b0b5e2f"
      },
      "outputs": [
        {
          "name": "stdout",
          "output_type": "stream",
          "text": [
            "2.5\n",
            "2\n",
            "1\n",
            "25\n"
          ]
        }
      ],
      "source": [
        "print(5/2)#This is normal division\n",
        "print(5//2)#This is integer division\n",
        "print(5%2)#Returns remainder\n",
        "print(5**2)#returns 5 to the power"
      ]
    },
    {
      "cell_type": "code",
      "execution_count": null,
      "metadata": {
        "colab": {
          "base_uri": "https://localhost:8080/"
        },
        "id": "tJzDImAfTZ8l",
        "outputId": "e8de531b-5c42-4e32-9682-f7bb441b49a3"
      },
      "outputs": [
        {
          "name": "stdout",
          "output_type": "stream",
          "text": [
            "0\n",
            "1\n",
            "False\n"
          ]
        }
      ],
      "source": [
        "print(1 and 0)\n",
        "print(1 or 0)\n",
        "print(not 1)#python considers 0 as False"
      ]
    },
    {
      "cell_type": "code",
      "execution_count": null,
      "metadata": {
        "colab": {
          "base_uri": "https://localhost:8080/"
        },
        "id": "CtbhdOouX2d-",
        "outputId": "8691f1e5-67b7-4417-9ef8-8ce04757dafb"
      },
      "outputs": [
        {
          "name": "stdout",
          "output_type": "stream",
          "text": [
            "2\n",
            "3\n",
            "1\n",
            "-4\n",
            "20\n",
            "1\n"
          ]
        }
      ],
      "source": [
        "#Bitwise\n",
        "print(2 & 3)\n",
        "#bitwise or\n",
        "print(2 | 3)\n",
        "#bitwise xor\n",
        "print(2 ^ 3)\n",
        "print(~3)\n",
        "#<< this operator shifts bits 2 position to the left\n",
        "print(5<<2)\n",
        "#>> this operator shifts bits 2 position to the right\n",
        "print(4>>2)"
      ]
    },
    {
      "cell_type": "code",
      "execution_count": null,
      "metadata": {
        "colab": {
          "base_uri": "https://localhost:8080/"
        },
        "id": "LtVGNFdy6__M",
        "outputId": "2b3ac3d9-8a74-4e91-e6c2-37486f09675b"
      },
      "outputs": [
        {
          "name": "stdout",
          "output_type": "stream",
          "text": [
            "True\n"
          ]
        }
      ],
      "source": [
        "#in and not in is a Membership operator\n",
        "print('D' in 'Delhi')\n",
        "#& is bitwise and operator, and is commonly used but & is a bitwise operator"
      ]
    },
    {
      "cell_type": "code",
      "execution_count": null,
      "metadata": {
        "colab": {
          "base_uri": "https://localhost:8080/"
        },
        "id": "q-Q-ccVx7MNv",
        "outputId": "6ff59610-c4e8-4ff3-94a6-5056474d0cad"
      },
      "outputs": [
        {
          "name": "stdout",
          "output_type": "stream",
          "text": [
            "False\n"
          ]
        }
      ],
      "source": [
        "print('D' not in 'Delhi')"
      ]
    },
    {
      "cell_type": "code",
      "execution_count": null,
      "metadata": {
        "colab": {
          "base_uri": "https://localhost:8080/"
        },
        "id": "cvJxIC6I7eFx",
        "outputId": "df587afb-f944-49cd-a3e3-5472d57f3ec6"
      },
      "outputs": [
        {
          "name": "stdout",
          "output_type": "stream",
          "text": [
            "True\n"
          ]
        }
      ],
      "source": [
        "print(10 in [1,2,3,4,5,10,11,12,14,15,16])\n",
        "#>,>=,==.< are relational operators"
      ]
    },
    {
      "cell_type": "code",
      "execution_count": null,
      "metadata": {
        "colab": {
          "base_uri": "https://localhost:8080/"
        },
        "id": "C6R0XWvKDqnc",
        "outputId": "83b90adf-5566-4f13-e3dd-4faaa63545f4"
      },
      "outputs": [
        {
          "name": "stdout",
          "output_type": "stream",
          "text": [
            "Enter the number: 647\n",
            "17\n"
          ]
        }
      ],
      "source": [
        "#finding sum of number in a digit\n",
        "pm=int(input(\"Enter the number: \"))\n",
        "a=pm\n",
        "sum=0\n",
        "while a!=0:\n",
        "  sum+=a%10\n",
        "  a=a//10\n",
        "print(sum)\n",
        "#% gives remainder and // gives quotient in integer form"
      ]
    },
    {
      "cell_type": "code",
      "execution_count": null,
      "metadata": {
        "colab": {
          "base_uri": "https://localhost:8080/"
        },
        "id": "6CgUjvU8EzVN",
        "outputId": "70877208-1ae7-4c6c-ff9a-e2760b1fc74e"
      },
      "outputs": [
        {
          "name": "stdout",
          "output_type": "stream",
          "text": [
            "Enter the email: shami\n",
            "enter the password: 1777778\n",
            "wrong credentials\n"
          ]
        }
      ],
      "source": [
        "email=input(\"Enter the email: \")\n",
        "password=input(\"enter the password: \")\n",
        "if email==\"shaktisaurabh06@gmail.com\" and password==\"1234\":\n",
        "  print(\"welcome\")\n",
        "elif email==\"shaktisaurabh06@gmail.com\" and password!=\"1234\":\n",
        "  print(\"Try once more\")\n",
        "  password=input(\"enter the password: \")\n",
        "  if password==\"1234\":\n",
        "    print(\"Welcome finally\")\n",
        "  else:\n",
        "    print(\"wrong\")\n",
        "else:\n",
        "  print(\"wrong credentials\")"
      ]
    },
    {
      "cell_type": "code",
      "execution_count": null,
      "metadata": {
        "colab": {
          "base_uri": "https://localhost:8080/"
        },
        "id": "Qz6Mg-j5ojNl",
        "outputId": "df6c22f4-2052-45b0-8795-8ef7040690e8"
      },
      "outputs": [
        {
          "name": "stdout",
          "output_type": "stream",
          "text": [
            "Enter the first number: 10\n",
            "Enter the 2nd number: 20\n",
            "Enter the 3rd number: 30\n",
            "minimum number is  10\n"
          ]
        }
      ],
      "source": [
        "#min of 3 numbers\n",
        "a=int(input(\"Enter the first number: \"))\n",
        "b=int(input(\"Enter the 2nd number: \"))\n",
        "c=int(input(\"Enter the 3rd number: \"))\n",
        "min=None\n",
        "if a<b:\n",
        "  min=a\n",
        "  if a<c:\n",
        "    min=a\n",
        "  else:\n",
        "    min=c\n",
        "else:\n",
        "  min=b\n",
        "  if b<c:\n",
        "    min=b\n",
        "  else:\n",
        "    min=c\n",
        "print(\"minimum number is \",min)\n"
      ]
    },
    {
      "cell_type": "code",
      "execution_count": null,
      "metadata": {
        "colab": {
          "base_uri": "https://localhost:8080/"
        },
        "id": "IVNvsmfYs7Uj",
        "outputId": "07f29856-7da2-4993-f321-ac85d3988e75"
      },
      "outputs": [
        {
          "name": "stdout",
          "output_type": "stream",
          "text": [
            "Enter the first number: 6\n",
            "Enter the second number: 10\n",
            "Enter the third number: 2\n",
            "2  is minimum\n"
          ]
        }
      ],
      "source": [
        "#min of 3 numbers\n",
        "a=int(input(\"Enter the first number: \"))\n",
        "b=int(input(\"Enter the second number: \"))\n",
        "c=int(input(\"Enter the third number: \"))\n",
        "min=None\n",
        "if a<b and a<c:\n",
        "  print(a,\" is minimum\")\n",
        "elif b<c:#if a is not minimum then above if condition fails\n",
        "  print(b,\" is minimum\")\n",
        "else:#if the above 2 condition fails then neither a is minimum nor b is minimum, so it comes to the else part and c gets printed\n",
        "  print(c,\" is minimum\")"
      ]
    },
    {
      "cell_type": "code",
      "execution_count": null,
      "metadata": {
        "colab": {
          "base_uri": "https://localhost:8080/"
        },
        "id": "rYCxwa7eyprz",
        "outputId": "b5d17899-8851-4ea5-d0dd-2e0f49f94c6d"
      },
      "outputs": [
        {
          "name": "stdout",
          "output_type": "stream",
          "text": [
            "Enter the first number: 10\n",
            "Enter the second number: 10\n",
            "Enter the third number: 10\n",
            "All are same\n"
          ]
        }
      ],
      "source": [
        "#min of 3 numbers\n",
        "a=int(input(\"Enter the first number: \"))\n",
        "b=int(input(\"Enter the second number: \"))\n",
        "c=int(input(\"Enter the third number: \"))\n",
        "min=None\n",
        "if a<b and a<c:\n",
        "  print(a,\" is minimum\")\n",
        "elif b<c:#if a is not minimum then above if condition fails\n",
        "  print(b,\" is minimum\")\n",
        "elif c<b:#if the above 2 condition fails then neither a is minimum nor b is minimum, so it comes to the else part and c gets printed\n",
        "  print(c,\" is minimum\")\n",
        "else:\n",
        "  print(\"All are same\")"
      ]
    },
    {
      "cell_type": "code",
      "execution_count": null,
      "metadata": {
        "colab": {
          "base_uri": "https://localhost:8080/"
        },
        "id": "YzZTRbUWPCWH",
        "outputId": "d322bfe8-74ab-42a7-fb8c-b6b0ece0ed2c"
      },
      "outputs": [
        {
          "name": "stdout",
          "output_type": "stream",
          "text": [
            "['False', 'None', 'True', 'and', 'as', 'assert', 'async', 'await', 'break', 'class', 'continue', 'def', 'del', 'elif', 'else', 'except', 'finally', 'for', 'from', 'global', 'if', 'import', 'in', 'is', 'lambda', 'nonlocal', 'not', 'or', 'pass', 'raise', 'return', 'try', 'while', 'with', 'yield']\n"
          ]
        }
      ],
      "source": [
        "#module is a file containing functions which can be imported\n",
        "import keyword\n",
        "print(keyword.kwlist)"
      ]
    },
    {
      "cell_type": "code",
      "execution_count": null,
      "metadata": {
        "colab": {
          "base_uri": "https://localhost:8080/"
        },
        "id": "TjjKEs_3SkB3",
        "outputId": "2e757bfe-5f7c-45e3-aa89-6178df7ce284"
      },
      "outputs": [
        {
          "name": "stdout",
          "output_type": "stream",
          "text": [
            "79\n"
          ]
        }
      ],
      "source": [
        "import random\n",
        "print(random.randint(1,100))"
      ]
    },
    {
      "cell_type": "code",
      "execution_count": null,
      "metadata": {
        "colab": {
          "base_uri": "https://localhost:8080/"
        },
        "id": "VJ6Og3DsYKyR",
        "outputId": "cc5537af-7774-4be1-9691-a6ea1419518b"
      },
      "outputs": [
        {
          "name": "stdout",
          "output_type": "stream",
          "text": [
            "\n",
            "Please wait a moment while I gather a list of all available modules...\n",
            "\n"
          ]
        },
        {
          "name": "stderr",
          "output_type": "stream",
          "text": [
            "/usr/local/lib/python3.10/dist-packages/IPython/kernel/__init__.py:12: ShimWarning: The `IPython.kernel` package has been deprecated since IPython 4.0.You should import from ipykernel or jupyter_client instead.\n",
            "  warn(\"The `IPython.kernel` package has been deprecated since IPython 4.0.\"\n",
            "/usr/local/lib/python3.10/dist-packages/altair/vega/v5/__init__.py:18: AltairDeprecationWarning: The module altair.vega.v5 is deprecated and will be removed in Altair 5.\n",
            "  warnings.warn(\n",
            "/usr/local/lib/python3.10/dist-packages/altair/vegalite/v3/__init__.py:29: AltairDeprecationWarning: The module altair.vegalite.v3 is deprecated and will be removed in Altair 5. Use `import altair as alt` instead of `import altair.vegalite.v3 as alt`.\n",
            "  warnings.warn(\n",
            "/usr/local/lib/python3.10/dist-packages/jupyter_client/ssh/tunnel.py:57: DeprecationWarning:\n",
            "\n",
            "zmq.utils.strtypes is deprecated in pyzmq 23.\n",
            "\n",
            "/usr/local/lib/python3.10/dist-packages/llvmlite/llvmpy/__init__.py:3: UserWarning:\n",
            "\n",
            "The module `llvmlite.llvmpy` is deprecated and will be removed in the future.\n",
            "\n"
          ]
        },
        {
          "name": "stdout",
          "output_type": "stream",
          "text": [
            "Downloading http://dlib.net/files/shape_predictor_68_face_landmarks.dat.bz2 to /root/mlxtend_data/shape_predictor_68_face_landmarks.dat.bz2\n"
          ]
        },
        {
          "name": "stderr",
          "output_type": "stream",
          "text": [
            "/usr/local/lib/python3.10/dist-packages/moviepy/video/fx/painting.py:7: DeprecationWarning:\n",
            "\n",
            "Please use `sobel` from the `scipy.ndimage` namespace, the `scipy.ndimage.filters` namespace is deprecated.\n",
            "\n",
            "/usr/local/lib/python3.10/dist-packages/nibabel/pkg_info.py:73: DeprecationWarning:\n",
            "\n",
            "distutils Version classes are deprecated. Use packaging.version instead.\n",
            "\n",
            "/usr/local/lib/python3.10/dist-packages/nibabel/quaternions.py:31: DeprecationWarning:\n",
            "\n",
            "`np.float` is a deprecated alias for the builtin `float`. To silence this warning, use `float` by itself. Doing this will not modify any behavior and is safe. If you specifically wanted the numpy scalar type, use `np.float64` here.\n",
            "Deprecated in NumPy 1.20; for more details and guidance: https://numpy.org/devdocs/release/1.20.0-notes.html#deprecations\n",
            "\n",
            "/usr/lib/python3.10/pkgutil.py:92: UserWarning:\n",
            "\n",
            "The DICOM readers are highly experimental, unstable, and only work for Siemens time-series at the moment\n",
            "Please use with caution.  We would be grateful for your help in improving them\n",
            "\n",
            "/usr/local/lib/python3.10/dist-packages/nltk/twitter/__init__.py:20: UserWarning:\n",
            "\n",
            "The twython library has not been installed. Some functionality from the twitter package will not be available.\n",
            "\n",
            "/usr/local/lib/python3.10/dist-packages/notebook/utils.py:280: DeprecationWarning:\n",
            "\n",
            "distutils Version classes are deprecated. Use packaging.version instead.\n",
            "\n",
            "/usr/local/lib/python3.10/dist-packages/setuptools/_distutils/msvccompiler.py:66: DeprecationWarning:\n",
            "\n",
            "msvccompiler is deprecated and slated to be removed in the future. Please discontinue use or file an issue with pypa/distutils describing your use case.\n",
            "\n",
            "/usr/lib/python3.10/pkgutil.py:92: UserWarning:\n",
            "\n",
            "The numpy.array_api submodule is still experimental. See NEP 47.\n",
            "\n",
            "/usr/local/lib/python3.10/dist-packages/matplotlib_inline/config.py:68: DeprecationWarning:\n",
            "\n",
            "InlineBackend._figure_format_changed is deprecated in traitlets 4.1: use @observe and @unobserve instead.\n",
            "\n",
            "/usr/local/lib/python3.10/dist-packages/pandas_datareader/compat/__init__.py:11: DeprecationWarning:\n",
            "\n",
            "distutils Version classes are deprecated. Use packaging.version instead.\n",
            "\n",
            "/usr/local/lib/python3.10/dist-packages/pip/_vendor/pkg_resources/__init__.py:121: DeprecationWarning:\n",
            "\n",
            "pkg_resources is deprecated as an API\n",
            "\n",
            "/usr/local/lib/python3.10/dist-packages/pip/_vendor/pkg_resources/__init__.py:2870: DeprecationWarning:\n",
            "\n",
            "Deprecated call to `pkg_resources.declare_namespace('google')`.\n",
            "Implementing implicit namespace packages (as specified in PEP 420) is preferred to `pkg_resources.declare_namespace`. See https://setuptools.pypa.io/en/latest/references/keywords.html#keyword-namespace-packages\n",
            "\n",
            "/usr/local/lib/python3.10/dist-packages/pip/_vendor/pkg_resources/__init__.py:2870: DeprecationWarning:\n",
            "\n",
            "Deprecated call to `pkg_resources.declare_namespace('google.cloud')`.\n",
            "Implementing implicit namespace packages (as specified in PEP 420) is preferred to `pkg_resources.declare_namespace`. See https://setuptools.pypa.io/en/latest/references/keywords.html#keyword-namespace-packages\n",
            "\n",
            "/usr/local/lib/python3.10/dist-packages/pip/_vendor/pkg_resources/__init__.py:2870: DeprecationWarning:\n",
            "\n",
            "Deprecated call to `pkg_resources.declare_namespace('google.logging')`.\n",
            "Implementing implicit namespace packages (as specified in PEP 420) is preferred to `pkg_resources.declare_namespace`. See https://setuptools.pypa.io/en/latest/references/keywords.html#keyword-namespace-packages\n",
            "\n",
            "/usr/local/lib/python3.10/dist-packages/pip/_vendor/pkg_resources/__init__.py:2870: DeprecationWarning:\n",
            "\n",
            "Deprecated call to `pkg_resources.declare_namespace('google.iam')`.\n",
            "Implementing implicit namespace packages (as specified in PEP 420) is preferred to `pkg_resources.declare_namespace`. See https://setuptools.pypa.io/en/latest/references/keywords.html#keyword-namespace-packages\n",
            "\n",
            "/usr/local/lib/python3.10/dist-packages/pip/_vendor/pkg_resources/__init__.py:2870: DeprecationWarning:\n",
            "\n",
            "Deprecated call to `pkg_resources.declare_namespace('mpl_toolkits')`.\n",
            "Implementing implicit namespace packages (as specified in PEP 420) is preferred to `pkg_resources.declare_namespace`. See https://setuptools.pypa.io/en/latest/references/keywords.html#keyword-namespace-packages\n",
            "\n",
            "/usr/local/lib/python3.10/dist-packages/pip/_vendor/pkg_resources/__init__.py:2870: DeprecationWarning:\n",
            "\n",
            "Deprecated call to `pkg_resources.declare_namespace('sphinxcontrib')`.\n",
            "Implementing implicit namespace packages (as specified in PEP 420) is preferred to `pkg_resources.declare_namespace`. See https://setuptools.pypa.io/en/latest/references/keywords.html#keyword-namespace-packages\n",
            "\n",
            "/usr/lib/python3.10/pkgutil.py:92: UserWarning: viewer requires Qt\n",
            "/usr/local/lib/python3.10/dist-packages/sphinx/util/docutils.py:15: DeprecationWarning: The distutils package is deprecated and slated for removal in Python 3.12. Use setuptools or check PEP 632 for potential alternatives\n",
            "/usr/local/lib/python3.10/dist-packages/tensorboard/_vendor/html5lib/filters/sanitizer.py:29: DeprecationWarning: html5lib's sanitizer is deprecated; see https://github.com/html5lib/html5lib-python/issues/443 and please let us know if Bleach is unsuitable for your needs\n",
            "/usr/local/lib/python3.10/dist-packages/torch/distributed/_shard/checkpoint/__init__.py:8: DeprecationWarning: torch.distributed._shard.checkpoint will be deprecated, use torch.distributed.checkpoint instead\n",
            "/usr/local/lib/python3.10/dist-packages/torch/distributed/_sharded_tensor/__init__.py:8: DeprecationWarning: torch.distributed._sharded_tensor will be deprecated, use torch.distributed._shard.sharded_tensor instead\n",
            "/usr/local/lib/python3.10/dist-packages/torch/distributed/_sharding_spec/__init__.py:8: DeprecationWarning: torch.distributed._sharding_spec will be deprecated, use torch.distributed._shard.sharding_spec instead\n",
            "No CUDA runtime is found, using CUDA_HOME='/usr/local/cuda'\n",
            "/usr/local/lib/python3.10/dist-packages/torchvision/datapoints/__init__.py:12: UserWarning: The torchvision.datapoints and torchvision.transforms.v2 namespaces are still Beta. While we do not expect major breaking changes, some APIs may still change according to user feedback. Please submit any feedback you may have in this issue: https://github.com/pytorch/vision/issues/6753, and you can also check out https://github.com/pytorch/vision/issues/7319 to learn more about the APIs that we suspect might involve future changes. You can silence this warning by calling torchvision.disable_beta_transforms_warning().\n",
            "/usr/local/lib/python3.10/dist-packages/torchvision/transforms/v2/__init__.py:54: UserWarning: The torchvision.datapoints and torchvision.transforms.v2 namespaces are still Beta. While we do not expect major breaking changes, some APIs may still change according to user feedback. Please submit any feedback you may have in this issue: https://github.com/pytorch/vision/issues/6753, and you can also check out https://github.com/pytorch/vision/issues/7319 to learn more about the APIs that we suspect might involve future changes. You can silence this warning by calling torchvision.disable_beta_transforms_warning().\n",
            "/usr/lib/python3.10/pkgutil.py:107: VisibleDeprecationWarning: zmq.eventloop.minitornado is deprecated in pyzmq 14.0 and will be removed.\n",
            "    Install tornado itself to use zmq with the tornado IOLoop.\n",
            "    \n"
          ]
        },
        {
          "name": "stdout",
          "output_type": "stream",
          "text": [
            "Cython              code                keras               requests_unixsocket\n",
            "IPython             codecs              keyword             requirements\n",
            "OpenGL              codeop              kiwisolver          resource\n",
            "PIL                 collections         langcodes           rich\n",
            "__future__          colorcet            lazy_loader         rlcompleter\n",
            "_abc                colorlover          lib2to3             rmagic\n",
            "_aix_support        colorsys            libfuturize         rpy2\n",
            "_argon2_cffi_bindings community           libpasteurize       rsa\n",
            "_ast                compileall          librosa             runpy\n",
            "_asyncio            concurrent          lightgbm            sched\n",
            "_bisect             confection          linecache           scipy\n",
            "_blake2             configparser        lit                 scs\n",
            "_bootsubprocess     cons                llvmlite            seaborn\n",
            "_bz2                contextlib          locale              secrets\n",
            "_cffi_backend       contextlib2         locket              select\n",
            "_codecs             contextvars         logging             selectors\n",
            "_codecs_cn          contourpy           lsb_release         send2trash\n",
            "_codecs_hk          convertdate         lunarcalendar       setuptools\n",
            "_codecs_iso2022     copy                lxml                shapely\n",
            "_codecs_jp          copyreg             lzma                shelve\n",
            "_codecs_kr          cpuinfo             mailbox             shlex\n",
            "_codecs_tw          crypt               mailcap             shutil\n",
            "_collections        csv                 markdown            signal\n",
            "_collections_abc    ctypes              markdown_it         site\n",
            "_compat_pickle      cufflinks           markupsafe          sitecustomize\n",
            "_compression        curses              marshal             six\n",
            "_contextvars        cv2                 math                skimage\n",
            "_crypt              cvxopt              matplotlib          sklearn\n",
            "_csv                cvxpy               matplotlib_inline   sklearn_pandas\n",
            "_ctypes             cycler              matplotlib_venn     slugify\n",
            "_ctypes_test        cymem               mdurl               smart_open\n",
            "_curses             cython              mimetypes           smtpd\n",
            "_curses_panel       cythonmagic         missingno           smtplib\n",
            "_cvxcore            dask                mistune             sndhdr\n",
            "_datetime           dataclasses         mizani              sniffio\n",
            "_dbm                datascience         ml_dtypes           snowballstemmer\n",
            "_decimal            datetime            mlxtend             socket\n",
            "_distutils_hack     dateutil            mmap                socketserver\n",
            "_dlib_pybind11      db_dtypes           modulefinder        socks\n",
            "_ecos               dbm                 more_itertools      sockshandler\n",
            "_elementtree        dbus                moviepy             softwareproperties\n",
            "_functools          debugpy             mpmath              sortedcontainers\n",
            "_hashlib            decimal             msgpack             soundfile\n",
            "_heapq              decorator           multidict           soupsieve\n",
            "_imp                defusedxml          multipledispatch    soxr\n",
            "_io                 difflib             multiprocessing     spacy\n",
            "_json               dis                 multitasking        spacy_legacy\n",
            "_locale             distributed         murmurhash          spacy_loggers\n",
            "_lsprof             distutils           music21             sphinx\n",
            "_lzma               dlib                natsort             spwd\n",
            "_markupbase         doctest             nbclient            sql\n",
            "_md5                docutils            nbconvert           sqlalchemy\n",
            "_multibytecodec     dopamine            nbformat            sqlite3\n",
            "_multiprocessing    dot_parser          nest_asyncio        sqlparse\n",
            "_opcode             duckdb              netrc               sre_compile\n",
            "_operator           easydict            networkx            sre_constants\n",
            "_osx_support        ecos                nibabel             sre_parse\n",
            "_pickle             editdistance        nis                 srsly\n",
            "_plotly_future_     ee                  nisext              ssl\n",
            "_plotly_utils       email               nltk                stat\n",
            "_posixshmem         en_core_web_sm      nntplib             statistics\n",
            "_posixsubprocess    encodings           notebook            statsmodels\n",
            "_py_abc             entrypoints         ntpath              storemagic\n",
            "_pydecimal          enum                nturl2path          string\n",
            "_pyio               ephem               numba               stringprep\n",
            "_pyrsistent_version erfa                numbergen           struct\n",
            "_pytest             errno               numbers             subprocess\n",
            "_queue              et_xmlfile          numexpr             sunau\n",
            "_random             etils               numpy               sympy\n",
            "_rinterface_cffi_abi etuples             nvfuser             sympyprinting\n",
            "_rinterface_cffi_api exceptiongroup      oauth2client        symtable\n",
            "_scs_direct         fastai              oauthlib            sys\n",
            "_scs_indirect       fastcore            opcode              sysconfig\n",
            "_sha1               fastdownload        openpyxl            syslog\n",
            "_sha256             fastjsonschema      operator            tables\n",
            "_sha3               fastprogress        opt_einsum          tabnanny\n",
            "_sha512             fastrlock           optax               tabulate\n",
            "_signal             faulthandler        optparse            tarfile\n",
            "_sitebuiltins       fcntl               os                  tblib\n",
            "_socket             filecmp             osgeo               telnetlib\n",
            "_soundfile          fileinput           osgeo_utils         tempfile\n",
            "_soundfile_data     filelock            osqp                tenacity\n",
            "_sqlite3            fiona               osqppurepy          tensorboard\n",
            "_sre                firebase_admin      ossaudiodev         tensorboard_data_server\n",
            "_ssl                flask               packaging           tensorflow\n",
            "_stat               flatbuffers         palettable          tensorflow_datasets\n",
            "_statistics         flax                pandas              tensorflow_estimator\n",
            "_string             fnmatch             pandas_datareader   tensorflow_gcs_config\n",
            "_strptime           folium              pandas_gbq          tensorflow_hub\n",
            "_struct             fontTools           pandocfilters       tensorflow_io_gcs_filesystem\n",
            "_symtable           fractions           panel               tensorflow_metadata\n",
            "_sysconfigdata__linux_x86_64-linux-gnu frozendict          param               tensorflow_probability\n",
            "_sysconfigdata__x86_64-linux-gnu frozenlist          parso               tensorstore\n",
            "_testbuffer         fsspec              partd               termcolor\n",
            "_testcapi           ftplib              past                terminado\n",
            "_testclinic         functools           pasta               termios\n",
            "_testimportmultiple functorch           pathlib             test\n",
            "_testinternalcapi   future              pathy               tests\n",
            "_testmultiphase     gast                patsy               text_unidecode\n",
            "_thread             gc                  pdb                 textblob\n",
            "_threading_local    gcsfs               pexpect             textwrap\n",
            "_tkinter            gdown               pickle              tf_slim\n",
            "_tracemalloc        genericpath         pickleshare         thinc\n",
            "_uuid               gensim              pickletools         this\n",
            "_warnings           geographiclib       pip                 threading\n",
            "_weakref            geopandas           pipes               threadpoolctl\n",
            "_weakrefset         geopy               piptools            tifffile\n",
            "_xxsubinterpreters  getopt              pkg_resources       time\n",
            "_xxtestfuzz         getpass             pkgutil             timeit\n",
            "_yaml               gettext             platform            tinycss2\n",
            "_zoneinfo           gi                  platformdirs        tkinter\n",
            "abc                 gin                 plistlib            tlz\n",
            "absl                glob                plotly              token\n",
            "aifc                glob2               plotnine            tokenize\n",
            "aiohttp             google_auth_httplib2 pluggy              toml\n",
            "aiosignal           google_auth_oauthlib polars              tomli\n",
            "alabaster           google_crc32c       pooch               toolz\n",
            "albumentations      google_drive_downloader poplib              torch\n",
            "altair              googleapiclient     portpicker          torchaudio\n",
            "antigravity         googlesearch        posix               torchdata\n",
            "anyio               graphlib            posixpath           torchgen\n",
            "apiclient           graphviz            pprint              torchsummary\n",
            "appdirs             greenlet            prefetch_generator  torchtext\n",
            "apt                 grp                 preshed             torchvision\n",
            "apt_inst            grpc                prettytable         tornado\n",
            "apt_pkg             grpc_status         profile             tqdm\n",
            "aptsources          gspread             proglog             trace\n",
            "argon2              gspread_dataframe   progressbar         traceback\n",
            "argparse            gym                 prometheus_client   tracemalloc\n",
            "array               gym_notices         promise             traitlets\n",
            "array_record        gzip                prompt_toolkit      tree\n",
            "arviz               h5netcdf            prophet             triton\n",
            "ast                 h5py                proto               tty\n",
            "astropy             hashlib             pstats              turtle\n",
            "astunparse          heapq               psutil              tweepy\n",
            "async_timeout       hmac                psycopg2            typer\n",
            "asynchat            holidays            pty                 types\n",
            "asyncio             holoviews           ptyprocess          typing\n",
            "asyncore            html                pwd                 typing_extensions\n",
            "atexit              html5lib            py                  tzlocal\n",
            "attr                http                py4j                unicodedata\n",
            "attrs               httpimport          py_compile          unification\n",
            "audioop             httplib2            pyarrow             unittest\n",
            "audioread           humanize            pyasn1              uritemplate\n",
            "autograd            hyperopt            pyasn1_modules      urllib\n",
            "autoreload          idna                pyclbr              urllib3\n",
            "babel               imageio             pycocotools         uu\n",
            "backcall            imageio_ffmpeg      pycparser           uuid\n",
            "base64              imagesize           pyct                vega_datasets\n",
            "bdb                 imaplib             pydantic            venv\n",
            "bin                 imblearn            pydata_google_auth  warnings\n",
            "binascii            imgaug              pydoc               wasabi\n",
            "binhex              imghdr              pydoc_data          wave\n",
            "bisect              imp                 pydot               wcwidth\n",
            "bleach              importlib           pydot_ng            weakref\n",
            "blis                importlib_resources pydotplus           webbrowser\n",
            "blosc2              imutils             pydrive             webcolors\n",
            "bokeh               inflect             pyexpat             webencodings\n",
            "boost               iniconfig           pygame              websocket\n",
            "branca              inspect             pygments            werkzeug\n",
            "bs4                 io                  pygtkcompat         wheel\n",
            "build               ipaddress           pylab               widgetsnbextension\n",
            "builtins            ipykernel           pymc                wordcloud\n",
            "bz2                 ipykernel_launcher  pymeeus             wrapt\n",
            "cProfile            ipython_genutils    pymystem3           wsgiref\n",
            "cachecontrol        ipywidgets          pyparsing           xarray\n",
            "cached_property     isympy              pyproj              xarray_einstats\n",
            "cachetools          itertools           pyproject_hooks     xdrlib\n",
            "calendar            itsdangerous        pyrsistent          xgboost\n",
            "catalogue           jax                 pytensor            xlrd\n",
            "certifi             jaxlib              pytest              xml\n",
            "cffi                jieba               python_utils        xmlrpc\n",
            "cgi                 jinja2              pytz                xxlimited\n",
            "cgitb               joblib              pyviz_comms         xxlimited_35\n",
            "chardet             json                pywt                xxsubtype\n",
            "charset_normalizer  jsonpickle          pyximport           yaml\n",
            "chex                jsonschema          qdldl               yarl\n",
            "chunk               jupyter             qudida              yellowbrick\n",
            "clang               jupyter_client      queue               yfinance\n",
            "click               jupyter_console     quopri              zict\n",
            "click_plugins       jupyter_core        random              zipapp\n",
            "cligj               jupyter_server      re                  zipfile\n",
            "cloudpickle         jupyterlab_plotly   readline            zipimport\n",
            "cmake               jupyterlab_pygments regex               zipp\n",
            "cmath               jupyterlab_widgets  reprlib             zlib\n",
            "cmd                 kaggle              requests            zmq\n",
            "cmdstanpy           kanren              requests_oauthlib   zoneinfo\n",
            "\n",
            "Enter any module name to get more help.  Or, type \"modules spam\" to search\n",
            "for modules whose name or summary contain the string \"spam\".\n",
            "\n"
          ]
        }
      ],
      "source": [
        "help('modules') #prints list of all modules"
      ]
    },
    {
      "cell_type": "code",
      "execution_count": null,
      "metadata": {
        "colab": {
          "base_uri": "https://localhost:8080/"
        },
        "id": "KL2Mhw6jYcp7",
        "outputId": "d6d8d103-689e-4445-cbb5-e9f530abf19c"
      },
      "outputs": [
        {
          "name": "stderr",
          "output_type": "stream",
          "text": [
            "/usr/local/lib/python3.10/dist-packages/ipykernel/ipkernel.py:283: DeprecationWarning: `should_run_async` will not call `transform_cell` automatically in the future. Please pass the result to `transformed_cell` argument and any exception that happen during thetransform in `preprocessing_exc_tuple` in IPython 7.17 and above.\n"
          ]
        },
        {
          "name": "stdout",
          "output_type": "stream",
          "text": [
            "Enter the number: 4\n",
            "4*1= 4\n",
            "4*2= 8\n",
            "4*3= 12\n",
            "4*4= 16\n",
            "4*5= 20\n",
            "4*6= 24\n",
            "4*7= 28\n",
            "4*8= 32\n",
            "4*9= 36\n",
            "4*10= 40\n"
          ]
        }
      ],
      "source": [
        "a=int(input(\"Enter the number: \"))\n",
        "i=1\n",
        "while i<=10:\n",
        "  print(f\"{a}*{i}=\",a*i)\n",
        "  i+=1"
      ]
    },
    {
      "cell_type": "code",
      "execution_count": null,
      "metadata": {
        "colab": {
          "base_uri": "https://localhost:8080/"
        },
        "id": "OgC4VSKoj1Gv",
        "outputId": "1ddcc204-7cd9-415f-f2a7-fec2c54a43d2"
      },
      "outputs": [
        {
          "name": "stderr",
          "output_type": "stream",
          "text": [
            "/usr/local/lib/python3.10/dist-packages/ipykernel/ipkernel.py:283: DeprecationWarning: `should_run_async` will not call `transform_cell` automatically in the future. Please pass the result to `transformed_cell` argument and any exception that happen during thetransform in `preprocessing_exc_tuple` in IPython 7.17 and above.\n"
          ]
        },
        {
          "name": "stdout",
          "output_type": "stream",
          "text": [
            "Enter the number: 12\n",
            "12 * 1 = 12\n",
            "12 * 2 = 24\n",
            "12 * 3 = 36\n",
            "12 * 4 = 48\n",
            "12 * 5 = 60\n",
            "12 * 6 = 72\n",
            "12 * 7 = 84\n",
            "12 * 8 = 96\n",
            "12 * 9 = 108\n",
            "12 * 10 = 120\n"
          ]
        }
      ],
      "source": [
        "a=int(input(\"Enter the number: \"))\n",
        "i=1\n",
        "while i<=10:\n",
        "  print(a,\"*\",i,\"=\",a*i)\n",
        "  i+=1"
      ]
    },
    {
      "cell_type": "code",
      "execution_count": null,
      "metadata": {
        "colab": {
          "base_uri": "https://localhost:8080/"
        },
        "id": "xvSnBb79oxNy",
        "outputId": "6e2cc88d-b783-4b3f-8e1f-008319a8ed58"
      },
      "outputs": [
        {
          "name": "stdout",
          "output_type": "stream",
          "text": [
            "92\n",
            "Enter guessed number: 88\n",
            "Enter guessed number: 92\n",
            "you have guessed it right\n"
          ]
        }
      ],
      "source": [
        "import random\n",
        "a=random.randint(1,100)\n",
        "n=1\n",
        "# print(a)\n",
        "while n<4:\n",
        "  n1=int(input(\"Enter guessed number: \"))\n",
        "  if n1==a:\n",
        "    print(\"you have guessed it right\")\n",
        "    break\n",
        "  n+=1\n",
        "else:\n",
        "  print(\"what you guessed was wrong, real number is \",a)\n",
        "\n"
      ]
    },
    {
      "cell_type": "code",
      "execution_count": null,
      "metadata": {
        "colab": {
          "base_uri": "https://localhost:8080/"
        },
        "id": "50fKn2bdyXPn",
        "outputId": "736673d0-b658-43f2-8b53-2b6ae85794fe"
      },
      "outputs": [
        {
          "name": "stdout",
          "output_type": "stream",
          "text": [
            "11\n",
            "Enter guessed number: 14\n",
            "guessed number is larger\n",
            "Enter guessed number: 11\n",
            "you guessed the right number\n"
          ]
        }
      ],
      "source": [
        "import random\n",
        "a=random.randint(1,100)\n",
        "n=1\n",
        "while n<4:\n",
        "  n1=int(input(\"Enter guessed number: \"))\n",
        "  if n1>a:\n",
        "    print(\"guessed number is larger\")\n",
        "  elif n1<a:\n",
        "    print(\"guessed number is lower\")\n",
        "  else:\n",
        "    print(\"you guessed the right number\")\n",
        "    break\n",
        "  n+=1\n",
        "else:\n",
        "  print(\"You guessed the wrong numbers, actual number was \",a)"
      ]
    },
    {
      "cell_type": "code",
      "execution_count": null,
      "metadata": {
        "colab": {
          "base_uri": "https://localhost:8080/"
        },
        "id": "KHH_55At143m",
        "outputId": "5695f06e-fb61-4d94-8dbb-56ff6762a95d"
      },
      "outputs": [
        {
          "name": "stdout",
          "output_type": "stream",
          "text": [
            "Enter guessed number: 90\n",
            "guessed number is larger\n",
            "Enter guessed number again: 60\n",
            "Guessed number is lower\n",
            "Enter guessed number again: 70\n",
            "Guessed number is lower\n",
            "Enter guessed number again: 80\n",
            "Guessed number is lower\n",
            "Enter guessed number again: 84\n",
            "Guessed number is lower\n",
            "Enter guessed number again: 88\n",
            "guessed number is larger\n",
            "Enter guessed number again: 86\n",
            "Guessed number is lower\n",
            "Enter guessed number again: 87\n",
            "You guess the number right in 8th attempt\n"
          ]
        }
      ],
      "source": [
        "import random\n",
        "a=random.randint(1,100)\n",
        "n1=int(input(\"Enter guessed number: \"))\n",
        "n=1\n",
        "while a!=n1:\n",
        "  if a>n1:\n",
        "    print(\"Guessed number is lower\")\n",
        "  else:\n",
        "    print(\"guessed number is larger\")\n",
        "  n1=int(input(\"Enter guessed number again: \"))\n",
        "  n+=1\n",
        "else:\n",
        "  print(\"You guessed the number right in \",n,\"th attempt\",sep=\"\")\n"
      ]
    },
    {
      "cell_type": "code",
      "execution_count": null,
      "metadata": {
        "colab": {
          "base_uri": "https://localhost:8080/"
        },
        "id": "-5LM5NDwVswN",
        "outputId": "b458a00d-622b-46f2-a5e1-25c231bba0e9"
      },
      "outputs": [
        {
          "name": "stdout",
          "output_type": "stream",
          "text": [
            "1\n",
            "5\n",
            "9\n"
          ]
        }
      ],
      "source": [
        "for i in range(1,10,4):\n",
        "  print(i)"
      ]
    },
    {
      "cell_type": "code",
      "execution_count": null,
      "metadata": {
        "colab": {
          "base_uri": "https://localhost:8080/"
        },
        "id": "F33a_eG7Vy1U",
        "outputId": "52f09f30-497a-49e3-cba1-e5fbb65844ae"
      },
      "outputs": [
        {
          "name": "stdout",
          "output_type": "stream",
          "text": [
            "10\n",
            "9\n",
            "8\n",
            "7\n",
            "6\n",
            "5\n",
            "4\n",
            "3\n",
            "2\n",
            "1\n"
          ]
        }
      ],
      "source": [
        "for i in range(10,0,-1):\n",
        "  print(i)"
      ]
    },
    {
      "cell_type": "code",
      "execution_count": null,
      "metadata": {
        "colab": {
          "base_uri": "https://localhost:8080/"
        },
        "id": "pnX4SabmWA4V",
        "outputId": "5d9f2a6a-5623-4684-8fab-627c65810bbb"
      },
      "outputs": [
        {
          "name": "stdout",
          "output_type": "stream",
          "text": [
            "D\n",
            "e\n",
            "l\n",
            "h\n",
            "i\n"
          ]
        }
      ],
      "source": [
        "for i in 'Delhi':\n",
        "  print(i)"
      ]
    },
    {
      "cell_type": "code",
      "execution_count": null,
      "metadata": {
        "colab": {
          "base_uri": "https://localhost:8080/"
        },
        "id": "4ulSvp_MZTpO",
        "outputId": "e996d5fb-17aa-4b7a-c4e3-8efdce0ed134"
      },
      "outputs": [
        {
          "name": "stdout",
          "output_type": "stream",
          "text": [
            "0 9000.0\n",
            "1 8100.0\n",
            "2 7290.0\n",
            "3 6561.0\n",
            "4 5904.900000000001\n",
            "5 5314.410000000001\n",
            "6 4782.969000000001\n",
            "7 4304.672100000001\n",
            "8 3874.204890000001\n",
            "9 3486.784401000001\n"
          ]
        }
      ],
      "source": [
        "cp=10000\n",
        "for i in range(10):\n",
        "  cp=cp*0.9\n",
        "  print(i,cp)"
      ]
    },
    {
      "cell_type": "code",
      "execution_count": null,
      "metadata": {
        "colab": {
          "base_uri": "https://localhost:8080/"
        },
        "id": "2JC2X_s4ahjW",
        "outputId": "6cb97e3d-c491-4cb8-b9bf-b2586a6038ac"
      },
      "outputs": [
        {
          "name": "stdout",
          "output_type": "stream",
          "text": [
            "10 10000\n",
            "9 9000.0\n",
            "8 8100.0\n",
            "7 7290.0\n",
            "6 6561.0\n",
            "5 5904.900000000001\n",
            "4 5314.410000000001\n",
            "3 4782.969000000001\n",
            "2 4304.672100000001\n",
            "1 3874.204890000001\n"
          ]
        }
      ],
      "source": [
        "cp=10000\n",
        "for i in range(10,0,-1):\n",
        "  print(i,cp)\n",
        "  cp=cp*0.9"
      ]
    },
    {
      "cell_type": "code",
      "execution_count": null,
      "metadata": {
        "id": "HSkj3QMLpr4T"
      },
      "outputs": [],
      "source": [
        "# Write code here\n",
        "a=int(input(\"Enter the number: \"))\n",
        "sum=0\n",
        "def summer(a):\n",
        "  if a==1:\n",
        "    return 1\n",
        "  elif a%5==0:\n",
        "    return summer(a-1)\n",
        "  else:\n",
        "    return a+summer(a-1)\n",
        "sum=summer(a)\n",
        "print(sum)"
      ]
    },
    {
      "cell_type": "code",
      "execution_count": null,
      "metadata": {
        "colab": {
          "base_uri": "https://localhost:8080/"
        },
        "id": "44adimsECdvD",
        "outputId": "eb6a24ae-2115-4df8-f805-ed642ccb9efa"
      },
      "outputs": [
        {
          "name": "stdout",
          "output_type": "stream",
          "text": [
            "Enter the value of N: 30\n",
            "The final sum is: 303\n"
          ]
        }
      ],
      "source": [
        "# Take user input as integer N\n",
        "N = int(input(\"Enter the value of N: \"))\n",
        "\n",
        "# Initialize variables\n",
        "total_sum = 0\n",
        "current_num = 1\n",
        "\n",
        "# Perform the sum calculation\n",
        "while current_num <= N:\n",
        "    # Check if the current number is divisible by 5\n",
        "    if current_num % 5 == 0:\n",
        "        current_num += 1\n",
        "        continue\n",
        "\n",
        "    # Add the current number to the sum\n",
        "    total_sum += current_num\n",
        "\n",
        "    # Check if the sum exceeds 300\n",
        "    if total_sum > 300:\n",
        "        break\n",
        "\n",
        "    # Move to the next number\n",
        "    current_num += 1\n",
        "\n",
        "# Print the final result\n",
        "print(\"The final sum is:\", total_sum)\n"
      ]
    },
    {
      "cell_type": "code",
      "execution_count": null,
      "metadata": {
        "colab": {
          "base_uri": "https://localhost:8080/"
        },
        "id": "fIhyt84tJQgi",
        "outputId": "a05fcb7a-22ca-41dc-f337-c9253b393c99"
      },
      "outputs": [
        {
          "name": "stdout",
          "output_type": "stream",
          "text": [
            "2\n",
            "0\n",
            "0\n",
            "0\n",
            "True\n",
            "2\n",
            "0\n",
            "0\n",
            "True\n",
            "2\n",
            "0\n",
            "0\n",
            "2\n",
            "True\n",
            "kamin\n"
          ]
        }
      ],
      "source": [
        "for i in range(2000,2003):\n",
        "  s=False\n",
        "  k=str(i)\n",
        "  for a1 in k:\n",
        "    if int(a1)%2==0:\n",
        "      s=True\n",
        "      print(a1)\n",
        "    else:\n",
        "      break\n",
        "  print(s)\n",
        "print(\"kamin\")\n"
      ]
    },
    {
      "cell_type": "code",
      "execution_count": null,
      "metadata": {
        "colab": {
          "base_uri": "https://localhost:8080/"
        },
        "id": "Lj5XumjSasFX",
        "outputId": "0d95f140-98cb-4915-9b42-ae284c8c1106"
      },
      "outputs": [
        {
          "name": "stdout",
          "output_type": "stream",
          "text": [
            "False\n"
          ]
        }
      ],
      "source": [
        "numbers = [2, 4, 6, 8, 10,5]\n",
        "\n",
        "# Check if all numbers in the list are even\n",
        "result = all(num % 2 == 0 for num in numbers)\n",
        "\n",
        "print(result)  # Output: True\n"
      ]
    },
    {
      "cell_type": "code",
      "execution_count": null,
      "metadata": {
        "colab": {
          "base_uri": "https://localhost:8080/"
        },
        "id": "SlSHJ-uAcjix",
        "outputId": "de5d9233-8c39-4054-cfd9-37b8bded11fe"
      },
      "outputs": [
        {
          "name": "stdout",
          "output_type": "stream",
          "text": [
            "True\n"
          ]
        }
      ],
      "source": [
        "#The all() function works by iterating over each element of the iterable and evaluating their truthiness, if all iterables evaluate to True then this function returns True else\n",
        "# it returns False\n",
        "numbers=[2,4,6,8,10,5]\n",
        "result=all(num for num in numbers)\n",
        "print(result)"
      ]
    },
    {
      "cell_type": "code",
      "execution_count": null,
      "metadata": {
        "colab": {
          "base_uri": "https://localhost:8080/"
        },
        "id": "3R4t7KDqed6Y",
        "outputId": "f9f576d0-2bd0-44d1-bda7-6b6a97db554c"
      },
      "outputs": [
        {
          "name": "stdout",
          "output_type": "stream",
          "text": [
            "Enter the number: 3\n",
            "3  is prime number\n"
          ]
        }
      ],
      "source": [
        "# Write code here\n",
        "a=int(input(\"Enter the number: \"))\n",
        "s=True\n",
        "for i in range(2,a):\n",
        "  if a%i==0:\n",
        "    s=False\n",
        "    break\n",
        "if s:\n",
        "  print(a ,\" is prime number\")\n",
        "else:\n",
        "  print(a,\" is not prime number\")\n",
        "#when a=2 then for loop will not run at the first place\n"
      ]
    },
    {
      "cell_type": "code",
      "execution_count": null,
      "metadata": {
        "colab": {
          "base_uri": "https://localhost:8080/"
        },
        "id": "PZ9h1t3f3_JH",
        "outputId": "ee115658-ce3e-4232-8508-189d4d584949"
      },
      "outputs": [
        {
          "name": "stdout",
          "output_type": "stream",
          "text": [
            "Enter the hour angle: 9\n",
            "Enter the minute angle: 0\n",
            "Difference in the angle would be  90\n"
          ]
        }
      ],
      "source": [
        "# Write code here\n",
        "import math\n",
        "angle_per_hour=360/12\n",
        "angle_per_minute=360/60\n",
        "hour=int(input(\"Enter the hour angle: \"))\n",
        "minute=int(input(\"Enter the minute angle: \"))\n",
        "mns=abs(int(hour*angle_per_hour-minute*angle_per_minute))\n",
        "amn=360-mns\n",
        "if amn>mns:\n",
        "     print(\"Difference in the angle would be \",mns)\n",
        "else:\n",
        "  print(\"Difference in the angle would be \",amn)"
      ]
    },
    {
      "cell_type": "code",
      "execution_count": null,
      "metadata": {
        "colab": {
          "base_uri": "https://localhost:8080/"
        },
        "id": "lQChkIXm5bxa",
        "outputId": "fa2dfa07-5a1d-43e0-d813-cfb57351325b"
      },
      "outputs": [
        {
          "name": "stdout",
          "output_type": "stream",
          "text": [
            "Enter the number: 10\n",
            "0\n",
            "1\n",
            "1\n",
            "2\n",
            "3\n",
            "5\n",
            "8\n",
            "13\n",
            "21\n",
            "34\n"
          ]
        }
      ],
      "source": [
        "#fibonacci\n",
        "def fibonacci(a):\n",
        "  if a==0:\n",
        "    return 0\n",
        "  elif a==1:\n",
        "    return 1\n",
        "  else:\n",
        "    return fibonacci(a-1)+fibonacci(a-2)\n",
        "a=int(input(\"Enter the number: \"))\n",
        "for i in range(a):\n",
        "    print(fibonacci(i))"
      ]
    },
    {
      "cell_type": "code",
      "execution_count": null,
      "metadata": {
        "colab": {
          "base_uri": "https://localhost:8080/"
        },
        "id": "ULZYYMql7YlA",
        "outputId": "f1ceca79-e5b1-4a1d-eb69-fe7e1fe59af7"
      },
      "outputs": [
        {
          "name": "stdout",
          "output_type": "stream",
          "text": [
            "Enter the number: 7\n",
            "5040\n"
          ]
        }
      ],
      "source": [
        "def factorial(a):\n",
        "  if a==0:\n",
        "    return 1\n",
        "  else:\n",
        "    return a*factorial(a-1)\n",
        "a=int(input(\"Enter the number: \"))\n",
        "print(factorial(a))"
      ]
    },
    {
      "cell_type": "code",
      "execution_count": null,
      "metadata": {
        "colab": {
          "base_uri": "https://localhost:8080/"
        },
        "id": "x5DxIkS2N6hE",
        "outputId": "237f2c2e-30fe-4326-88f4-be82923e2689"
      },
      "outputs": [
        {
          "name": "stdout",
          "output_type": "stream",
          "text": [
            "Enter the number: 76542\n",
            "24567\n"
          ]
        }
      ],
      "source": [
        "#reversal\n",
        "num=int(input(\"Enter the number: \"))\n",
        "sum=\"\"\n",
        "while num!=0:\n",
        "  c=num%10\n",
        "  sum=sum+str(c)\n",
        "  num=num//10\n",
        "print(sum)"
      ]
    },
    {
      "cell_type": "code",
      "execution_count": null,
      "metadata": {
        "colab": {
          "base_uri": "https://localhost:8080/"
        },
        "id": "VJZiG7faP0Q5",
        "outputId": "4a677ae1-6d9d-42f3-e93e-dc840def2105"
      },
      "outputs": [
        {
          "name": "stdout",
          "output_type": "stream",
          "text": [
            "Enter the number: 10\n",
            "Enter the number: 11\n",
            "Enter the number: 12\n",
            "Enter the number: 13\n",
            "Enter the number: 15\n",
            "Enter the number: 16\n",
            "Enter the number: 0\n",
            "Sum of numbers is  77\n",
            "Average of numbers is  12.833333333333334\n"
          ]
        }
      ],
      "source": [
        "a=int(input(\"Enter the number: \"))\n",
        "cnt=0\n",
        "sum=0\n",
        "while a!=0:\n",
        "  sum+=a\n",
        "  cnt+=1\n",
        "  a=int(input(\"Enter the number: \"))\n",
        "print(\"Sum of numbers is \",sum)\n",
        "print(\"Average of numbers is \",sum/cnt)"
      ]
    },
    {
      "cell_type": "code",
      "execution_count": null,
      "metadata": {
        "colab": {
          "base_uri": "https://localhost:8080/"
        },
        "id": "CTN4nIf3dYpp",
        "outputId": "fb2af71b-60a1-4c24-c5a3-af84f5bafadf"
      },
      "outputs": [
        {
          "name": "stdout",
          "output_type": "stream",
          "text": [
            "2002 2009 2016 2023 2037 2044 2051 2058 2072 2079 2086 2093 2107 2114 2121 2128 2142 2149 2156 2163 2177 2184 2191 2198 2212 2219 2226 2233 2247 2254 2261 2268 2282 2289 2296 2303 2317 2324 2331 2338 2352 2359 2366 2373 2387 2394 2401 2408 2422 2429 2436 2443 2457 2464 2471 2478 2492 2499 2506 2513 2527 2534 2541 2548 2562 2569 2576 2583 2597 2604 2611 2618 2632 2639 2646 2653 2667 2674 2681 2688 2702 2709 2716 2723 2737 2744 2751 2758 2772 2779 2786 2793 2807 2814 2821 2828 2842 2849 2856 2863 2877 2884 2891 2898 2912 2919 2926 2933 2947 2954 2961 2968 2982 2989 2996 3003 3017 3024 3031 3038 3052 3059 3066 3073 3087 3094 3101 3108 3122 3129 3136 3143 3157 3164 3171 3178 3192 3199 "
          ]
        }
      ],
      "source": [
        "for i in range(2000,3201):\n",
        "  if i%7==0 and i%5!=0:\n",
        "    print(i,end=\" \")"
      ]
    },
    {
      "cell_type": "code",
      "execution_count": null,
      "metadata": {
        "colab": {
          "base_uri": "https://localhost:8080/"
        },
        "id": "cNxhdAR2ezUU",
        "outputId": "836a7dbd-7856-4885-d3ae-bf305b1c9b61"
      },
      "outputs": [
        {
          "name": "stdout",
          "output_type": "stream",
          "text": [
            "2000 2002 2004 2006 2008 2020 2022 2024 2026 2028 2040 2042 2044 2046 2048 2060 2062 2064 2066 2068 2080 2082 2084 2086 2088 2200 2202 2204 2206 2208 2220 2222 2224 2226 2228 2240 2242 2244 2246 2248 2260 2262 2264 2266 2268 2280 2282 2284 2286 2288 2400 2402 2404 2406 2408 2420 2422 2424 2426 2428 2440 2442 2444 2446 2448 2460 2462 2464 2466 2468 2480 2482 2484 2486 2488 2600 2602 2604 2606 2608 2620 2622 2624 2626 2628 2640 2642 2644 2646 2648 2660 2662 2664 2666 2668 2680 2682 2684 2686 2688 2800 2802 2804 2806 2808 2820 2822 2824 2826 2828 2840 2842 2844 2846 2848 2860 2862 2864 2866 2868 2880 2882 2884 2886 2888 "
          ]
        }
      ],
      "source": [
        "for i in range(1000,3001):\n",
        "  lk=str(i)\n",
        "  if all(int(num)%2==0 for num in lk):\n",
        "    print(i,end=\" \")\n"
      ]
    },
    {
      "cell_type": "code",
      "execution_count": null,
      "metadata": {
        "colab": {
          "base_uri": "https://localhost:8080/"
        },
        "id": "wtCK5_sYwKyt",
        "outputId": "d0697356-a847-4624-8397-0541b742bfce"
      },
      "outputs": [
        {
          "name": "stdout",
          "output_type": "stream",
          "text": [
            "0\n",
            "1\n",
            "1\n",
            "2\n",
            "3\n",
            "5\n",
            "8\n",
            "13\n",
            "21\n",
            "34\n"
          ]
        }
      ],
      "source": [
        "num1,num2=0,1\n",
        "for i in range(10):\n",
        "  print(num1)\n",
        "  next=num1+num2\n",
        "  num1=num2\n",
        "  num2=next"
      ]
    },
    {
      "cell_type": "code",
      "execution_count": null,
      "metadata": {
        "colab": {
          "base_uri": "https://localhost:8080/"
        },
        "id": "Ov0mwE989Q_i",
        "outputId": "3d9fc716-5c8f-4698-c622-08dcaaa875c9"
      },
      "outputs": [
        {
          "name": "stdout",
          "output_type": "stream",
          "text": [
            "Enter the number: 30\n",
            "Sum is  276\n"
          ]
        }
      ],
      "source": [
        "# Problem 8: Take a user input as integer N. Find out the sum from 1 to N. If any number if divisible by 5, then skip that number. And if the sum is greater than 300, don't need to calculate the sum further more. Print the final result. And don't use for loop to solve this problem.\n",
        "a=int(input(\"Enter the number: \"))\n",
        "sum=0\n",
        "for i in range(1,a+1):\n",
        "  if i%5==0:\n",
        "    continue\n",
        "  sum+=i\n",
        "  if sum>300:\n",
        "    sum-=i\n",
        "    break\n",
        "print(\"Sum is \",sum)\n",
        "#if i is divisible by 5 then the rest of code is skipped and i is incremented, if i is not divisible by 5 then sum is incremented by i anf if sum is greater than 300 then sum is decremented\n",
        "#by i and break statement ensures that we immediately come out of for loop and print the sum"
      ]
    },
    {
      "cell_type": "code",
      "execution_count": null,
      "metadata": {
        "colab": {
          "base_uri": "https://localhost:8080/"
        },
        "id": "Y0I_a3zY_tf1",
        "outputId": "0243bb77-5862-496d-dce3-accf1c1b454c"
      },
      "outputs": [
        {
          "name": "stdout",
          "output_type": "stream",
          "text": [
            "Enter the number: 30\n",
            "Sum is  276\n"
          ]
        }
      ],
      "source": [
        "#solving the above sum by using just the while loop\n",
        "a=int(input(\"Enter the number: \"))\n",
        "sum=0\n",
        "i=1\n",
        "while i<a+1:\n",
        "  if i%5==0:\n",
        "    i+=1\n",
        "    continue\n",
        "  sum+=i\n",
        "  if sum>300:\n",
        "    sum-=i\n",
        "    break\n",
        "  i+=1\n",
        "print(\"Sum is \",sum)"
      ]
    },
    {
      "cell_type": "code",
      "execution_count": null,
      "metadata": {
        "colab": {
          "base_uri": "https://localhost:8080/"
        },
        "id": "tHaPJmFlC3PB",
        "outputId": "6f988481-3107-4f9f-b2e8-f6fd3b9e2b27"
      },
      "outputs": [
        {
          "name": "stdout",
          "output_type": "stream",
          "text": [
            "Enter the number: 30\n",
            "Sum is  275\n"
          ]
        }
      ],
      "source": [
        "#solving the above sum by using just the while loop\n",
        "a=int(input(\"Enter the number: \"))\n",
        "sum=0\n",
        "i=1\n",
        "while i<a+1:\n",
        "  if i%5==0:\n",
        "    i+=1\n",
        "    continue\n",
        "  sum+=i\n",
        "  i+=1\n",
        "  if sum>300:\n",
        "    sum-=i\n",
        "    break\n",
        "print(\"Sum is \",sum)"
      ]
    },
    {
      "cell_type": "code",
      "execution_count": null,
      "metadata": {
        "colab": {
          "base_uri": "https://localhost:8080/"
        },
        "id": "zwtp4yOrGWOz",
        "outputId": "2734bcb2-6e24-4929-8643-e94756effe13"
      },
      "outputs": [
        {
          "name": "stdout",
          "output_type": "stream",
          "text": [
            "Enter the number: 1\n",
            "Enter the number: 3\n",
            "Enter the number: 5\n",
            "Enter the number: 7\n",
            "Enter the number: 9\n",
            "Enter the number: 11\n",
            "Enter the number: 13\n",
            "Enter the number: 15\n",
            "Enter the number: 16\n",
            "Enter the number: 14\n",
            "Enter the number: 0\n",
            "Sum is  94\n",
            "Average is  9.4\n"
          ]
        }
      ],
      "source": [
        "from typing_extensions import Counter\n",
        "# Problem 9: Write a program that keeps on accepting a number from the user until the user enters Zero. Display the sum and average of all the numbers.\n",
        "sum=0\n",
        "count=0\n",
        "while True:\n",
        "  a=int(input(\"Enter the number: \"))\n",
        "  if a==0:\n",
        "    break\n",
        "  sum+=a\n",
        "  count+=1\n",
        "print(\"Sum is \",sum)\n",
        "print(\"Average is \",sum/count)"
      ]
    },
    {
      "cell_type": "code",
      "execution_count": null,
      "metadata": {
        "colab": {
          "base_uri": "https://localhost:8080/",
          "height": 88
        },
        "id": "-RDQLT-R6gMn",
        "outputId": "8cb2fffe-4287-427e-e909-e934d2c82c61"
      },
      "outputs": [
        {
          "data": {
            "application/vnd.google.colaboratory.intrinsic+json": {
              "type": "string"
            },
            "text/plain": [
              "'2002,2009,2016,2023,2037,2044,2051,2058,2072,2079,2086,2093,2107,2114,2121,2128,2142,2149,2156,2163,2177,2184,2191,2198,2212,2219,2226,2233,2247,2254,2261,2268,2282,2289,2296,2303,2317,2324,2331,2338,2352,2359,2366,2373,2387,2394,2401,2408,2422,2429,2436,2443,2457,2464,2471,2478,2492,2499,2506,2513,2527,2534,2541,2548,2562,2569,2576,2583,2597,2604,2611,2618,2632,2639,2646,2653,2667,2674,2681,2688,2702,2709,2716,2723,2737,2744,2751,2758,2772,2779,2786,2793,2807,2814,2821,2828,2842,2849,2856,2863,2877,2884,2891,2898,2912,2919,2926,2933,2947,2954,2961,2968,2982,2989,2996,3003,3017,3024,3031,3038,3052,3059,3066,3073,3087,3094,3101,3108,3122,3129,3136,3143,3157,3164,3171,3178,3192,3199'"
            ]
          },
          "execution_count": 3,
          "metadata": {},
          "output_type": "execute_result"
        }
      ],
      "source": [
        "l=[]\n",
        "for i in range(2000,3201):\n",
        "  if i%5!=0 and i%7==0:\n",
        "    l.append(str(i))\n",
        "\",\".join(l)"
      ]
    },
    {
      "cell_type": "code",
      "execution_count": null,
      "metadata": {
        "colab": {
          "base_uri": "https://localhost:8080/"
        },
        "id": "XLfJwAhEAEy8",
        "outputId": "09fbd314-39fb-4dcd-f1ad-f867fc49e7cf"
      },
      "outputs": [
        {
          "name": "stdout",
          "output_type": "stream",
          "text": [
            "2000,2002,2004,2006,2008,2020,2022,2024,2026,2028,2040,2042,2044,2046,2048,2060,2062,2064,2066,2068,2080,2082,2084,2086,2088,2200,2202,2204,2206,2208,2220,2222,2224,2226,2228,2240,2242,2244,2246,2248,2260,2262,2264,2266,2268,2280,2282,2284,2286,2288,2400,2402,2404,2406,2408,2420,2422,2424,2426,2428,2440,2442,2444,2446,2448,2460,2462,2464,2466,2468,2480,2482,2484,2486,2488,2600,2602,2604,2606,2608,2620,2622,2624,2626,2628,2640,2642,2644,2646,2648,2660,2662,2664,2666,2668,2680,2682,2684,2686,2688,2800,2802,2804,2806,2808,2820,2822,2824,2826,2828,2840,2842,2844,2846,2848,2860,2862,2864,2866,2868,2880,2882,2884,2886,2888\n"
          ]
        }
      ],
      "source": [
        "L=[]\n",
        "for i in range(1000,3001):\n",
        "  flag=True\n",
        "  curr=i\n",
        "  while curr!=0:\n",
        "    k=curr%10\n",
        "    if k%2!=0:\n",
        "      flag=False\n",
        "      break\n",
        "    curr=curr//10\n",
        "  if flag:\n",
        "    L.append(str(i))\n",
        "print(\",\".join(L))\n",
        "#L is an empty list, flag is set True, curr=i , while curr>0 k=curr%10 if k%2!=0 flag=False break"
      ]
    },
    {
      "cell_type": "code",
      "execution_count": null,
      "metadata": {
        "colab": {
          "base_uri": "https://localhost:8080/"
        },
        "id": "S9WN4nPjMeQz",
        "outputId": "36351b39-5e21-4436-c25e-ed5113ba448c"
      },
      "outputs": [
        {
          "name": "stdout",
          "output_type": "stream",
          "text": [
            "2000,2002,2004,2006,2008,2020,2022,2024,2026,2028,2040,2042,2044,2046,2048,2060,2062,2064,2066,2068,2080,2082,2084,2086,2088,2200,2202,2204,2206,2208,2220,2222,2224,2226,2228,2240,2242,2244,2246,2248,2260,2262,2264,2266,2268,2280,2282,2284,2286,2288,2400,2402,2404,2406,2408,2420,2422,2424,2426,2428,2440,2442,2444,2446,2448,2460,2462,2464,2466,2468,2480,2482,2484,2486,2488,2600,2602,2604,2606,2608,2620,2622,2624,2626,2628,2640,2642,2644,2646,2648,2660,2662,2664,2666,2668,2680,2682,2684,2686,2688,2800,2802,2804,2806,2808,2820,2822,2824,2826,2828,2840,2842,2844,2846,2848,2860,2862,2864,2866,2868,2880,2882,2884,2886,2888\n"
          ]
        }
      ],
      "source": [
        "l=[]\n",
        "for i in range(1000,3001):\n",
        "  curr=i\n",
        "  flag=True\n",
        "  while curr>0:\n",
        "    k=curr%10\n",
        "    if k%2!=0:\n",
        "      flag=False\n",
        "      break\n",
        "    curr=curr//10\n",
        "  if flag:\n",
        "    l.append(str(i))\n",
        "print(\",\".join(l))"
      ]
    },
    {
      "cell_type": "code",
      "execution_count": null,
      "metadata": {
        "colab": {
          "base_uri": "https://localhost:8080/"
        },
        "id": "STN3tvEp8T_9",
        "outputId": "937abb36-c69c-480e-e736-d15e8305d85a"
      },
      "outputs": [
        {
          "name": "stdout",
          "output_type": "stream",
          "text": [
            "Enter direction followed by steps: UP  5\n",
            "Enter direction followed by steps: DOWN 3\n",
            "Enter direction followed by steps: LEFT 3\n",
            "Enter direction followed by steps: RIGHT 2\n",
            "Enter direction followed by steps: !\n",
            "2.23606797749979\n"
          ]
        }
      ],
      "source": [
        "# Problem 11: A robot moves in a plane starting from the original point (0,0). The robot can move toward UP, DOWN, LEFT and RIGHT with a given steps.\n",
        "# The trace of robot movement is shown as the following:\n",
        "\n",
        "# UP 5\n",
        "# DOWN 3\n",
        "# LEFT 3\n",
        "# RIGHT 2\n",
        "# !\n",
        "# The numbers after the direction are steps.\n",
        "\n",
        "# ! means robot stop there.\n",
        "coord=[0,0]\n",
        "while True:\n",
        "  a=input(\"Enter direction followed by steps: \")\n",
        "  if a==\"!\":\n",
        "    break\n",
        "  direction=a.split()[0]\n",
        "  steps=int(a.split()[1])\n",
        "  if direction==\"UP\":\n",
        "    coord[1]=coord[1]+steps\n",
        "  elif direction==\"DOWN\":\n",
        "    coord[1]=coord[1]-steps\n",
        "  elif direction==\"LEFT\":\n",
        "    coord[0]=coord[0]-steps\n",
        "  elif direction==\"RIGHT\":\n",
        "    coord[0]=coord[0]+steps\n",
        "  else:\n",
        "    pass\n",
        "print((coord[0]**2+coord[1]**2)**0.5)"
      ]
    },
    {
      "cell_type": "code",
      "execution_count": null,
      "metadata": {
        "id": "F8edzffUAbTU"
      },
      "outputs": [],
      "source": [
        "coord=[0,0]\n",
        "while True:\n",
        "  a=input(\"Enter direction followed and steps: \")\n",
        "  if a==\"!\":\n",
        "    break\n",
        "  directions=a.split()[0]\n",
        "  steps=a.split()[1]\n",
        "  if directions==\"UP\":\n",
        "    coord[1]=coord[1]+steps\n",
        "  elif directions==\"DOWN\":\n",
        "    coord[1]=coord[1]-steps\n",
        "  elif directions==\"LEFT\":\n",
        "    coord[0]=coord[0]-steps\n",
        "  elif directions==\"RIGHT\":\n",
        "    coord[0]=coord[0]+steps\n",
        "  else:\n",
        "    pass\n",
        "print((coord[0]**2+coord[1]**2)**0.5)"
      ]
    },
    {
      "cell_type": "code",
      "execution_count": null,
      "metadata": {
        "colab": {
          "base_uri": "https://localhost:8080/"
        },
        "id": "KhWYyf7JHSUV",
        "outputId": "e37d2d84-f8d9-4682-9618-c4a7b5d18515"
      },
      "outputs": [
        {
          "name": "stdout",
          "output_type": "stream",
          "text": [
            "Enter the number to be checked: 11\n",
            "11  is prime number\n"
          ]
        }
      ],
      "source": [
        "a=int(input(\"Enter the number to be checked: \"))\n",
        "flag=True\n",
        "for i in range(2,a):\n",
        "  if a%i==0:\n",
        "    flag=False\n",
        "    break\n",
        "if flag:\n",
        "  print(a,\" is prime number\")\n",
        "else:\n",
        "  print(a,\" is not prime number\")"
      ]
    },
    {
      "cell_type": "code",
      "execution_count": null,
      "metadata": {
        "colab": {
          "base_uri": "https://localhost:8080/"
        },
        "id": "g-qkIJPLcEEh",
        "outputId": "29a7a680-eb5c-4e85-8442-204ecbdda627"
      },
      "outputs": [
        {
          "name": "stdout",
          "output_type": "stream",
          "text": [
            "10 10000\n",
            "9 9090.90909090909\n",
            "8 8264.462809917353\n",
            "7 7513.148009015775\n",
            "6 6830.134553650703\n",
            "5 6209.213230591548\n",
            "4 5644.739300537771\n",
            "3 5131.5811823070635\n",
            "2 4665.07380209733\n",
            "1 4240.976183724845\n"
          ]
        }
      ],
      "source": [
        "population=10000\n",
        "for i in range(10,0,-1):\n",
        "  print(i,population)\n",
        "  population=population/1.1"
      ]
    },
    {
      "cell_type": "code",
      "execution_count": null,
      "metadata": {
        "colab": {
          "base_uri": "https://localhost:8080/"
        },
        "id": "eEud9_Y1nI_w",
        "outputId": "2f1afdaf-22b8-4b3f-985f-9f9bbb8c334d"
      },
      "outputs": [
        {
          "name": "stdout",
          "output_type": "stream",
          "text": [
            "Enter the number: 4\n",
            "2.6666666666666665\n"
          ]
        }
      ],
      "source": [
        "#1/1!+2/2!+3/3!....\n",
        "def factorial(a):\n",
        "  if a==0:\n",
        "    return 1\n",
        "  else:\n",
        "    return a*factorial(a-1)\n",
        "a=int(input(\"Enter the number: \"))\n",
        "sum=0\n",
        "for i in range(1,a+1):\n",
        "  sum+=i/factorial(i)\n",
        "print(sum)\n",
        "\n"
      ]
    },
    {
      "cell_type": "code",
      "execution_count": null,
      "metadata": {
        "colab": {
          "base_uri": "https://localhost:8080/"
        },
        "id": "-joBYEISvsCw",
        "outputId": "2efaa83d-4b7e-4d3e-d719-22acec981413"
      },
      "outputs": [
        {
          "name": "stdout",
          "output_type": "stream",
          "text": [
            "Enter the number: 3\n",
            "2.5\n"
          ]
        }
      ],
      "source": [
        "#1/1!+2/2!+3/3!\n",
        "sum=0\n",
        "fact=1\n",
        "a=int(input(\"Enter the number: \"))\n",
        "for i in range(1,a+1):\n",
        "  fact=fact*i\n",
        "  sum=sum+i/fact\n",
        "print(sum)\n"
      ]
    },
    {
      "cell_type": "code",
      "execution_count": null,
      "metadata": {
        "colab": {
          "base_uri": "https://localhost:8080/"
        },
        "id": "FUsXR4yUyXx7",
        "outputId": "bdadd1ae-0ac8-4c12-fec0-4a4808977d0d"
      },
      "outputs": [
        {
          "name": "stdout",
          "output_type": "stream",
          "text": [
            "Enter the number: 5\n",
            "120\n"
          ]
        }
      ],
      "source": [
        "#1!,2!,3!,4!,5!\n",
        "a=int(input(\"Enter the number: \"))\n",
        "fact=1\n",
        "for i in range(1,a+1):\n",
        "  fact=fact*i\n",
        "print(fact)\n",
        "#factorial"
      ]
    },
    {
      "cell_type": "code",
      "execution_count": null,
      "metadata": {
        "colab": {
          "base_uri": "https://localhost:8080/"
        },
        "id": "iLPdMvKE17hK",
        "outputId": "db29f8cf-ead5-4884-a241-bd11e03c2619"
      },
      "outputs": [
        {
          "name": "stdout",
          "output_type": "stream",
          "text": [
            "{'a': 3, 'b': 2, 'c': 4, 'd': 5}\n",
            "['d']\n"
          ]
        },
        {
          "data": {
            "text/plain": [
              "{'d': 5}"
            ]
          },
          "execution_count": 35,
          "metadata": {},
          "output_type": "execute_result"
        }
      ],
      "source": [
        "#max number\n",
        "def mnhg(a):\n",
        "  l={}\n",
        "  for i in a:\n",
        "    if i in l:\n",
        "      l[i]+=1\n",
        "    else:\n",
        "      l[i]=1\n",
        "  print(l)\n",
        "  l1=[h for h in l if l[h]==max(l.values())]\n",
        "  print(l1)\n",
        "  a=l[l1[0]]\n",
        "  return {l1[0]:a}\n",
        "mnhg(\"aaabbccccddddd\")\n"
      ]
    },
    {
      "cell_type": "code",
      "execution_count": null,
      "metadata": {
        "colab": {
          "base_uri": "https://localhost:8080/"
        },
        "id": "in4kU5ga-jUA",
        "outputId": "e07c4262-d947-4c54-c43e-e6d806146e38"
      },
      "outputs": [
        {
          "name": "stdout",
          "output_type": "stream",
          "text": [
            "1 1\n",
            "1 2\n",
            "1 3\n",
            "1 4\n",
            "2 1\n",
            "2 2\n",
            "2 3\n",
            "2 4\n",
            "3 1\n",
            "3 2\n",
            "3 3\n",
            "3 4\n",
            "4 1\n",
            "4 2\n",
            "4 3\n",
            "4 4\n"
          ]
        }
      ],
      "source": [
        "for i in range(1,5):\n",
        "  for j in range(1,5):\n",
        "    print(i,j)"
      ]
    },
    {
      "cell_type": "code",
      "execution_count": null,
      "metadata": {
        "colab": {
          "base_uri": "https://localhost:8080/"
        },
        "id": "vXcZM5ol-qis",
        "outputId": "fa556dc0-b657-4eb4-dc88-2cbd8df92dc8"
      },
      "outputs": [
        {
          "name": "stdout",
          "output_type": "stream",
          "text": [
            "Enter the number: 5\n",
            "*\n",
            "**\n",
            "***\n",
            "****\n",
            "*****\n"
          ]
        }
      ],
      "source": [
        "a=int(input(\"Enter the number: \"))\n",
        "for i in range(1,a+1):\n",
        "  for j in range(0,i):\n",
        "    print(\"*\",end=\"\")\n",
        "  print()"
      ]
    },
    {
      "cell_type": "code",
      "execution_count": null,
      "metadata": {
        "colab": {
          "base_uri": "https://localhost:8080/"
        },
        "id": "nrOsyyV6FG4V",
        "outputId": "6ac7bd68-0d3a-4386-97b6-b0ff98525fe2"
      },
      "outputs": [
        {
          "name": "stdout",
          "output_type": "stream",
          "text": [
            "Enter the number: 4\n",
            "1\n",
            "121\n",
            "12321\n",
            "1234321\n"
          ]
        }
      ],
      "source": [
        "a=int(input(\"Enter the number: \"))\n",
        "for i in range(1,a+1):\n",
        "  for j in range(1,i+1):\n",
        "    print(j,end=\"\")\n",
        "  for k in range(i-1,0,-1):\n",
        "    print(k,end=\"\")\n",
        "  print()\n",
        "#when i=1 then j is bw 1 and 2 hence j is printed after which we enter k loop which runs from 0 to 0 so it doesnot run hence only 1 is printed\n",
        "#when i=2 then j is bw 1 and 3 hence j is printed twice 1 and 2 after which we enter k loop which runs from 1 to 0 so 1 gets printed 121\n",
        "#when i=3 then j is bw 1 and 4 hence j is printed thrice(123) after which we enter k loop which runs from 2 to 0 hence 2 and 1 gets printed 12321\n",
        "#when i=4 then j is bw 1 and 5 hence j is printed(1234) after which we enter k loop which runs from 3 to 0 hence 321 gets printed(1234321)"
      ]
    },
    {
      "cell_type": "code",
      "execution_count": null,
      "metadata": {
        "colab": {
          "base_uri": "https://localhost:8080/"
        },
        "id": "yC8v6qT-SdK4",
        "outputId": "3dbda1fb-a9c8-49ed-8f22-10e86b6b7110"
      },
      "outputs": [
        {
          "name": "stdout",
          "output_type": "stream",
          "text": [
            "1\n",
            "2\n",
            "3\n",
            "4\n"
          ]
        }
      ],
      "source": [
        "for i in range(1,10):\n",
        "  if i==5:\n",
        "    break\n",
        "  print(i)"
      ]
    },
    {
      "cell_type": "code",
      "execution_count": null,
      "metadata": {
        "colab": {
          "base_uri": "https://localhost:8080/"
        },
        "id": "61-JdJNkUaAY",
        "outputId": "87a13bab-ca1b-4fed-9d9d-db939bc97682"
      },
      "outputs": [
        {
          "name": "stdout",
          "output_type": "stream",
          "text": [
            "Enter the lowerange: 1\n",
            "Enter the upper range: 21\n",
            "1 2 3 5 7 11 13 17 19 "
          ]
        }
      ],
      "source": [
        "a=int(input(\"Enter the lowerange: \"))\n",
        "b=int(input(\"Enter the upper range: \"))\n",
        "for i in range(a,b+1):\n",
        "  flag=True\n",
        "  for j in range(2,i):\n",
        "    if i%j==0:\n",
        "      flag=False\n",
        "      break\n",
        "  if flag:\n",
        "    print(i,end=\" \")\n"
      ]
    },
    {
      "cell_type": "code",
      "execution_count": null,
      "metadata": {
        "colab": {
          "base_uri": "https://localhost:8080/"
        },
        "id": "un_pNWF1Sn8z",
        "outputId": "92a99870-3225-4709-a4c7-cef41e50a11f"
      },
      "outputs": [
        {
          "name": "stdout",
          "output_type": "stream",
          "text": [
            "hello\n",
            "hello\n"
          ]
        }
      ],
      "source": [
        "s=\"\"\"hello\"\"\"\n",
        "print(s)\n",
        "s1='''hello'''\n",
        "print(s1)"
      ]
    },
    {
      "cell_type": "code",
      "execution_count": null,
      "metadata": {
        "colab": {
          "background_save": true,
          "base_uri": "https://localhost:8080/"
        },
        "id": "8skkiGRr-lwS",
        "outputId": "7eb84daf-3cc2-4c59-ef7a-9b4597441bb9"
      },
      "outputs": [
        {
          "name": "stdout",
          "output_type": "stream",
          "text": [
            "llo world\n",
            "hel\n",
            "hlo\n",
            "w olle\n",
            "wol\n",
            "dlrow olleh\n",
            "world\n"
          ]
        }
      ],
      "source": [
        "a=\"hello world\"\n",
        "print(a[2:])\n",
        "print(a[:3])\n",
        "print(a[0:6:2])\n",
        "print(a[6:0:-1])\n",
        "print(a[6:0:-2])\n",
        "print(a[::-1])"
      ]
    },
    {
      "cell_type": "code",
      "execution_count": null,
      "metadata": {
        "colab": {
          "base_uri": "https://localhost:8080/",
          "height": 36
        },
        "id": "0rPFI3YgFgTq",
        "outputId": "4c538d8f-9142-4a57-de0e-ca4d3f507e6f"
      },
      "outputs": [
        {
          "data": {
            "application/vnd.google.colaboratory.intrinsic+json": {
              "type": "string"
            },
            "text/plain": [
              "'Hello world'"
            ]
          },
          "execution_count": 1,
          "metadata": {},
          "output_type": "execute_result"
        }
      ],
      "source": [
        "a=\"hello world\"\n",
        "a.capitalize()#1st word capitalized"
      ]
    },
    {
      "cell_type": "code",
      "execution_count": null,
      "metadata": {
        "colab": {
          "base_uri": "https://localhost:8080/",
          "height": 36
        },
        "id": "mQ_PW2-IxH3A",
        "outputId": "67093997-1f92-41d2-b3bf-c9ae7c0d9959"
      },
      "outputs": [
        {
          "data": {
            "application/vnd.google.colaboratory.intrinsic+json": {
              "type": "string"
            },
            "text/plain": [
              "'Hello World'"
            ]
          },
          "execution_count": 2,
          "metadata": {},
          "output_type": "execute_result"
        }
      ],
      "source": [
        "a.title() #first letter of every word is capitalized"
      ]
    },
    {
      "cell_type": "code",
      "execution_count": null,
      "metadata": {
        "colab": {
          "base_uri": "https://localhost:8080/",
          "height": 36
        },
        "id": "ixM9razbxNUM",
        "outputId": "0657ea05-9299-452c-ea13-24bd4ceac067"
      },
      "outputs": [
        {
          "data": {
            "application/vnd.google.colaboratory.intrinsic+json": {
              "type": "string"
            },
            "text/plain": [
              "'HELLO WORLD'"
            ]
          },
          "execution_count": 3,
          "metadata": {},
          "output_type": "execute_result"
        }
      ],
      "source": [
        "a.upper() #every word of the string is capitalized"
      ]
    },
    {
      "cell_type": "code",
      "execution_count": null,
      "metadata": {
        "colab": {
          "base_uri": "https://localhost:8080/",
          "height": 36
        },
        "id": "ifaI1ZxEx-fx",
        "outputId": "855832c1-bfe1-46db-c5d5-01b56ab94e73"
      },
      "outputs": [
        {
          "data": {
            "application/vnd.google.colaboratory.intrinsic+json": {
              "type": "string"
            },
            "text/plain": [
              "'hello world'"
            ]
          },
          "execution_count": 4,
          "metadata": {},
          "output_type": "execute_result"
        }
      ],
      "source": [
        "'Hello World'.lower()"
      ]
    },
    {
      "cell_type": "code",
      "execution_count": null,
      "metadata": {
        "colab": {
          "base_uri": "https://localhost:8080/",
          "height": 36
        },
        "id": "-477DRUM3pHW",
        "outputId": "67d38957-3927-42f2-99a4-398c9da472e3"
      },
      "outputs": [
        {
          "data": {
            "application/vnd.google.colaboratory.intrinsic+json": {
              "type": "string"
            },
            "text/plain": [
              "'hELLO wORLD'"
            ]
          },
          "execution_count": 5,
          "metadata": {},
          "output_type": "execute_result"
        }
      ],
      "source": [
        "\"Hello World\".swapcase() #we swap the letters that are capital with letters that are small"
      ]
    },
    {
      "cell_type": "code",
      "execution_count": null,
      "metadata": {
        "colab": {
          "base_uri": "https://localhost:8080/"
        },
        "id": "A7GcPTQ63_Wd",
        "outputId": "4e716c8c-fdce-454f-d4e0-b76f6e91156f"
      },
      "outputs": [
        {
          "data": {
            "text/plain": [
              "2"
            ]
          },
          "execution_count": 6,
          "metadata": {},
          "output_type": "execute_result"
        }
      ],
      "source": [
        "\"my name is shakti\".count(\"i\")\n",
        "#it counts the number of times i occurs in the string"
      ]
    },
    {
      "cell_type": "code",
      "execution_count": null,
      "metadata": {
        "colab": {
          "base_uri": "https://localhost:8080/"
        },
        "id": "bgodz1ya6Q-6",
        "outputId": "d0085610-e0fc-4bb9-c941-eb37c8293e8d"
      },
      "outputs": [
        {
          "data": {
            "text/plain": [
              "8"
            ]
          },
          "execution_count": 7,
          "metadata": {},
          "output_type": "execute_result"
        }
      ],
      "source": [
        "\"my name is shaminaders\".find(\"is\")"
      ]
    },
    {
      "cell_type": "code",
      "execution_count": null,
      "metadata": {
        "colab": {
          "base_uri": "https://localhost:8080/"
        },
        "id": "J_GbVF8D-lm4",
        "outputId": "decd5ae6-6c32-4597-ecab-0be2f6512d88"
      },
      "outputs": [
        {
          "data": {
            "text/plain": [
              "-1"
            ]
          },
          "execution_count": 8,
          "metadata": {},
          "output_type": "execute_result"
        }
      ],
      "source": [
        "\"my name is mahendra\".find(\"dhoni\")"
      ]
    },
    {
      "cell_type": "code",
      "execution_count": null,
      "metadata": {
        "colab": {
          "base_uri": "https://localhost:8080/"
        },
        "id": "b8wvv-LgA-CH",
        "outputId": "8f6bbf6e-4ec4-4b48-9222-33b39590bd5e"
      },
      "outputs": [
        {
          "data": {
            "text/plain": [
              "True"
            ]
          },
          "execution_count": 9,
          "metadata": {},
          "output_type": "execute_result"
        }
      ],
      "source": [
        "\"my name is mahendra\".endswith(\"dra\")"
      ]
    },
    {
      "cell_type": "code",
      "execution_count": null,
      "metadata": {
        "colab": {
          "base_uri": "https://localhost:8080/"
        },
        "id": "q-wruaQYBEja",
        "outputId": "54e9c6a1-9cb6-439b-a545-12029ea18cb2"
      },
      "outputs": [
        {
          "data": {
            "text/plain": [
              "True"
            ]
          },
          "execution_count": 10,
          "metadata": {},
          "output_type": "execute_result"
        }
      ],
      "source": [
        "\"my name is mahendra\".startswith(\"my\")"
      ]
    },
    {
      "cell_type": "code",
      "execution_count": null,
      "metadata": {
        "colab": {
          "base_uri": "https://localhost:8080/",
          "height": 36
        },
        "id": "xiMGDqefB9tb",
        "outputId": "8745cbeb-4de3-4e31-bd58-9db9f623f5f0"
      },
      "outputs": [
        {
          "data": {
            "application/vnd.google.colaboratory.intrinsic+json": {
              "type": "string"
            },
            "text/plain": [
              "'hi i am dhoni and i am god'"
            ]
          },
          "execution_count": 11,
          "metadata": {},
          "output_type": "execute_result"
        }
      ],
      "source": [
        "name=\"dhoni\"\n",
        "p=\"god\"\n",
        "\"hi i am {} and i am {}\".format(name,p)"
      ]
    },
    {
      "cell_type": "code",
      "execution_count": null,
      "metadata": {
        "colab": {
          "base_uri": "https://localhost:8080/",
          "height": 36
        },
        "id": "FCwYwSDGLQ4Z",
        "outputId": "426b4a2a-ae45-43d5-fd1e-731568407dcf"
      },
      "outputs": [
        {
          "data": {
            "application/vnd.google.colaboratory.intrinsic+json": {
              "type": "string"
            },
            "text/plain": [
              "'hi i am dhoni and i am god'"
            ]
          },
          "execution_count": 12,
          "metadata": {},
          "output_type": "execute_result"
        }
      ],
      "source": [
        "f\"hi i am {name} and i am {p}\""
      ]
    },
    {
      "cell_type": "code",
      "execution_count": null,
      "metadata": {
        "colab": {
          "base_uri": "https://localhost:8080/",
          "height": 36
        },
        "id": "OCULHk33NB7N",
        "outputId": "06eff6ef-edf2-44e9-da2b-019e5f990ec0"
      },
      "outputs": [
        {
          "data": {
            "application/vnd.google.colaboratory.intrinsic+json": {
              "type": "string"
            },
            "text/plain": [
              "'hi i am god and i am dhoni'"
            ]
          },
          "execution_count": 14,
          "metadata": {},
          "output_type": "execute_result"
        }
      ],
      "source": [
        "\"hi i am {1} and i am {0}\".format(name,p)"
      ]
    },
    {
      "cell_type": "code",
      "execution_count": null,
      "metadata": {
        "colab": {
          "base_uri": "https://localhost:8080/",
          "height": 36
        },
        "id": "xnyy1jRQNXap",
        "outputId": "2a4def1b-453b-400e-e053-1b902a734fb1"
      },
      "outputs": [
        {
          "data": {
            "application/vnd.google.colaboratory.intrinsic+json": {
              "type": "string"
            },
            "text/plain": [
              "'Hello world'"
            ]
          },
          "execution_count": 15,
          "metadata": {},
          "output_type": "execute_result"
        }
      ],
      "source": [
        "s=\"hello world\"\n",
        "s.capitalize()"
      ]
    },
    {
      "cell_type": "code",
      "execution_count": null,
      "metadata": {
        "colab": {
          "base_uri": "https://localhost:8080/",
          "height": 36
        },
        "id": "XlRGfzWHNccU",
        "outputId": "a22ad567-2d9c-4700-bf64-6447ce3af92e"
      },
      "outputs": [
        {
          "data": {
            "application/vnd.google.colaboratory.intrinsic+json": {
              "type": "string"
            },
            "text/plain": [
              "'hello world'"
            ]
          },
          "execution_count": 16,
          "metadata": {},
          "output_type": "execute_result"
        }
      ],
      "source": [
        "s\n",
        "#so s remains immutable always"
      ]
    },
    {
      "cell_type": "code",
      "execution_count": null,
      "metadata": {
        "colab": {
          "base_uri": "https://localhost:8080/"
        },
        "id": "DmWuStb-YOT_",
        "outputId": "ec71fcb6-7f4e-433a-f917-9d567cc902c4"
      },
      "outputs": [
        {
          "data": {
            "text/plain": [
              "True"
            ]
          },
          "execution_count": 17,
          "metadata": {},
          "output_type": "execute_result"
        }
      ],
      "source": [
        "\"nitish1234\".isalnum()"
      ]
    },
    {
      "cell_type": "code",
      "execution_count": null,
      "metadata": {
        "colab": {
          "base_uri": "https://localhost:8080/"
        },
        "id": "H9uuHWZSNdbR",
        "outputId": "c83adad0-a32d-445e-b3bc-6f5235d586c6"
      },
      "outputs": [
        {
          "data": {
            "text/plain": [
              "False"
            ]
          },
          "execution_count": 18,
          "metadata": {},
          "output_type": "execute_result"
        }
      ],
      "source": [
        "\"nitish@\".isalnum() #checks whether a string contains only alphabets and numerics"
      ]
    },
    {
      "cell_type": "code",
      "execution_count": null,
      "metadata": {
        "colab": {
          "base_uri": "https://localhost:8080/"
        },
        "id": "Nxspa7y8Ycdc",
        "outputId": "b6d490a9-4b2b-43f1-c488-eef265caba89"
      },
      "outputs": [
        {
          "data": {
            "text/plain": [
              "True"
            ]
          },
          "execution_count": 19,
          "metadata": {},
          "output_type": "execute_result"
        }
      ],
      "source": [
        "\"nitish\".isalpha()#checks if string contains only alphabets"
      ]
    },
    {
      "cell_type": "code",
      "execution_count": null,
      "metadata": {
        "colab": {
          "base_uri": "https://localhost:8080/"
        },
        "id": "qYJqcvpLYsFb",
        "outputId": "60c1fe77-878d-48db-b3c9-a037d40ce999"
      },
      "outputs": [
        {
          "data": {
            "text/plain": [
              "True"
            ]
          },
          "execution_count": 20,
          "metadata": {},
          "output_type": "execute_result"
        }
      ],
      "source": [
        "\"123\".isdigit()"
      ]
    },
    {
      "cell_type": "code",
      "execution_count": null,
      "metadata": {
        "colab": {
          "base_uri": "https://localhost:8080/"
        },
        "id": "fGy4mP79cRl2",
        "outputId": "4385addb-3d6d-492f-dbb2-ff385a632fb8"
      },
      "outputs": [
        {
          "data": {
            "text/plain": [
              "False"
            ]
          },
          "execution_count": 21,
          "metadata": {},
          "output_type": "execute_result"
        }
      ],
      "source": [
        "\"123abc\".isdigit()"
      ]
    },
    {
      "cell_type": "code",
      "execution_count": null,
      "metadata": {
        "colab": {
          "base_uri": "https://localhost:8080/"
        },
        "id": "ToZkjZ9Ochn-",
        "outputId": "733ad700-6434-46a7-89b3-bc4f30e32cbe"
      },
      "outputs": [
        {
          "data": {
            "text/plain": [
              "True"
            ]
          },
          "execution_count": 22,
          "metadata": {},
          "output_type": "execute_result"
        }
      ],
      "source": [
        "\"name1\".isidentifier()"
      ]
    },
    {
      "cell_type": "code",
      "execution_count": null,
      "metadata": {
        "colab": {
          "base_uri": "https://localhost:8080/"
        },
        "id": "ettDkLMIcmZ1",
        "outputId": "4422eed0-630d-40be-87c5-dc0375c0c168"
      },
      "outputs": [
        {
          "data": {
            "text/plain": [
              "False"
            ]
          },
          "execution_count": 23,
          "metadata": {},
          "output_type": "execute_result"
        }
      ],
      "source": [
        "\"1name\".isidentifier()"
      ]
    },
    {
      "cell_type": "code",
      "execution_count": null,
      "metadata": {
        "colab": {
          "base_uri": "https://localhost:8080/"
        },
        "id": "66ClCBKvcq07",
        "outputId": "6ee3946e-2d40-410c-b3ed-bf766f3703b7"
      },
      "outputs": [
        {
          "data": {
            "text/plain": [
              "False"
            ]
          },
          "execution_count": 24,
          "metadata": {},
          "output_type": "execute_result"
        }
      ],
      "source": [
        "\"name-1\".isidentifier()"
      ]
    },
    {
      "cell_type": "code",
      "execution_count": null,
      "metadata": {
        "colab": {
          "base_uri": "https://localhost:8080/"
        },
        "id": "O62YVKv6cxUD",
        "outputId": "f0dfec01-21c2-4895-8d63-b65a9028179d"
      },
      "outputs": [
        {
          "data": {
            "text/plain": [
              "True"
            ]
          },
          "execution_count": 25,
          "metadata": {},
          "output_type": "execute_result"
        }
      ],
      "source": [
        "\"name_1\".isidentifier()"
      ]
    },
    {
      "cell_type": "code",
      "execution_count": null,
      "metadata": {
        "colab": {
          "base_uri": "https://localhost:8080/"
        },
        "id": "SiAc7SEAc2mp",
        "outputId": "c72e6bab-395d-4481-a262-2d2daf429d17"
      },
      "outputs": [
        {
          "data": {
            "text/plain": [
              "['h', ' my name ', 's n', 't', 'sh']"
            ]
          },
          "execution_count": 26,
          "metadata": {},
          "output_type": "execute_result"
        }
      ],
      "source": [
        "\"hi my name is nitish\".split('i')\n",
        "#we split on the basis of 'i' hence few list elements are formed as shown below\n",
        "#h,' my name ','s n','t','sh']\n",
        "#h,' my name ','s n','t','sh'"
      ]
    },
    {
      "cell_type": "code",
      "execution_count": null,
      "metadata": {
        "colab": {
          "base_uri": "https://localhost:8080/"
        },
        "id": "hWwwGC1GjDhc",
        "outputId": "f1a9312e-fa38-4d2d-bfa5-52e0ec618c78"
      },
      "outputs": [
        {
          "data": {
            "text/plain": [
              "['hi my name ', ' nit', 'h']"
            ]
          },
          "execution_count": 27,
          "metadata": {},
          "output_type": "execute_result"
        }
      ],
      "source": [
        "\"hi my name is nitish\".split(\"is\")\n",
        "#we split on the basis of 'is' hence list elements would be formed as shown below\n",
        "#hi my name ',' nit','h'"
      ]
    },
    {
      "cell_type": "code",
      "execution_count": null,
      "metadata": {
        "colab": {
          "base_uri": "https://localhost:8080/",
          "height": 36
        },
        "id": "gKRDx9jgA0bk",
        "outputId": "26c7bb9a-07d1-42ca-ecf7-721701d12e86"
      },
      "outputs": [
        {
          "data": {
            "application/vnd.google.colaboratory.intrinsic+json": {
              "type": "string"
            },
            "text/plain": [
              "'hi my name is mahendra'"
            ]
          },
          "execution_count": 1,
          "metadata": {},
          "output_type": "execute_result"
        }
      ],
      "source": [
        "\" \".join([\"hi\",\"my\",\"name\",\"is\",\"mahendra\"])"
      ]
    },
    {
      "cell_type": "code",
      "execution_count": null,
      "metadata": {
        "colab": {
          "base_uri": "https://localhost:8080/",
          "height": 36
        },
        "id": "aRSv1IIXNdhP",
        "outputId": "d639cfb1-9e20-437d-d76c-cfd018fc3b88"
      },
      "outputs": [
        {
          "data": {
            "application/vnd.google.colaboratory.intrinsic+json": {
              "type": "string"
            },
            "text/plain": [
              "'hi-my-name-is-mahendra'"
            ]
          },
          "execution_count": 2,
          "metadata": {},
          "output_type": "execute_result"
        }
      ],
      "source": [
        "\"-\".join([\"hi\",\"my\",\"name\",\"is\",\"mahendra\"])"
      ]
    },
    {
      "cell_type": "code",
      "execution_count": null,
      "metadata": {
        "colab": {
          "base_uri": "https://localhost:8080/",
          "height": 36
        },
        "id": "946K7E1YNnIC",
        "outputId": "3c91345a-39a0-4b3b-ebd0-dad676651382"
      },
      "outputs": [
        {
          "data": {
            "application/vnd.google.colaboratory.intrinsic+json": {
              "type": "string"
            },
            "text/plain": [
              "'hi my name is campusx'"
            ]
          },
          "execution_count": 3,
          "metadata": {},
          "output_type": "execute_result"
        }
      ],
      "source": [
        "\"hi my name is nitish\".replace(\"nitish\",\"campusx\")"
      ]
    },
    {
      "cell_type": "code",
      "execution_count": null,
      "metadata": {
        "colab": {
          "base_uri": "https://localhost:8080/",
          "height": 36
        },
        "id": "YxG6PpQ-P4N7",
        "outputId": "5e206a0d-1d39-481e-e7ae-cb533c7f598b"
      },
      "outputs": [
        {
          "data": {
            "application/vnd.google.colaboratory.intrinsic+json": {
              "type": "string"
            },
            "text/plain": [
              "'nitundra'"
            ]
          },
          "execution_count": 4,
          "metadata": {},
          "output_type": "execute_result"
        }
      ],
      "source": [
        "\"nitundra            \".strip()\n",
        "#removes white spaces"
      ]
    },
    {
      "cell_type": "code",
      "execution_count": null,
      "metadata": {
        "colab": {
          "base_uri": "https://localhost:8080/"
        },
        "id": "ZsG8nCicRWgt",
        "outputId": "20a15b1c-adab-42c6-f64d-6db7e9acd450"
      },
      "outputs": [
        {
          "name": "stdout",
          "output_type": "stream",
          "text": [
            "Enter the string: mahendra singh dhoni\n",
            "20\n"
          ]
        }
      ],
      "source": [
        "#find length of string without using len() function\n",
        "a=input(\"Enter the string: \")\n",
        "counter=0\n",
        "for i in a:\n",
        "  counter+=1\n",
        "print(counter)"
      ]
    },
    {
      "cell_type": "code",
      "execution_count": null,
      "metadata": {
        "colab": {
          "base_uri": "https://localhost:8080/",
          "height": 53
        },
        "id": "-UQuVIxCSRLl",
        "outputId": "fcc170ee-72e7-47d0-c915-8706abc5d3e9"
      },
      "outputs": [
        {
          "name": "stdout",
          "output_type": "stream",
          "text": [
            "Enter the gmail: shaktisaurabh06@gmail.com\n"
          ]
        },
        {
          "data": {
            "application/vnd.google.colaboratory.intrinsic+json": {
              "type": "string"
            },
            "text/plain": [
              "'shaktisaurabh06'"
            ]
          },
          "execution_count": 7,
          "metadata": {},
          "output_type": "execute_result"
        }
      ],
      "source": [
        "a=input(\"Enter the gmail: \")\n",
        "a.split('@')[0]"
      ]
    },
    {
      "cell_type": "code",
      "execution_count": null,
      "metadata": {
        "colab": {
          "base_uri": "https://localhost:8080/"
        },
        "id": "KYVdekLxTT1Z",
        "outputId": "d5855728-20bc-483a-e422-5e2477ad66da"
      },
      "outputs": [
        {
          "name": "stdout",
          "output_type": "stream",
          "text": [
            "Enter the gmail: nitish24singh@gmail.com\n",
            "nitish24singh\n"
          ]
        }
      ],
      "source": [
        "a=input(\"Enter the gmail: \")\n",
        "pos=a.index('@')\n",
        "print(a[0:pos])\n",
        "#a.index('@') prints the exact index of '@' character"
      ]
    },
    {
      "cell_type": "code",
      "execution_count": null,
      "metadata": {
        "colab": {
          "base_uri": "https://localhost:8080/"
        },
        "id": "_2-i-zIhT_7w",
        "outputId": "8a544703-dd07-4388-8cb7-dc071c5c01c9"
      },
      "outputs": [
        {
          "name": "stdout",
          "output_type": "stream",
          "text": [
            "Enter the string: hi how are you this is shakti\n",
            "4\n"
          ]
        }
      ],
      "source": [
        "#count the frequency of words\n",
        "a=input(\"Enter the string: \")\n",
        "c=0\n",
        "for i in a:\n",
        "  if \"i\" in i:\n",
        "    c+=1\n",
        "print(c)"
      ]
    },
    {
      "cell_type": "code",
      "execution_count": null,
      "metadata": {
        "colab": {
          "base_uri": "https://localhost:8080/"
        },
        "id": "9T-PIl5CGYr1",
        "outputId": "a5dc7930-f4e9-4026-b7b2-86bf72c49ef6"
      },
      "outputs": [
        {
          "name": "stdout",
          "output_type": "stream",
          "text": [
            "Enter the string: Rana kumbha hit the last 5 balls for 5 sixes\n",
            "Enter the string which is supposed to replace previous string: ix\n",
            "Rana kumbha hit the last 5 balls for 5 ses\n"
          ]
        }
      ],
      "source": [
        "#A program which can remove a particular character from a string\n",
        "a=input(\"Enter the string: \")\n",
        "b=input(\"Enter the string which is supposed to replace previous string: \")\n",
        "c=a.replace(b,\"\")\n",
        "print(c)"
      ]
    },
    {
      "cell_type": "code",
      "execution_count": null,
      "metadata": {
        "colab": {
          "base_uri": "https://localhost:8080/"
        },
        "id": "rNxEH1ZYIzQ7",
        "outputId": "c053d423-1d66-424c-bdb6-b8c28ab48607"
      },
      "outputs": [
        {
          "name": "stdout",
          "output_type": "stream",
          "text": [
            "Enter the string: nitish\n",
            "Enter the string: i\n",
            "n\n",
            "t\n",
            "s\n",
            "h\n",
            "ntsh\n"
          ]
        }
      ],
      "source": [
        "a=input(\"Enter the string: \")\n",
        "bec=input(\"Enter the string: \")\n",
        "result=\"\"\n",
        "for i in a:\n",
        "  if i!=bec:\n",
        "    print(i)\n",
        "    result=result+i\n",
        "print(result)"
      ]
    },
    {
      "cell_type": "code",
      "execution_count": null,
      "metadata": {
        "colab": {
          "base_uri": "https://localhost:8080/"
        },
        "id": "vHlwYkmVnRIn",
        "outputId": "61f1307e-447e-4e9c-9a14-e423a1cb6f6d"
      },
      "outputs": [
        {
          "name": "stdout",
          "output_type": "stream",
          "text": [
            "Enter the string: dhoni\n",
            "Not palindrome\n"
          ]
        }
      ],
      "source": [
        "a=input(\"Enter the string: \")\n",
        "c=a[::-1]\n",
        "if a==c:\n",
        "  print(\"Palindrome\")\n",
        "else:\n",
        "  print(\"Not palindrome\")"
      ]
    },
    {
      "cell_type": "code",
      "execution_count": null,
      "metadata": {
        "colab": {
          "base_uri": "https://localhost:8080/"
        },
        "id": "9ZIWwkbnoCED",
        "outputId": "9d08106a-2b03-455d-f070-b1a185500537"
      },
      "outputs": [
        {
          "name": "stdout",
          "output_type": "stream",
          "text": [
            "Enter the string: mahendra singh dhonineham\n",
            "Not palindrome\n"
          ]
        }
      ],
      "source": [
        "a=input(\"Enter the string: \")\n",
        "flag=True\n",
        "for i in range(len(a)//2):\n",
        "  if a[i]!=a[len(a)-i-1]:\n",
        "    flag=False\n",
        "    print(\"Not palindrome\")\n",
        "    break\n",
        "if flag:\n",
        "  print(\"Palindrome\")"
      ]
    },
    {
      "cell_type": "code",
      "execution_count": null,
      "metadata": {
        "colab": {
          "base_uri": "https://localhost:8080/"
        },
        "id": "3zQiNcqvy2oJ",
        "outputId": "a556bf7a-17ca-4e86-9f2d-d260a8fae80c"
      },
      "outputs": [
        {
          "name": "stdout",
          "output_type": "stream",
          "text": [
            "Enter the string: who is he\n",
            "['who', 'is', 'he']\n",
            "3\n"
          ]
        }
      ],
      "source": [
        "#find the number of words without using split\n",
        "import re\n",
        "a=input(\"Enter the string: \")\n",
        "c=re.findall(\"\\w+\",a)\n",
        "print(c)\n",
        "print(len(c))"
      ]
    },
    {
      "cell_type": "code",
      "execution_count": null,
      "metadata": {
        "colab": {
          "base_uri": "https://localhost:8080/"
        },
        "id": "R_CfKRV0L16V",
        "outputId": "671ee106-bcd5-4fb8-9558-d5f80ba1d508"
      },
      "outputs": [
        {
          "name": "stdout",
          "output_type": "stream",
          "text": [
            "Enter the string: hello when will you come\n",
            "['hello', 'when', 'will', 'you', 'come']\n",
            "5\n"
          ]
        }
      ],
      "source": [
        "import re\n",
        "a=input(\"Enter the string: \")\n",
        "c=re.findall(\"\\w+\",a)\n",
        "print(c)\n",
        "print(len(c))"
      ]
    },
    {
      "cell_type": "code",
      "execution_count": null,
      "metadata": {
        "colab": {
          "base_uri": "https://localhost:8080/"
        },
        "id": "XBNXRPj7NOWZ",
        "outputId": "85484113-7df2-4600-91bc-fe8e512e918c"
      },
      "outputs": [
        {
          "name": "stdout",
          "output_type": "stream",
          "text": [
            "Enter the string: hello how are you ballu\n",
            "5\n"
          ]
        }
      ],
      "source": [
        "a=input(\"Enter the string: \")\n",
        "l=[]\n",
        "temp=\"\"\n",
        "for i in a:\n",
        "  if i!=\" \":\n",
        "    temp+=i\n",
        "  else:\n",
        "    l.append(temp)\n",
        "    temp=\"\"\n",
        "l.append(temp)\n",
        "print(len(l))"
      ]
    },
    {
      "cell_type": "code",
      "execution_count": null,
      "metadata": {
        "colab": {
          "base_uri": "https://localhost:8080/",
          "height": 36
        },
        "id": "sWPrOIEaQAs2",
        "outputId": "43bea79d-6ee7-4609-8ae1-716924044a9f"
      },
      "outputs": [
        {
          "data": {
            "application/vnd.google.colaboratory.intrinsic+json": {
              "type": "string"
            },
            "text/plain": [
              "'Hello Sarath Kumar'"
            ]
          },
          "execution_count": 23,
          "metadata": {},
          "output_type": "execute_result"
        }
      ],
      "source": [
        "#write a python programe to convert string to title case without using title()\n",
        "a=\"hello sarath kumar\"\n",
        "a.title()"
      ]
    },
    {
      "cell_type": "code",
      "execution_count": null,
      "metadata": {
        "colab": {
          "base_uri": "https://localhost:8080/"
        },
        "id": "80pAFG23SCf0",
        "outputId": "b5a50c05-4e53-4495-c21f-0499147bb333"
      },
      "outputs": [
        {
          "name": "stdout",
          "output_type": "stream",
          "text": [
            "Enter the entire sentence: hello how are you\n",
            "['Hhellohellohellohello', 'Hhowhow', 'Aareare', 'Yyouyou']\n"
          ]
        }
      ],
      "source": [
        "import re\n",
        "a=input(\"Enter the entire sentence: \")\n",
        "c=re.findall(\"\\w+\",a)\n",
        "l=[]\n",
        "temp=\"\"\n",
        "for i in c:\n",
        "  for j in i:\n",
        "     if j==i[0]:\n",
        "         cm=chr(ord(j)-32)\n",
        "         temp+=cm\n",
        "     else:\n",
        "       temp+=i\n",
        "  l.append(temp)\n",
        "  temp=\"\"\n",
        "print(l)\n",
        "\n",
        "\n"
      ]
    },
    {
      "cell_type": "code",
      "execution_count": null,
      "metadata": {
        "colab": {
          "base_uri": "https://localhost:8080/"
        },
        "id": "kRBb9YbKmD5P",
        "outputId": "28792215-2cd7-4391-d32f-6092772a7d8b"
      },
      "outputs": [
        {
          "name": "stdout",
          "output_type": "stream",
          "text": [
            "Enter the entire sentence: hello how are you\n",
            "hello\n",
            "h\n",
            "how\n",
            "h\n",
            "are\n",
            "a\n",
            "you\n",
            "y\n"
          ]
        }
      ],
      "source": [
        "import re\n",
        "a=input(\"Enter the entire sentence: \")\n",
        "c=re.findall(\"\\w+\",a)\n",
        "l=[]\n",
        "temp=\"\"\n",
        "for i in c:\n",
        "  print(i)\n",
        "  print(i[0])\n",
        "  for j in i:\n",
        "    # print(i[0])\n",
        "    # print(j)\n",
        "    pass"
      ]
    },
    {
      "cell_type": "code",
      "execution_count": null,
      "metadata": {
        "colab": {
          "base_uri": "https://localhost:8080/"
        },
        "id": "fVO0dOBz_lQN",
        "outputId": "202a9c66-4efc-4ede-c47a-ca3b4a2feff8"
      },
      "outputs": [
        {
          "name": "stdout",
          "output_type": "stream",
          "text": [
            "Enter the entire sentence: hello how are you dhoni bhai\n",
            "hello\n",
            "h\n",
            "h\n",
            "h\n",
            "e\n",
            "h\n",
            "l\n",
            "h\n",
            "l\n",
            "h\n",
            "o\n",
            "how\n",
            "h\n",
            "h\n",
            "h\n",
            "o\n",
            "h\n",
            "w\n",
            "are\n",
            "a\n",
            "a\n",
            "a\n",
            "r\n",
            "a\n",
            "e\n",
            "you\n",
            "y\n",
            "y\n",
            "y\n",
            "o\n",
            "y\n",
            "u\n",
            "dhoni\n",
            "d\n",
            "d\n",
            "d\n",
            "h\n",
            "d\n",
            "o\n",
            "d\n",
            "n\n",
            "d\n",
            "i\n",
            "bhai\n",
            "b\n",
            "b\n",
            "b\n",
            "h\n",
            "b\n",
            "a\n",
            "b\n",
            "i\n"
          ]
        }
      ],
      "source": [
        "import re\n",
        "a=input(\"Enter the entire sentence: \")\n",
        "c=re.findall(\"\\w+\",a)\n",
        "l=[]\n",
        "temp=\"\"\n",
        "for i in c:\n",
        "  print(i)\n",
        "  # print(i[0])\n",
        "  for j in i:\n",
        "    print(i[0])\n",
        "    print(j)"
      ]
    },
    {
      "cell_type": "code",
      "execution_count": null,
      "metadata": {
        "colab": {
          "base_uri": "https://localhost:8080/",
          "height": 70
        },
        "id": "yVRewGMSoMdH",
        "outputId": "507bf0e1-fbc0-4b4d-e8c6-87d5c53868a0"
      },
      "outputs": [
        {
          "name": "stdout",
          "output_type": "stream",
          "text": [
            "Enter the entire sentence: hello how are you\n",
            "['Hello', 'How', 'Are', 'You']\n"
          ]
        },
        {
          "data": {
            "application/vnd.google.colaboratory.intrinsic+json": {
              "type": "string"
            },
            "text/plain": [
              "'Hello How Are You'"
            ]
          },
          "execution_count": 32,
          "metadata": {},
          "output_type": "execute_result"
        }
      ],
      "source": [
        "import re\n",
        "a=input(\"Enter the entire sentence: \")\n",
        "c=re.findall(\"\\w+\",a)\n",
        "l=[]\n",
        "temp=\"\"\n",
        "for i in c:\n",
        "  c=chr(ord(i[0])-32)\n",
        "  temp+=c\n",
        "  for j in i:\n",
        "    if j!=i[0]:\n",
        "      c1=j\n",
        "      temp+=c1\n",
        "  l.append(temp)\n",
        "  temp=\"\"\n",
        "print(l)\n",
        "\" \".join(l)"
      ]
    },
    {
      "cell_type": "code",
      "execution_count": null,
      "metadata": {
        "colab": {
          "background_save": true
        },
        "id": "oHtYN9C8Bwos",
        "outputId": "6c4ab97a-bfdd-470f-a256-eb77a3c34867"
      },
      "outputs": [
        {
          "name": "stdout",
          "output_type": "stream",
          "text": [
            "['H', 'E', 'L', 'L', 'O', '\\x00', 'H', 'O', 'W', '\\x00', 'A', 'R', 'E', '\\x00', 'Y', 'O', 'U', '\\x00', 'M', 'A', 'H', 'E', 'N', 'D', 'R', 'A']\n"
          ]
        },
        {
          "data": {
            "application/vnd.google.colaboratory.intrinsic+json": {
              "type": "string"
            },
            "text/plain": [
              "'H E L L O \\x00 H O W \\x00 A R E \\x00 Y O U \\x00 M A H E N D R A'"
            ]
          },
          "execution_count": 2,
          "metadata": {},
          "output_type": "execute_result"
        }
      ],
      "source": [
        "import re\n",
        "a=input(\"Enter the string: \")\n",
        "c=re.findall(\"\\w+\",a)\n",
        "l=[]\n",
        "temp=\"\"\n",
        "for i in a:\n",
        "  c1=chr(ord(i[0])-32)\n",
        "  temp+=c1\n",
        "  for j in i:\n",
        "    if j!=i[0]:\n",
        "      c2=j\n",
        "      temp+=c2\n",
        "  l.append(temp)\n",
        "  temp=\"\"\n",
        "print(l)\n",
        "\" \".join(l)\n"
      ]
    },
    {
      "cell_type": "code",
      "source": [
        "import re\n",
        "a=input(\"Enter the string: \")\n",
        "l=[]\n",
        "temp=\"\"\n",
        "for i in a.split():\n",
        "  c1=chr(ord(i[0])-32)\n",
        "  temp+=c1\n",
        "  for j in i:\n",
        "    if j!=i[0]:\n",
        "      c2=j\n",
        "      temp+=c2\n",
        "  l.append(temp)\n",
        "  temp=\"\"\n",
        "\" \".join(l)"
      ],
      "metadata": {
        "colab": {
          "base_uri": "https://localhost:8080/",
          "height": 53
        },
        "id": "c-k7-NSYbL-b",
        "outputId": "dd24663d-a9a8-49e7-a592-42a4a8cda2ab"
      },
      "execution_count": null,
      "outputs": [
        {
          "name": "stdout",
          "output_type": "stream",
          "text": [
            "Enter the string: hello how are you\n"
          ]
        },
        {
          "output_type": "execute_result",
          "data": {
            "text/plain": [
              "'Hello How Are You'"
            ],
            "application/vnd.google.colaboratory.intrinsic+json": {
              "type": "string"
            }
          },
          "metadata": {},
          "execution_count": 2
        }
      ]
    },
    {
      "cell_type": "code",
      "source": [
        "a=input(\"Enter the string: \")\n",
        "l=[]\n",
        "for i in a.split():\n",
        "  l.append(i[0].upper()+i[1:].lower())\n",
        "print(l)\n",
        "\" \".join(l)"
      ],
      "metadata": {
        "colab": {
          "base_uri": "https://localhost:8080/",
          "height": 70
        },
        "id": "YIr9Fojdhaax",
        "outputId": "48bfdcbd-7db3-456f-ef69-b3a02caba6ec"
      },
      "execution_count": null,
      "outputs": [
        {
          "output_type": "stream",
          "name": "stdout",
          "text": [
            "Enter the string: hello how are you\n",
            "['Hello', 'How', 'Are', 'You']\n"
          ]
        },
        {
          "output_type": "execute_result",
          "data": {
            "text/plain": [
              "'Hello How Are You'"
            ],
            "application/vnd.google.colaboratory.intrinsic+json": {
              "type": "string"
            }
          },
          "metadata": {},
          "execution_count": 4
        }
      ]
    },
    {
      "cell_type": "code",
      "source": [
        "#write a program that can convert integer to string\n",
        "a=int(input(\"Enter the number: \"))\n",
        "c=\"0123456789\"\n",
        "res=\"\"\n",
        "while a!=0:\n",
        "  res=c[a%10]+res\n",
        "  a=a//10\n",
        "print(res)\n"
      ],
      "metadata": {
        "id": "um4UY5HGjTZq",
        "colab": {
          "base_uri": "https://localhost:8080/"
        },
        "outputId": "62cb55a3-0670-4c84-c14b-de3574e50568"
      },
      "execution_count": null,
      "outputs": [
        {
          "output_type": "stream",
          "name": "stdout",
          "text": [
            "Enter the number: 96578\n",
            "96578\n"
          ]
        }
      ]
    },
    {
      "cell_type": "code",
      "source": [
        "# Problem 1 - Print the following pattern. Write a program to use for loop to print the following reverse number pattern.\n",
        "# 5 4 3 2 1\n",
        "# 4 3 2 1\n",
        "# 3 2 1\n",
        "# 2 1\n",
        "# 1\n",
        "for i in range(5,0,-1):\n",
        "  for j in range(i,0,-1):\n",
        "    print(j,end=\" \")\n",
        "  print()\n",
        "#\n"
      ],
      "metadata": {
        "colab": {
          "base_uri": "https://localhost:8080/"
        },
        "id": "zyG5AyastJtt",
        "outputId": "dd261f6c-0fdb-49e0-84f6-85eac6dad7d8"
      },
      "execution_count": null,
      "outputs": [
        {
          "output_type": "stream",
          "name": "stdout",
          "text": [
            "5 4 3 2 1 \n",
            "4 3 2 1 \n",
            "3 2 1 \n",
            "2 1 \n",
            "1 \n"
          ]
        }
      ]
    },
    {
      "cell_type": "code",
      "source": [
        "# Problem 2: Print the following pattern\n",
        "# *\n",
        "# * *\n",
        "# * * *\n",
        "# * * * *\n",
        "# * * * * *\n",
        "# * * * *\n",
        "# * * *\n",
        "# * *\n",
        "# *\n",
        "for i in range(5):\n",
        "  for j in range(i+1):\n",
        "    print(\"*\",end=\" \")\n",
        "  print()\n",
        "for l in range(5,0,-1):\n",
        "  for m in range(l):\n",
        "    print(\"*\",end=\" \")\n",
        "  print()"
      ],
      "metadata": {
        "colab": {
          "base_uri": "https://localhost:8080/"
        },
        "id": "RshFN19T0VVP",
        "outputId": "be8a403e-8dba-4d25-c69b-c9faf1161e56"
      },
      "execution_count": null,
      "outputs": [
        {
          "output_type": "stream",
          "name": "stdout",
          "text": [
            "* \n",
            "* * \n",
            "* * * \n",
            "* * * * \n",
            "* * * * * \n",
            "* * * * * \n",
            "* * * * \n",
            "* * * \n",
            "* * \n",
            "* \n"
          ]
        }
      ]
    },
    {
      "cell_type": "code",
      "source": [
        "# Problem 3:Write a program to pring the following pattern\n",
        "    # *\n",
        "  # * * *\n",
        "# * * * * *\n",
        "for i in range(3):\n",
        "  for j in range(i+1):\n",
        "    print(\"*\",end=\" \")\n",
        "  print(\"   \")"
      ],
      "metadata": {
        "colab": {
          "base_uri": "https://localhost:8080/"
        },
        "id": "RXCnuvQA74I8",
        "outputId": "f16e8d42-6c98-4f8b-cd80-9c970d88b5d9"
      },
      "execution_count": null,
      "outputs": [
        {
          "output_type": "stream",
          "name": "stdout",
          "text": [
            "*    \n",
            "* *    \n",
            "* * *    \n"
          ]
        }
      ]
    },
    {
      "cell_type": "code",
      "source": [
        "# Problem 4:Write a program to print the following pattern\n",
        "# 1\n",
        "\n",
        "# 2 1\n",
        "\n",
        "# 3 2 1\n",
        "\n",
        "# 4 3 2 1\n",
        "\n",
        "# 5 4 3 2 1\n",
        "for i in range(1,5):\n",
        "  if i==1:\n",
        "    print(i)\n",
        "  for j in range(i+1,0,-1):\n",
        "    print(j,end=\" \")\n",
        "  print()\n",
        "\n"
      ],
      "metadata": {
        "colab": {
          "base_uri": "https://localhost:8080/"
        },
        "id": "OwplTB4MMSFy",
        "outputId": "021eda9b-a23a-4f36-98fe-cabf3052a3b9"
      },
      "execution_count": null,
      "outputs": [
        {
          "output_type": "stream",
          "name": "stdout",
          "text": [
            "1\n",
            "2 1 \n",
            "3 2 1 \n",
            "4 3 2 1 \n",
            "5 4 3 2 1 \n"
          ]
        }
      ]
    },
    {
      "cell_type": "code",
      "source": [
        "# Problem 5: Write a Python Program to Find the Sum of the Series till the nth term:\n",
        "# 1 + x^2/2 + x^3/3 + … x^n/n\n",
        "# n will be provided by the user\n",
        "x=int(input(\"Enter x: \"))\n",
        "n=int(input(\"Enter n: \"))\n",
        "c=1\n",
        "for i in range(2,n+1):\n",
        "  c+=x**i/i\n",
        "print(c)\n"
      ],
      "metadata": {
        "colab": {
          "base_uri": "https://localhost:8080/"
        },
        "id": "Qh2ShGfxg97V",
        "outputId": "6939df11-1c9f-4e57-b136-832171a4898c"
      },
      "execution_count": null,
      "outputs": [
        {
          "output_type": "stream",
          "name": "stdout",
          "text": [
            "Enter x: 2\n",
            "Enter n: 5\n",
            "16.066666666666666\n"
          ]
        }
      ]
    },
    {
      "cell_type": "code",
      "source": [
        "x=int(input(\"Enter the input: \"))\n",
        "c=(x-1)/x\n",
        "for i in range(1,8):\n",
        "  c+=1/2*((x-1)/x)**i\n",
        "print(c)\n"
      ],
      "metadata": {
        "colab": {
          "base_uri": "https://localhost:8080/"
        },
        "id": "QCUPYE6_ps95",
        "outputId": "df2be47f-9903-473f-f39c-10223cda874d"
      },
      "execution_count": null,
      "outputs": [
        {
          "output_type": "stream",
          "name": "stdout",
          "text": [
            "Enter the input: 3\n",
            "1.6081390032007314\n"
          ]
        }
      ]
    },
    {
      "cell_type": "code",
      "source": [
        "# Problem 7 - Find the sum of the series upto n terms.\n",
        "# Write a program to calculate the sum of series up to n term. For example, if n =5 the series will become 2 + 22 + 222 + 2222 + 22222 = 24690. Take the user input and then calculate. And the output style should match which is given in the example.\n",
        "n=int(input(\"Enter the number: \"))\n",
        "c=2\n",
        "for i in range(1,5):\n",
        "  a=c*10+c\n",
        "  print(c)\n",
        "  c+=a\n",
        "  print(c)\n",
        "\n",
        "\n"
      ],
      "metadata": {
        "colab": {
          "base_uri": "https://localhost:8080/"
        },
        "id": "huSvUZ3Mx5hP",
        "outputId": "4ffe4177-2889-4735-b967-a12699511a9f"
      },
      "execution_count": null,
      "outputs": [
        {
          "output_type": "stream",
          "name": "stdout",
          "text": [
            "Enter the number: 5\n",
            "2\n",
            "24\n",
            "24\n",
            "288\n",
            "288\n",
            "3456\n",
            "3456\n",
            "41472\n"
          ]
        }
      ]
    },
    {
      "cell_type": "code",
      "source": [
        "n=int(input(\"Enter the number: \"))\n",
        "c=2\n",
        "l=2\n",
        "for i in range(1,n):\n",
        "  k=2\n",
        "  d=l*10+k\n",
        "  l=d\n",
        "  print(l)\n",
        "  c+=d\n",
        "print(c)\n",
        "\n"
      ],
      "metadata": {
        "colab": {
          "base_uri": "https://localhost:8080/"
        },
        "id": "y_JC9eARW1sc",
        "outputId": "d1d301a6-3c19-448a-bdc8-01cddfa1d0d4"
      },
      "execution_count": null,
      "outputs": [
        {
          "output_type": "stream",
          "name": "stdout",
          "text": [
            "Enter the number: 5\n",
            "22\n",
            "222\n",
            "2222\n",
            "22222\n",
            "24690\n"
          ]
        }
      ]
    },
    {
      "cell_type": "code",
      "source": [
        "# Problem 8: Write a program to print all the unique combinations of 1,2,3 and 4\n"
      ],
      "metadata": {
        "id": "673AMM0wlnJy"
      },
      "execution_count": null,
      "outputs": []
    },
    {
      "cell_type": "code",
      "source": [
        "from itertools import permutations\n",
        "\n",
        "numbers = [1, 2, 3, 4]\n",
        "\n",
        "# Generate all permutations\n",
        "perms = list(permutations(numbers))\n",
        "list(permutations(numbers))\n",
        "for perm in perms:\n",
        "  print(' '.join(str(perm)))"
      ],
      "metadata": {
        "colab": {
          "base_uri": "https://localhost:8080/"
        },
        "id": "EREnI1hwm6G7",
        "outputId": "717f637e-325b-4162-bbd0-49b30184f47c"
      },
      "execution_count": null,
      "outputs": [
        {
          "output_type": "stream",
          "name": "stdout",
          "text": [
            "( 1 ,   2 ,   3 ,   4 )\n",
            "( 1 ,   2 ,   4 ,   3 )\n",
            "( 1 ,   3 ,   2 ,   4 )\n",
            "( 1 ,   3 ,   4 ,   2 )\n",
            "( 1 ,   4 ,   2 ,   3 )\n",
            "( 1 ,   4 ,   3 ,   2 )\n",
            "( 2 ,   1 ,   3 ,   4 )\n",
            "( 2 ,   1 ,   4 ,   3 )\n",
            "( 2 ,   3 ,   1 ,   4 )\n",
            "( 2 ,   3 ,   4 ,   1 )\n",
            "( 2 ,   4 ,   1 ,   3 )\n",
            "( 2 ,   4 ,   3 ,   1 )\n",
            "( 3 ,   1 ,   2 ,   4 )\n",
            "( 3 ,   1 ,   4 ,   2 )\n",
            "( 3 ,   2 ,   1 ,   4 )\n",
            "( 3 ,   2 ,   4 ,   1 )\n",
            "( 3 ,   4 ,   1 ,   2 )\n",
            "( 3 ,   4 ,   2 ,   1 )\n",
            "( 4 ,   1 ,   2 ,   3 )\n",
            "( 4 ,   1 ,   3 ,   2 )\n",
            "( 4 ,   2 ,   1 ,   3 )\n",
            "( 4 ,   2 ,   3 ,   1 )\n",
            "( 4 ,   3 ,   1 ,   2 )\n",
            "( 4 ,   3 ,   2 ,   1 )\n"
          ]
        }
      ]
    },
    {
      "cell_type": "code",
      "source": [
        "from itertools import permutations\n",
        "\n",
        "numbers = [1, 2, 3, 4]\n",
        "\n",
        "# Generate all permutations\n",
        "perms = list(permutations(numbers))\n",
        "list(permutations(numbers))\n",
        "for perm in set(perms):\n",
        "  print(' '.join(map(str,perm)))"
      ],
      "metadata": {
        "colab": {
          "base_uri": "https://localhost:8080/"
        },
        "id": "obGnLW5Wn6kq",
        "outputId": "0fc61508-fbfe-4b19-d9fd-6fcf9226e89f"
      },
      "execution_count": null,
      "outputs": [
        {
          "output_type": "stream",
          "name": "stdout",
          "text": [
            "2 3 1 4\n",
            "1 2 3 4\n",
            "1 2 4 3\n",
            "3 1 2 4\n",
            "2 4 3 1\n",
            "4 3 2 1\n",
            "4 1 3 2\n",
            "1 4 2 3\n",
            "4 2 1 3\n",
            "2 4 1 3\n",
            "4 3 1 2\n",
            "3 4 2 1\n",
            "3 2 4 1\n",
            "2 1 4 3\n",
            "4 1 2 3\n",
            "2 1 3 4\n",
            "3 4 1 2\n",
            "1 3 4 2\n",
            "3 2 1 4\n",
            "2 3 4 1\n",
            "1 3 2 4\n",
            "4 2 3 1\n",
            "1 4 3 2\n",
            "3 1 4 2\n"
          ]
        }
      ]
    },
    {
      "cell_type": "code",
      "source": [
        "from itertools import permutations\n",
        "\n",
        "numbers = [1, 2, 3, 4]\n",
        "\n",
        "# Generate all permutations\n",
        "perms = list(permutations(numbers))\n",
        "list(permutations(numbers))\n",
        "for perm in perms:\n",
        "  print(' '.join(map(str,perm)))"
      ],
      "metadata": {
        "colab": {
          "base_uri": "https://localhost:8080/"
        },
        "id": "0eDQUqbSpBOd",
        "outputId": "31ad21b4-3d63-4a6e-ee42-d498518d7028"
      },
      "execution_count": null,
      "outputs": [
        {
          "output_type": "stream",
          "name": "stdout",
          "text": [
            "1 2 3 4\n",
            "1 2 4 3\n",
            "1 3 2 4\n",
            "1 3 4 2\n",
            "1 4 2 3\n",
            "1 4 3 2\n",
            "2 1 3 4\n",
            "2 1 4 3\n",
            "2 3 1 4\n",
            "2 3 4 1\n",
            "2 4 1 3\n",
            "2 4 3 1\n",
            "3 1 2 4\n",
            "3 1 4 2\n",
            "3 2 1 4\n",
            "3 2 4 1\n",
            "3 4 1 2\n",
            "3 4 2 1\n",
            "4 1 2 3\n",
            "4 1 3 2\n",
            "4 2 1 3\n",
            "4 2 3 1\n",
            "4 3 1 2\n",
            "4 3 2 1\n"
          ]
        }
      ]
    },
    {
      "cell_type": "code",
      "source": [
        "a=[1,2,3,4,4,4,4,4,4,4,4,4]\n",
        "print(set(a))"
      ],
      "metadata": {
        "colab": {
          "base_uri": "https://localhost:8080/"
        },
        "id": "dLIG5ELipIc9",
        "outputId": "75f31843-0ada-49ba-f699-cad6d0f076bb"
      },
      "execution_count": null,
      "outputs": [
        {
          "output_type": "stream",
          "name": "stdout",
          "text": [
            "{1, 2, 3, 4}\n"
          ]
        }
      ]
    },
    {
      "cell_type": "code",
      "source": [
        "a=[(1,2,3,4),(1,2,3,4),(1,2,3,4),(3,1,2,4),(1,3,2,4),(4,1,2,3)]\n",
        "print(set(a))"
      ],
      "metadata": {
        "colab": {
          "base_uri": "https://localhost:8080/"
        },
        "id": "_ZzL3KfgpScN",
        "outputId": "3a9a0fe7-0d29-404a-f1f3-b7a5a7c8df2a"
      },
      "execution_count": null,
      "outputs": [
        {
          "output_type": "stream",
          "name": "stdout",
          "text": [
            "{(1, 2, 3, 4), (3, 1, 2, 4), (1, 3, 2, 4), (4, 1, 2, 3)}\n"
          ]
        }
      ]
    },
    {
      "cell_type": "code",
      "source": [
        "# Problem 9: Write a program that will take a decimal number as input and prints out the binary equivalent of the number\n",
        "a=int(input(\"Enter the number: \"))\n",
        "l=\"\"\n",
        "while a!=0:\n",
        "  c=a%2\n",
        "  l+=str(c)\n",
        "  a=a//2\n",
        "print(l[::-1])"
      ],
      "metadata": {
        "colab": {
          "base_uri": "https://localhost:8080/"
        },
        "id": "iXxqZqLLrhA-",
        "outputId": "23944f73-45fb-44d8-ab8d-ddf054f5d9af"
      },
      "execution_count": null,
      "outputs": [
        {
          "output_type": "stream",
          "name": "stdout",
          "text": [
            "Enter the number: 257\n",
            "100000001\n"
          ]
        }
      ]
    },
    {
      "cell_type": "code",
      "source": [
        "a=25\n",
        "print(a//2)\n",
        "print(a/2)"
      ],
      "metadata": {
        "colab": {
          "base_uri": "https://localhost:8080/"
        },
        "id": "Y7tfdQYpummZ",
        "outputId": "6f177e0c-a3f8-4f79-d865-cdfaad7be2b5"
      },
      "execution_count": null,
      "outputs": [
        {
          "output_type": "stream",
          "name": "stdout",
          "text": [
            "12\n",
            "12.5\n"
          ]
        }
      ]
    },
    {
      "cell_type": "code",
      "source": [
        "# Problem 10: Write a program that will take 2 numbers as input and prints the LCM and HCF of those 2 numbers\n",
        "a=int(input(\"Enter first number: \"))\n",
        "# b=int(input(\"Enter second number: \"))\n",
        "l1=[]\n",
        "l2=[]\n",
        "for i in range(2,a):\n",
        "  if a%i==0:\n",
        "    l1.append(i)\n",
        "  a=a//i\n",
        "print(l1)\n"
      ],
      "metadata": {
        "id": "qxDp2zDPvn9s",
        "colab": {
          "base_uri": "https://localhost:8080/"
        },
        "outputId": "57358e7d-65fe-4ce6-88c6-29d62eee1d66"
      },
      "execution_count": null,
      "outputs": [
        {
          "output_type": "stream",
          "name": "stdout",
          "text": [
            "Enter first number: 26\n",
            "[2, 4, 6, 7, 8, 9, 10, 11, 12, 13, 14, 15, 16, 17, 18, 19, 20, 21, 22, 23, 24, 25]\n"
          ]
        }
      ]
    },
    {
      "cell_type": "code",
      "source": [
        "#hcf ,lcm\n",
        "def lcm(a1,a2):\n",
        "  max_num=max(a1,a2)\n",
        "  lcm=max_num\n",
        "  while True:\n",
        "    if lcm%a1==0 and lcm%a2==0:\n",
        "      break\n",
        "    lcm+=max_num\n",
        "  return lcm\n",
        "def hcf(a1,a2):\n",
        "  while a2!=0:\n",
        "    a1,a2=a2,a1%a2\n",
        "  return a1\n",
        "a1=int(input(\"Enter the first input: \"))\n",
        "a2=int(input(\"Enter the second input: \"))\n",
        "print(lcm(a1,a2))\n",
        "print(hcf(a1,a2))\n",
        "#lcm is equated with max_num then we enter while loop, if lcm%a1==0 and lcm%a2==0 then we go out of the loop and return lcm else if the if clause is not satisfied then\n",
        "#lcm is incremented by max_num\n",
        "#initially a1=18,a2=12\n",
        "#1st--a1=12,a2=18%12(6)\n",
        "#2nd--a1=6,a2=12%6(0)\n",
        "#hence when a2 becomes zero then a1 is returned"
      ],
      "metadata": {
        "colab": {
          "base_uri": "https://localhost:8080/"
        },
        "id": "Pp-ixvTImdNi",
        "outputId": "9b5aec12-ac49-4177-8bd7-ea5f70bb4a88"
      },
      "execution_count": null,
      "outputs": [
        {
          "output_type": "stream",
          "name": "stdout",
          "text": [
            "Enter the first input: 26\n",
            "Enter the second input: 91\n",
            "182\n",
            "13\n"
          ]
        }
      ]
    },
    {
      "cell_type": "code",
      "source": [
        "max(10,20)"
      ],
      "metadata": {
        "colab": {
          "base_uri": "https://localhost:8080/"
        },
        "id": "XCQDPEsi8-YZ",
        "outputId": "1e590d99-e067-443c-8e76-200fd375a544"
      },
      "execution_count": null,
      "outputs": [
        {
          "output_type": "execute_result",
          "data": {
            "text/plain": [
              "20"
            ]
          },
          "metadata": {},
          "execution_count": 2
        }
      ]
    },
    {
      "cell_type": "code",
      "source": [
        "# Problem 11: Create Short Form from initial character\n",
        "# Given a string create short form ofthe string from Initial character. Short form should be capitalised.\n",
        "a=input(\"Enter the entire string: \")\n",
        "c=a.split()\n",
        "d=[]\n",
        "for i in c:\n",
        "  d1=i[0].capitalize()\n",
        "  d.append(d1)\n",
        "\"\".join(d)\n"
      ],
      "metadata": {
        "colab": {
          "base_uri": "https://localhost:8080/",
          "height": 53
        },
        "id": "sa-T7cNGJ6bj",
        "outputId": "909b9213-c928-4ef5-b737-74078b15fb2f"
      },
      "execution_count": null,
      "outputs": [
        {
          "name": "stdout",
          "output_type": "stream",
          "text": [
            "Enter the entire string: data science mentorship programme\n"
          ]
        },
        {
          "output_type": "execute_result",
          "data": {
            "text/plain": [
              "'DSMP'"
            ],
            "application/vnd.google.colaboratory.intrinsic+json": {
              "type": "string"
            }
          },
          "metadata": {},
          "execution_count": 6
        }
      ]
    },
    {
      "cell_type": "code",
      "source": [
        "# Problem 12: Append second string in the middle of first string\n",
        "a1=input(\"Enter the first string: \")\n",
        "a2=input(\"Enter the second string: \")\n",
        "k=len(a1)\n",
        "d=\"\"\n",
        "for i in range(k):\n",
        "  d+=a1[i]\n",
        "  if i==k//2-1:\n",
        "    d+=a2\n",
        "print(d)"
      ],
      "metadata": {
        "colab": {
          "base_uri": "https://localhost:8080/"
        },
        "id": "H1pqLl89dcjT",
        "outputId": "64d6c404-7630-4c56-dce7-801fee3ab24e"
      },
      "execution_count": null,
      "outputs": [
        {
          "output_type": "stream",
          "name": "stdout",
          "text": [
            "Enter the first string: campusx\n",
            "Enter the second string: data\n",
            "camdatapusx\n"
          ]
        }
      ]
    },
    {
      "cell_type": "code",
      "source": [
        "# Problem 13:Given string contains a combination of the lower and upper case letters. Write a program to arrange the characters of a string so that all lowercase letters should come first.\n",
        "a1=input(\"Enter the first string: \")\n",
        "c1=\"\"\n",
        "c2=\"\"\n",
        "c3=\"\"\n",
        "for i in a1:\n",
        "  if 97<=ord(i)<=122:\n",
        "    c1+=i\n",
        "  elif 65<=ord(i)<=90:\n",
        "    c2+=i\n",
        "  c3=c1+c2\n",
        "print(c3)\n",
        "\n"
      ],
      "metadata": {
        "colab": {
          "base_uri": "https://localhost:8080/"
        },
        "id": "jvrSkKqxiPmc",
        "outputId": "d23addd9-cac4-4465-9070-6d5febb9bdb8"
      },
      "execution_count": null,
      "outputs": [
        {
          "output_type": "stream",
          "name": "stdout",
          "text": [
            "Enter the first string: PyNaTive\n",
            "yaivePNT\n"
          ]
        }
      ]
    },
    {
      "cell_type": "code",
      "source": [
        "# Problem 14:`Take a alphanumeric string input and print the sum and average of the digits that appear in the string, ignoring all other characters.\n",
        "a1=input(\"Enter the string: \")\n",
        "l1=[]\n",
        "for i in a1:\n",
        "  if i.isdigit():\n",
        "    l1.append(int(i))\n",
        "a=0\n",
        "for i in l1:\n",
        "  a+=i\n",
        "print(a)\n",
        "print(a/len(l1))\n"
      ],
      "metadata": {
        "colab": {
          "base_uri": "https://localhost:8080/"
        },
        "id": "3spRUH9dtgv_",
        "outputId": "c3067153-5111-42b6-fdf7-2833f50675bd"
      },
      "execution_count": null,
      "outputs": [
        {
          "output_type": "stream",
          "name": "stdout",
          "text": [
            "Enter the string: hel12304every093\n",
            "22\n",
            "2.75\n"
          ]
        }
      ]
    },
    {
      "cell_type": "code",
      "source": [
        "\"a123\".isdigit()"
      ],
      "metadata": {
        "colab": {
          "base_uri": "https://localhost:8080/"
        },
        "id": "9hUl4ZKRzTYe",
        "outputId": "8e252b03-3ec5-458d-c7fe-a2f417818c35"
      },
      "execution_count": null,
      "outputs": [
        {
          "output_type": "execute_result",
          "data": {
            "text/plain": [
              "False"
            ]
          },
          "metadata": {},
          "execution_count": 11
        }
      ]
    },
    {
      "cell_type": "code",
      "source": [
        "# Problem 15: Removal of all characters from a string except integers\n",
        "a1=input(\"Enter the string: \")\n",
        "a=\"\"\n",
        "for i in a1:\n",
        "  if i.isdigit():\n",
        "    a+=i\n",
        "print(a)\n",
        "\n"
      ],
      "metadata": {
        "colab": {
          "base_uri": "https://localhost:8080/"
        },
        "id": "GRiLzcWh3_An",
        "outputId": "3aa769cc-8a4f-4b51-b1e9-2ee6fce2596a"
      },
      "execution_count": null,
      "outputs": [
        {
          "output_type": "stream",
          "name": "stdout",
          "text": [
            "Enter the string: I am 25 years and 10 months old\n",
            "2510\n"
          ]
        }
      ]
    },
    {
      "cell_type": "code",
      "source": [
        "# Problem 16: Check whether the string is Symmetrical.\n",
        "# Statement: Given a string. the task is to check if the string is symmetrical or not. A string is said to be symmetrical if both the halves of the string are the same.\n",
        "a1=input(\"Enter the string: \")\n",
        "a=\"\"\n",
        "b=\"\"\n",
        "for i in range(len(a1)//2):\n",
        "  a+=a1[i]\n",
        "for j in range(len(a1)//2,len(a1)):\n",
        "  b+=a1[j]\n",
        "if a==b:\n",
        "  print(\"Symmetrical\")\n",
        "else:\n",
        "  print(\"Not symmetrical\")"
      ],
      "metadata": {
        "colab": {
          "base_uri": "https://localhost:8080/"
        },
        "id": "jq5zngvH63cr",
        "outputId": "0b118bab-2f35-4ae9-f27a-4890ed832708"
      },
      "execution_count": null,
      "outputs": [
        {
          "output_type": "stream",
          "name": "stdout",
          "text": [
            "Enter the string: kholphal\n",
            "Not symmetrical\n"
          ]
        }
      ]
    },
    {
      "cell_type": "code",
      "source": [
        "# Problem 17: Reverse words in a given String\n",
        "a1=input(\"Enter the string: \")\n",
        "c=a1.split()\n",
        "\" \".join(c[::-1])"
      ],
      "metadata": {
        "colab": {
          "base_uri": "https://localhost:8080/",
          "height": 53
        },
        "id": "8SSSWoHc8RfZ",
        "outputId": "6db0d130-b49e-47cc-b939-b4f74fd3e361"
      },
      "execution_count": null,
      "outputs": [
        {
          "name": "stdout",
          "output_type": "stream",
          "text": [
            "Enter the string: geeks quiz practice code\n"
          ]
        },
        {
          "output_type": "execute_result",
          "data": {
            "text/plain": [
              "'code practice quiz geeks'"
            ],
            "application/vnd.google.colaboratory.intrinsic+json": {
              "type": "string"
            }
          },
          "metadata": {},
          "execution_count": 22
        }
      ]
    },
    {
      "cell_type": "code",
      "source": [
        "# Problem 18: Find uncommon words from two Strings.\n",
        "# Statement: Given two sentences as strings A and B. The task is to return a list of all uncommon words. A word is uncommon if it appears exactly once in any one of the sentences, and does not appear in the other sentence. Note: A sentence is a string of space-separated words. Each word consists only of lowercase letters.\n",
        "a1=input(\"Enter the string: \")\n",
        "a2=input(\"Enter the string: \")\n",
        "a=a1.split()\n",
        "b=a2.split()\n",
        "c=[]\n",
        "for i in a:\n",
        "  if i not in b:\n",
        "    c.append(i)\n",
        "for j in b:\n",
        "  if j not in a:\n",
        "    c.append(j)\n",
        "print(c)\n"
      ],
      "metadata": {
        "colab": {
          "base_uri": "https://localhost:8080/"
        },
        "id": "vRk9jcfH9pAz",
        "outputId": "b3e8e8ec-f83c-454b-ee48-d6696f87ece0"
      },
      "execution_count": null,
      "outputs": [
        {
          "output_type": "stream",
          "name": "stdout",
          "text": [
            "Enter the string: apple banana mango\n",
            "Enter the string: banana fruits mango\n",
            "['apple', 'fruits']\n"
          ]
        }
      ]
    },
    {
      "cell_type": "code",
      "source": [
        "# Problem 19: Word location in String.\n",
        "# Statement: Find a location of a word in a given sentence.\n",
        "a=input(\"Enter the string: \")\n",
        "b=input(\"Enter the word: \")\n",
        "c=a.split()\n",
        "cnt=0\n",
        "for i in c:\n",
        "  cnt+=1\n",
        "  if i==b:\n",
        "    break\n",
        "print(cnt)\n"
      ],
      "metadata": {
        "colab": {
          "base_uri": "https://localhost:8080/"
        },
        "id": "KVwj72AHZclU",
        "outputId": "7a5664b7-8b3e-48a9-a873-4f41d306e95b"
      },
      "execution_count": null,
      "outputs": [
        {
          "output_type": "stream",
          "name": "stdout",
          "text": [
            "Enter the string: we can learn data science through campusx  mentorship program\n",
            "Enter the word: campusx\n",
            "7\n"
          ]
        }
      ]
    },
    {
      "cell_type": "code",
      "source": [
        "# Problem 20: Write a program that can remove all the duplicate characters from a string. User will provide the input.\n",
        "a=\"abcdee\"\n",
        "c=list(a)\n",
        "d=set(a)\n",
        "print(d)\n"
      ],
      "metadata": {
        "colab": {
          "base_uri": "https://localhost:8080/"
        },
        "id": "KJ0E0moMdedV",
        "outputId": "7f9344e2-1e8e-42b5-b71a-0e9edc4f7e20"
      },
      "execution_count": null,
      "outputs": [
        {
          "output_type": "stream",
          "name": "stdout",
          "text": [
            "{'b', 'd', 'a', 'e', 'c'}\n"
          ]
        }
      ]
    },
    {
      "cell_type": "code",
      "source": [
        "a1=input(\"Enter the string: \")\n",
        "d=\"\"\n",
        "c=list(a1)\n",
        "d=set(c)\n",
        "\"\".join(d)"
      ],
      "metadata": {
        "colab": {
          "base_uri": "https://localhost:8080/",
          "height": 53
        },
        "id": "l4F8JRsvvp9e",
        "outputId": "42d91194-c8a0-4208-c791-4900c7dcc221"
      },
      "execution_count": null,
      "outputs": [
        {
          "name": "stdout",
          "output_type": "stream",
          "text": [
            "Enter the string: hello\n"
          ]
        },
        {
          "output_type": "execute_result",
          "data": {
            "text/plain": [
              "'lohe'"
            ],
            "application/vnd.google.colaboratory.intrinsic+json": {
              "type": "string"
            }
          },
          "metadata": {},
          "execution_count": 4
        }
      ]
    },
    {
      "cell_type": "code",
      "source": [
        "# Problem 3:Write a program to pring the following pattern\n",
        "  #  *\n",
        "  # * * *\n",
        "# * * * * *\n",
        "rows=int(input(\"Enter the rows: \"))\n",
        "for i in range(rows):\n",
        "  for j in range(rows-i-1):\n",
        "    print(\" \",end=\"\")\n",
        "  for k in range(2*i+1):\n",
        "    print(\"*\",end=\"\")\n",
        "  print()"
      ],
      "metadata": {
        "id": "zGczuCLtusZC",
        "colab": {
          "base_uri": "https://localhost:8080/"
        },
        "outputId": "ce0b28cf-7f69-42ba-8b4b-071ca258777c"
      },
      "execution_count": null,
      "outputs": [
        {
          "output_type": "stream",
          "name": "stdout",
          "text": [
            "Enter the rows: 3\n",
            "  *\n",
            " ***\n",
            "*****\n"
          ]
        }
      ]
    },
    {
      "cell_type": "code",
      "source": [
        "rows=int(input(\"Enter the rows: \"))\n",
        "for i in range(rows):\n",
        "  for j in range(rows-i-1):\n",
        "    print(\" \",end=\"\")\n",
        "  for k in range(2*i+1):\n",
        "    print(\"*\",end=\"\")\n",
        "  print()"
      ],
      "metadata": {
        "colab": {
          "base_uri": "https://localhost:8080/"
        },
        "id": "3tFKk6Jr9I_Z",
        "outputId": "49ff9cbe-1be7-4e56-8be7-1812da9f2f2d"
      },
      "execution_count": null,
      "outputs": [
        {
          "output_type": "stream",
          "name": "stdout",
          "text": [
            "Enter the rows: 3\n",
            "  *\n",
            " ***\n",
            "*****\n"
          ]
        }
      ]
    },
    {
      "cell_type": "code",
      "source": [
        "a=int(input(\"Enter the number: \"))\n",
        "for i in range(a):\n",
        "  for j in range(a-i,0,-1):\n",
        "    print(j,end=\" \")\n",
        "  print()"
      ],
      "metadata": {
        "colab": {
          "base_uri": "https://localhost:8080/"
        },
        "id": "dGTJBRSPM0e0",
        "outputId": "751f7524-4e42-46a4-c5fe-5d15139401ff"
      },
      "execution_count": null,
      "outputs": [
        {
          "output_type": "stream",
          "name": "stdout",
          "text": [
            "Enter the number: 5\n",
            "5 4 3 2 1 \n",
            "4 3 2 1 \n",
            "3 2 1 \n",
            "2 1 \n",
            "1 \n"
          ]
        }
      ]
    },
    {
      "cell_type": "code",
      "source": [
        "a=int(input(\"Enter the number: \"))\n",
        "for i in range(1,a+1):\n",
        "  for j in range(i):\n",
        "    print(\"*\",end=\"\")\n",
        "  print()\n",
        "for k in range(a-1,0,-1):\n",
        "  for j in range(k):\n",
        "    print(\"*\",end=\"\")\n",
        "  print()"
      ],
      "metadata": {
        "colab": {
          "base_uri": "https://localhost:8080/"
        },
        "id": "Bt2MfUmaUU0L",
        "outputId": "b5dcf176-47f2-46c1-e01a-c0df656956c8"
      },
      "execution_count": null,
      "outputs": [
        {
          "output_type": "stream",
          "name": "stdout",
          "text": [
            "Enter the number: 5\n",
            "*\n",
            "**\n",
            "***\n",
            "****\n",
            "*****\n",
            "****\n",
            "***\n",
            "**\n",
            "*\n"
          ]
        }
      ]
    },
    {
      "cell_type": "code",
      "source": [
        "#printing a regular pattern star\n",
        "row=int(input(\"Enter the rows: \"))\n",
        "for i in range(1,row+1):\n",
        "  print(\" \"*row,end=\"\")\n",
        "  print(\"* \"*i)\n",
        "  row=row-1\n",
        "#when i=1 then 6 spaces are printed followed by 1 star *\n",
        "#when i=2 then 5 spaces are printed followed by 2 star *\n",
        "#when i=3 then 4 spaces followed by 3 stars\n",
        "#when i=6 then 0 space followed by 6 stars"
      ],
      "metadata": {
        "colab": {
          "base_uri": "https://localhost:8080/"
        },
        "id": "dge4x4RzWSgB",
        "outputId": "f19b1319-c948-4671-9b76-7c1c78576f8f"
      },
      "execution_count": null,
      "outputs": [
        {
          "output_type": "stream",
          "name": "stdout",
          "text": [
            "Enter the rows: 6\n",
            "      * \n",
            "     * * \n",
            "    * * * \n",
            "   * * * * \n",
            "  * * * * * \n",
            " * * * * * * \n"
          ]
        }
      ]
    },
    {
      "cell_type": "code",
      "source": [
        "a=int(input(\"Enter the number: \"))\n",
        "for i in range(1,a+1):\n",
        "  for j in range(i,0,-1):\n",
        "    print(j,end=\" \")\n",
        "  print()"
      ],
      "metadata": {
        "colab": {
          "base_uri": "https://localhost:8080/"
        },
        "id": "iHmzBDrVdbi6",
        "outputId": "07af2567-4520-4ca2-e2ee-cbfc33ce226f"
      },
      "execution_count": null,
      "outputs": [
        {
          "output_type": "stream",
          "name": "stdout",
          "text": [
            "Enter the number: 5\n",
            "1 \n",
            "2 1 \n",
            "3 2 1 \n",
            "4 3 2 1 \n",
            "5 4 3 2 1 \n"
          ]
        }
      ]
    },
    {
      "cell_type": "code",
      "source": [
        "x=int(input(\"Enter the number: \"))\n",
        "n=int(input(\"Enter the number: \"))\n",
        "sum=1\n",
        "s=\"1+\"\n",
        "for i in range(2,n+1):\n",
        "  sum+=(x**i)/i\n",
        "  s+=\"x^{}/{}+\".format(i,i)\n",
        "print(sum)\n",
        "print(s[:-1])\n"
      ],
      "metadata": {
        "colab": {
          "base_uri": "https://localhost:8080/"
        },
        "id": "R8WnT1QOhr5k",
        "outputId": "e4097c81-a0b2-4d75-c3ae-afae2da40d54"
      },
      "execution_count": null,
      "outputs": [
        {
          "output_type": "stream",
          "name": "stdout",
          "text": [
            "Enter the number: 10\n",
            "Enter the number: 5\n",
            "22884.333333333332\n",
            "1+x^2/2+x^3/3+x^4/4+x^5/5\n"
          ]
        }
      ]
    },
    {
      "cell_type": "code",
      "source": [
        "x=int(input(\"Enter the number: \"))\n",
        "n=int(input(\"Enter the number: \"))\n",
        "sum=0\n",
        "s=\"\"\n",
        "for i in range(1,n+1):\n",
        "  sum+=1/i*((x-1)/x)**i\n",
        "  s+=\"1/{}*(({}-1)/{})^{}+\".format(i,x,x,i)\n",
        "print(sum)\n",
        "print(s[:-1])\n"
      ],
      "metadata": {
        "colab": {
          "base_uri": "https://localhost:8080/"
        },
        "id": "v5ZalcXYqq1c",
        "outputId": "1550ad84-96e6-4245-c793-4ce87f78f5d9"
      },
      "execution_count": null,
      "outputs": [
        {
          "output_type": "stream",
          "name": "stdout",
          "text": [
            "Enter the number: 10\n",
            "Enter the number: 5\n",
            "1.8301230000000004\n",
            "1/1*((10-1)/10)^1+1/2*((10-1)/10)^2+1/3*((10-1)/10)^3+1/4*((10-1)/10)^4+1/5*((10-1)/10)^5\n"
          ]
        }
      ]
    },
    {
      "cell_type": "code",
      "source": [
        "a=int(input(\"Enter the number: \"))\n",
        "start=2\n",
        "sum=0\n",
        "for i in range(a):\n",
        "  if i<a-1:\n",
        "    print(start,end=\"+\")\n",
        "  else:\n",
        "    print(start)\n",
        "  sum=sum+start\n",
        "  start=start*10+2\n",
        "print(sum)\n"
      ],
      "metadata": {
        "colab": {
          "base_uri": "https://localhost:8080/"
        },
        "id": "AbBEwbU7CJa7",
        "outputId": "3871d1aa-76b3-48cc-9cee-63113baeda2e"
      },
      "execution_count": null,
      "outputs": [
        {
          "output_type": "stream",
          "name": "stdout",
          "text": [
            "Enter the number: 5\n",
            "2+22+222+2222+22222\n",
            "24690\n"
          ]
        }
      ]
    },
    {
      "cell_type": "code",
      "source": [
        "a=int(input(\"Enter the number: \"))\n",
        "start=2\n",
        "sum=0\n",
        "for i in range(a):\n",
        "  if i<a-1:\n",
        "    print(start,end=\"+\")\n",
        "  else:\n",
        "    print(start)\n",
        "  sum=sum+start\n",
        "  start=start*10+2\n",
        "print(sum)\n",
        "\n"
      ],
      "metadata": {
        "colab": {
          "base_uri": "https://localhost:8080/"
        },
        "id": "vThflgi6RRbS",
        "outputId": "d7fd6cde-1cb6-4b23-e2cd-690dd03b3dbe"
      },
      "execution_count": null,
      "outputs": [
        {
          "output_type": "stream",
          "name": "stdout",
          "text": [
            "Enter the number: 5\n",
            "2+22+222+2222+22222\n",
            "24690\n"
          ]
        }
      ]
    },
    {
      "cell_type": "code",
      "source": [
        "for i in range(1,5):\n",
        "  for j in range(1,5):\n",
        "    for k in range(1,5):\n",
        "      for l in range(1,5):\n",
        "        print(i,j,k,l)"
      ],
      "metadata": {
        "colab": {
          "base_uri": "https://localhost:8080/"
        },
        "id": "MKuGvEw6cW_t",
        "outputId": "6d5dd3c8-dc40-4c7d-e4df-9121b222baf7"
      },
      "execution_count": null,
      "outputs": [
        {
          "output_type": "stream",
          "name": "stdout",
          "text": [
            "1 1 1 1\n",
            "1 1 1 2\n",
            "1 1 1 3\n",
            "1 1 1 4\n",
            "1 1 2 1\n",
            "1 1 2 2\n",
            "1 1 2 3\n",
            "1 1 2 4\n",
            "1 1 3 1\n",
            "1 1 3 2\n",
            "1 1 3 3\n",
            "1 1 3 4\n",
            "1 1 4 1\n",
            "1 1 4 2\n",
            "1 1 4 3\n",
            "1 1 4 4\n",
            "1 2 1 1\n",
            "1 2 1 2\n",
            "1 2 1 3\n",
            "1 2 1 4\n",
            "1 2 2 1\n",
            "1 2 2 2\n",
            "1 2 2 3\n",
            "1 2 2 4\n",
            "1 2 3 1\n",
            "1 2 3 2\n",
            "1 2 3 3\n",
            "1 2 3 4\n",
            "1 2 4 1\n",
            "1 2 4 2\n",
            "1 2 4 3\n",
            "1 2 4 4\n",
            "1 3 1 1\n",
            "1 3 1 2\n",
            "1 3 1 3\n",
            "1 3 1 4\n",
            "1 3 2 1\n",
            "1 3 2 2\n",
            "1 3 2 3\n",
            "1 3 2 4\n",
            "1 3 3 1\n",
            "1 3 3 2\n",
            "1 3 3 3\n",
            "1 3 3 4\n",
            "1 3 4 1\n",
            "1 3 4 2\n",
            "1 3 4 3\n",
            "1 3 4 4\n",
            "1 4 1 1\n",
            "1 4 1 2\n",
            "1 4 1 3\n",
            "1 4 1 4\n",
            "1 4 2 1\n",
            "1 4 2 2\n",
            "1 4 2 3\n",
            "1 4 2 4\n",
            "1 4 3 1\n",
            "1 4 3 2\n",
            "1 4 3 3\n",
            "1 4 3 4\n",
            "1 4 4 1\n",
            "1 4 4 2\n",
            "1 4 4 3\n",
            "1 4 4 4\n",
            "2 1 1 1\n",
            "2 1 1 2\n",
            "2 1 1 3\n",
            "2 1 1 4\n",
            "2 1 2 1\n",
            "2 1 2 2\n",
            "2 1 2 3\n",
            "2 1 2 4\n",
            "2 1 3 1\n",
            "2 1 3 2\n",
            "2 1 3 3\n",
            "2 1 3 4\n",
            "2 1 4 1\n",
            "2 1 4 2\n",
            "2 1 4 3\n",
            "2 1 4 4\n",
            "2 2 1 1\n",
            "2 2 1 2\n",
            "2 2 1 3\n",
            "2 2 1 4\n",
            "2 2 2 1\n",
            "2 2 2 2\n",
            "2 2 2 3\n",
            "2 2 2 4\n",
            "2 2 3 1\n",
            "2 2 3 2\n",
            "2 2 3 3\n",
            "2 2 3 4\n",
            "2 2 4 1\n",
            "2 2 4 2\n",
            "2 2 4 3\n",
            "2 2 4 4\n",
            "2 3 1 1\n",
            "2 3 1 2\n",
            "2 3 1 3\n",
            "2 3 1 4\n",
            "2 3 2 1\n",
            "2 3 2 2\n",
            "2 3 2 3\n",
            "2 3 2 4\n",
            "2 3 3 1\n",
            "2 3 3 2\n",
            "2 3 3 3\n",
            "2 3 3 4\n",
            "2 3 4 1\n",
            "2 3 4 2\n",
            "2 3 4 3\n",
            "2 3 4 4\n",
            "2 4 1 1\n",
            "2 4 1 2\n",
            "2 4 1 3\n",
            "2 4 1 4\n",
            "2 4 2 1\n",
            "2 4 2 2\n",
            "2 4 2 3\n",
            "2 4 2 4\n",
            "2 4 3 1\n",
            "2 4 3 2\n",
            "2 4 3 3\n",
            "2 4 3 4\n",
            "2 4 4 1\n",
            "2 4 4 2\n",
            "2 4 4 3\n",
            "2 4 4 4\n",
            "3 1 1 1\n",
            "3 1 1 2\n",
            "3 1 1 3\n",
            "3 1 1 4\n",
            "3 1 2 1\n",
            "3 1 2 2\n",
            "3 1 2 3\n",
            "3 1 2 4\n",
            "3 1 3 1\n",
            "3 1 3 2\n",
            "3 1 3 3\n",
            "3 1 3 4\n",
            "3 1 4 1\n",
            "3 1 4 2\n",
            "3 1 4 3\n",
            "3 1 4 4\n",
            "3 2 1 1\n",
            "3 2 1 2\n",
            "3 2 1 3\n",
            "3 2 1 4\n",
            "3 2 2 1\n",
            "3 2 2 2\n",
            "3 2 2 3\n",
            "3 2 2 4\n",
            "3 2 3 1\n",
            "3 2 3 2\n",
            "3 2 3 3\n",
            "3 2 3 4\n",
            "3 2 4 1\n",
            "3 2 4 2\n",
            "3 2 4 3\n",
            "3 2 4 4\n",
            "3 3 1 1\n",
            "3 3 1 2\n",
            "3 3 1 3\n",
            "3 3 1 4\n",
            "3 3 2 1\n",
            "3 3 2 2\n",
            "3 3 2 3\n",
            "3 3 2 4\n",
            "3 3 3 1\n",
            "3 3 3 2\n",
            "3 3 3 3\n",
            "3 3 3 4\n",
            "3 3 4 1\n",
            "3 3 4 2\n",
            "3 3 4 3\n",
            "3 3 4 4\n",
            "3 4 1 1\n",
            "3 4 1 2\n",
            "3 4 1 3\n",
            "3 4 1 4\n",
            "3 4 2 1\n",
            "3 4 2 2\n",
            "3 4 2 3\n",
            "3 4 2 4\n",
            "3 4 3 1\n",
            "3 4 3 2\n",
            "3 4 3 3\n",
            "3 4 3 4\n",
            "3 4 4 1\n",
            "3 4 4 2\n",
            "3 4 4 3\n",
            "3 4 4 4\n",
            "4 1 1 1\n",
            "4 1 1 2\n",
            "4 1 1 3\n",
            "4 1 1 4\n",
            "4 1 2 1\n",
            "4 1 2 2\n",
            "4 1 2 3\n",
            "4 1 2 4\n",
            "4 1 3 1\n",
            "4 1 3 2\n",
            "4 1 3 3\n",
            "4 1 3 4\n",
            "4 1 4 1\n",
            "4 1 4 2\n",
            "4 1 4 3\n",
            "4 1 4 4\n",
            "4 2 1 1\n",
            "4 2 1 2\n",
            "4 2 1 3\n",
            "4 2 1 4\n",
            "4 2 2 1\n",
            "4 2 2 2\n",
            "4 2 2 3\n",
            "4 2 2 4\n",
            "4 2 3 1\n",
            "4 2 3 2\n",
            "4 2 3 3\n",
            "4 2 3 4\n",
            "4 2 4 1\n",
            "4 2 4 2\n",
            "4 2 4 3\n",
            "4 2 4 4\n",
            "4 3 1 1\n",
            "4 3 1 2\n",
            "4 3 1 3\n",
            "4 3 1 4\n",
            "4 3 2 1\n",
            "4 3 2 2\n",
            "4 3 2 3\n",
            "4 3 2 4\n",
            "4 3 3 1\n",
            "4 3 3 2\n",
            "4 3 3 3\n",
            "4 3 3 4\n",
            "4 3 4 1\n",
            "4 3 4 2\n",
            "4 3 4 3\n",
            "4 3 4 4\n",
            "4 4 1 1\n",
            "4 4 1 2\n",
            "4 4 1 3\n",
            "4 4 1 4\n",
            "4 4 2 1\n",
            "4 4 2 2\n",
            "4 4 2 3\n",
            "4 4 2 4\n",
            "4 4 3 1\n",
            "4 4 3 2\n",
            "4 4 3 3\n",
            "4 4 3 4\n",
            "4 4 4 1\n",
            "4 4 4 2\n",
            "4 4 4 3\n",
            "4 4 4 4\n"
          ]
        }
      ]
    },
    {
      "cell_type": "code",
      "source": [
        "a=int(input(\"Enter the number: \"))\n",
        "l=[]\n",
        "k=\"\"\n",
        "while a>0:\n",
        "  l.append(a%2)\n",
        "  a=a//2\n",
        "  print(a,l)\n",
        "for i in l[::-1]:\n",
        "  k+=str(i)\n",
        "print(k)\n",
        "#while a>0 l.append(17%2)=1, a=17//2(8)\n",
        "#while a>0 l.append(8%2)=0, a=8//2(4)\n",
        "#while a>0 l.append(4%2)=0, a=4//2(2)\n",
        "#while a>0 l.append(2%2)=0, a=2//2(1)\n",
        "#while a>0 l.append(1%2)=1, a=1//2(0)\n",
        "#now we will come out of while loop as\n",
        "\n"
      ],
      "metadata": {
        "colab": {
          "base_uri": "https://localhost:8080/"
        },
        "id": "oJXkyGz2dt__",
        "outputId": "a311e5ae-c133-4835-c5a7-cb3c606dea79"
      },
      "execution_count": null,
      "outputs": [
        {
          "output_type": "stream",
          "name": "stdout",
          "text": [
            "Enter the number: 12\n",
            "6 [0]\n",
            "3 [0, 0]\n",
            "1 [0, 0, 1]\n",
            "0 [0, 0, 1, 1]\n",
            "1100\n"
          ]
        }
      ]
    },
    {
      "cell_type": "code",
      "source": [
        "from IPython.core.display import b2a_base64\n",
        "def lcm(a,b):\n",
        "  max_num=max(a,b)\n",
        "  lcm=max_num\n",
        "  while True:\n",
        "     if lcm%a==0 and lcm%b==0:\n",
        "        break\n",
        "     lcm+=max_num\n",
        "  return lcm\n",
        "def hcf(a,b):\n",
        "  while b!=0:\n",
        "    a,b=b,a%b\n",
        "  return a\n",
        "a=int(input(\"Enter the number 1: \"))\n",
        "b=int(input(\"Enter the number 2: \"))\n",
        "lcm(a,b)"
      ],
      "metadata": {
        "colab": {
          "base_uri": "https://localhost:8080/"
        },
        "id": "0Gvc5IAGv1OL",
        "outputId": "fdfc394a-7455-4e58-d9b1-fda8216237d0"
      },
      "execution_count": null,
      "outputs": [
        {
          "name": "stdout",
          "output_type": "stream",
          "text": [
            "Enter the number 1: 18\n",
            "Enter the number 2: 12\n"
          ]
        },
        {
          "output_type": "execute_result",
          "data": {
            "text/plain": [
              "36"
            ]
          },
          "metadata": {},
          "execution_count": 6
        }
      ]
    },
    {
      "cell_type": "code",
      "source": [
        "#another way of finding hcf is this\n",
        "a=int(input(\"Enter the first number: \"))\n",
        "b=int(input(\"Enter the second number: \"))\n",
        "small=None\n",
        "if a>b:\n",
        "  small=b\n",
        "else:\n",
        "  small=a\n",
        "hcf=None\n",
        "for i in range(1,small+1):\n",
        "  if a%i==0 and b%i==0:\n",
        "    hcf=i\n",
        "print(hcf)\n"
      ],
      "metadata": {
        "colab": {
          "base_uri": "https://localhost:8080/"
        },
        "id": "efjSksMS2ATf",
        "outputId": "acd7c4a9-fc4a-4202-a1d3-32f993fc5242"
      },
      "execution_count": null,
      "outputs": [
        {
          "output_type": "stream",
          "name": "stdout",
          "text": [
            "Enter the first number: 18\n",
            "Enter the second number: 12\n",
            "6\n"
          ]
        }
      ]
    },
    {
      "cell_type": "code",
      "source": [
        "s1=input(\"Enter the first string: \")\n",
        "s2=input(\"Enter the second string: \")\n",
        "print(s1[:len(s1)//2]+s2+s1[len(s1)//2:])"
      ],
      "metadata": {
        "colab": {
          "base_uri": "https://localhost:8080/"
        },
        "id": "PQt8RK3FF9vu",
        "outputId": "d96273c1-5894-474a-8648-70d875b51714"
      },
      "execution_count": null,
      "outputs": [
        {
          "output_type": "stream",
          "name": "stdout",
          "text": [
            "Enter the first string: campusx\n",
            "Enter the second string: data\n",
            "camdatapusx\n"
          ]
        }
      ]
    },
    {
      "cell_type": "code",
      "source": [
        "s=input(\"Enter the string: \")\n",
        "lower=\"\"\n",
        "upper=\"\"\n",
        "for i in s:\n",
        "  if i.islower():\n",
        "    lower+=i\n",
        "  else:\n",
        "    upper+=i\n",
        "print(lower+upper)"
      ],
      "metadata": {
        "colab": {
          "base_uri": "https://localhost:8080/"
        },
        "id": "CLftmkOozKD8",
        "outputId": "4c3b2742-28f8-416f-ef01-ff241420cdb1"
      },
      "execution_count": null,
      "outputs": [
        {
          "output_type": "stream",
          "name": "stdout",
          "text": [
            "Enter the string: PyNative\n",
            "yativePN\n"
          ]
        }
      ]
    },
    {
      "cell_type": "code",
      "source": [
        "s=input(\"Enter the string: \")\n",
        "s1=\"\"\n",
        "s2=\"\"\n",
        "if len(s)%2==0:\n",
        "  s1=s[0:len(s)//2]\n",
        "  s2=s[len(s)//2:]\n",
        "else:\n",
        "  s1=s[:len(s)//2]\n",
        "  s2=s[len(s)//2+1:]\n",
        "if s1==s2:\n",
        "  print(\"symmetrical\")\n",
        "else:\n",
        "  print(\"Not symmetrical\")\n"
      ],
      "metadata": {
        "colab": {
          "base_uri": "https://localhost:8080/"
        },
        "id": "xFxJ_b81Dfng",
        "outputId": "bb990312-0051-4836-d253-3883f2ca1297"
      },
      "execution_count": null,
      "outputs": [
        {
          "output_type": "stream",
          "name": "stdout",
          "text": [
            "Enter the string: madma\n",
            "symmetrical\n"
          ]
        }
      ]
    },
    {
      "cell_type": "code",
      "source": [
        "s=\"khokho\"\n",
        "len(s)\n",
        "s[0:len(s)/2]"
      ],
      "metadata": {
        "colab": {
          "base_uri": "https://localhost:8080/",
          "height": 200
        },
        "id": "D-nDCWmCF0Qy",
        "outputId": "f1b48af0-a0b4-4453-9992-c6aacdcc161e"
      },
      "execution_count": null,
      "outputs": [
        {
          "output_type": "error",
          "ename": "TypeError",
          "evalue": "ignored",
          "traceback": [
            "\u001b[0;31m---------------------------------------------------------------------------\u001b[0m",
            "\u001b[0;31mTypeError\u001b[0m                                 Traceback (most recent call last)",
            "\u001b[0;32m<ipython-input-6-5b58e9a9b328>\u001b[0m in \u001b[0;36m<cell line: 3>\u001b[0;34m()\u001b[0m\n\u001b[1;32m      1\u001b[0m \u001b[0ms\u001b[0m\u001b[0;34m=\u001b[0m\u001b[0;34m\"khokho\"\u001b[0m\u001b[0;34m\u001b[0m\u001b[0;34m\u001b[0m\u001b[0m\n\u001b[1;32m      2\u001b[0m \u001b[0mlen\u001b[0m\u001b[0;34m(\u001b[0m\u001b[0ms\u001b[0m\u001b[0;34m)\u001b[0m\u001b[0;34m\u001b[0m\u001b[0;34m\u001b[0m\u001b[0m\n\u001b[0;32m----> 3\u001b[0;31m \u001b[0ms\u001b[0m\u001b[0;34m[\u001b[0m\u001b[0;36m0\u001b[0m\u001b[0;34m:\u001b[0m\u001b[0mlen\u001b[0m\u001b[0;34m(\u001b[0m\u001b[0ms\u001b[0m\u001b[0;34m)\u001b[0m\u001b[0;34m/\u001b[0m\u001b[0;36m2\u001b[0m\u001b[0;34m]\u001b[0m\u001b[0;34m\u001b[0m\u001b[0;34m\u001b[0m\u001b[0m\n\u001b[0m",
            "\u001b[0;31mTypeError\u001b[0m: slice indices must be integers or None or have an __index__ method"
          ]
        }
      ]
    },
    {
      "cell_type": "code",
      "source": [
        "A=\"apple banana mango\"\n",
        "B=\"banana fruits mango\"\n",
        "L=[]\n",
        "for i in A.split():\n",
        "  if i not in B and i not in L:\n",
        "    L.append(i)\n",
        "for j in B.split():\n",
        "  if j not in A and j not in L:\n",
        "    L.append(j)\n",
        "print(L)"
      ],
      "metadata": {
        "colab": {
          "base_uri": "https://localhost:8080/"
        },
        "id": "Fj-IgWgbKPt2",
        "outputId": "a263e25f-9b60-4aca-e2fe-65d6e1733b79"
      },
      "execution_count": null,
      "outputs": [
        {
          "output_type": "stream",
          "name": "stdout",
          "text": [
            "['apple', 'fruits']\n"
          ]
        }
      ]
    },
    {
      "cell_type": "code",
      "source": [
        "a1='aaaabbbcccdddeeefff'\n",
        "s=\"\"\n",
        "for i in a1:\n",
        "  if i not in s:\n",
        "    s+=i\n",
        "print(s)\n"
      ],
      "metadata": {
        "colab": {
          "base_uri": "https://localhost:8080/"
        },
        "id": "x89dqUlTLr5e",
        "outputId": "d52fb2f4-e0c9-42c4-c011-429e6b24fd0b"
      },
      "execution_count": null,
      "outputs": [
        {
          "output_type": "stream",
          "name": "stdout",
          "text": [
            "abcdef\n"
          ]
        }
      ]
    },
    {
      "cell_type": "code",
      "source": [
        "import time\n",
        "start=time.time()\n",
        "for i in range(1,100):\n",
        "  print(i)\n",
        "end=time.time()\n",
        "print(end-start)"
      ],
      "metadata": {
        "colab": {
          "base_uri": "https://localhost:8080/"
        },
        "id": "jsDIv8nzWS82",
        "outputId": "66bafabf-a4ff-48de-83e1-18816560cf1d"
      },
      "execution_count": null,
      "outputs": [
        {
          "output_type": "stream",
          "name": "stdout",
          "text": [
            "1\n",
            "2\n",
            "3\n",
            "4\n",
            "5\n",
            "6\n",
            "7\n",
            "8\n",
            "9\n",
            "10\n",
            "11\n",
            "12\n",
            "13\n",
            "14\n",
            "15\n",
            "16\n",
            "17\n",
            "18\n",
            "19\n",
            "20\n",
            "21\n",
            "22\n",
            "23\n",
            "24\n",
            "25\n",
            "26\n",
            "27\n",
            "28\n",
            "29\n",
            "30\n",
            "31\n",
            "32\n",
            "33\n",
            "34\n",
            "35\n",
            "36\n",
            "37\n",
            "38\n",
            "39\n",
            "40\n",
            "41\n",
            "42\n",
            "43\n",
            "44\n",
            "45\n",
            "46\n",
            "47\n",
            "48\n",
            "49\n",
            "50\n",
            "51\n",
            "52\n",
            "53\n",
            "54\n",
            "55\n",
            "56\n",
            "57\n",
            "58\n",
            "59\n",
            "60\n",
            "61\n",
            "62\n",
            "63\n",
            "64\n",
            "65\n",
            "66\n",
            "67\n",
            "68\n",
            "69\n",
            "70\n",
            "71\n",
            "72\n",
            "73\n",
            "74\n",
            "75\n",
            "76\n",
            "77\n",
            "78\n",
            "79\n",
            "80\n",
            "81\n",
            "82\n",
            "83\n",
            "84\n",
            "85\n",
            "86\n",
            "87\n",
            "88\n",
            "89\n",
            "90\n",
            "91\n",
            "92\n",
            "93\n",
            "94\n",
            "95\n",
            "96\n",
            "97\n",
            "98\n",
            "99\n",
            "0.003920316696166992\n"
          ]
        }
      ]
    },
    {
      "cell_type": "code",
      "source": [
        "#time complexity can differ in accordance to machines, in accordance to different implementation of the codes(for or while loop), time cannot be calculated for very\n",
        "#small pieces of code like initializing number to a variable, If time varies for different inputs but a relationship cannot be established then that process of calculating time complexity\n",
        "#is not ideal"
      ],
      "metadata": {
        "id": "2J2o1ediWm8k"
      },
      "execution_count": null,
      "outputs": []
    },
    {
      "cell_type": "code",
      "source": [
        "def mysum(x):\n",
        "  total=0\n",
        "  for i in range(x+1):\n",
        "    total+=i\n",
        "  return total\n",
        "#the inner for loop will have 3 operations, 1 in which 1 is equated each time, 1 in hich total is incremented and in thirs total is equated and as this loop runs x times so\n",
        "#time taken by for loop is 3x and total time taken is 3x+1 as total=0 too is 1 operation\n",
        "#Benefits of this operations are:\n",
        "#Different time for different algorithm and this time it is independent of the machine and is directly proportional to number of operations, time varies for different inputs and a\n",
        "#relationship has been established in the form of 3x+1.... but still the time would change if we change the implementation for instance if we use while loop instead of for loop\n",
        "#also there is no clear defination of which operation to count we are assuming here that all operations take the same time....\n"
      ],
      "metadata": {
        "id": "PKn8Jr_WiyVI"
      },
      "execution_count": null,
      "outputs": []
    },
    {
      "cell_type": "code",
      "source": [
        "def search_for_elmt(l,e):\n",
        "  for i in l:\n",
        "    if i==e:\n",
        "      return True\n",
        "    return False\n",
        "#when e is first element in the list---best case\n",
        "#when e is not in the list---worst case\n",
        "#when you look through about half the elements in the list---Average case"
      ],
      "metadata": {
        "id": "6ZB938FzzAzu"
      },
      "execution_count": null,
      "outputs": []
    },
    {
      "cell_type": "code",
      "source": [
        "def factorial(n):\n",
        "  #assuming n is always >0\n",
        "  answer=1\n",
        "  while n>1:\n",
        "    answer*=n\n",
        "    n-=1\n",
        "  return answer\n",
        "#within the while loop there are few operations happened\n",
        "# (a)First one involves multiplication(*), second one involves equating answer to answer*n, third one involves subtraction,fourth one equating n=n-1 and n>1 is 5th one so in total\n",
        "# this piece of code involves 2+5n time complexity....\n",
        "#After getting this equation we ignore additive constant and multiplicative constants so we get n....so time complexity is of the order of n(means linear relationship), if we increase\n",
        "#the input by n time then time complexity also increases by n times\n",
        "#If the equation is like n^2+2n+2 then we ignore multiplicative and additive constants and then chose the factor which is contributing highest to the time complexity, hence we get n^2\n",
        "#as time complexity.\n",
        "#n^2+100000n+3^1000 here additive constants and multiplicative constants are removed, we get n^2 which is our time complexity\n",
        "#logn+n+4, log1000 base 10 would only be 3 hence it is not highest factor, highrst factor is n so time complexity is of the order of n\n",
        "#0.0003*n*logn+300n....time complexity nlogn as for very big number nlogn would be greater than n\n",
        "#2n^30+3^n....in this case for high values of n exponential would be bigger so 3^n would be the answer"
      ],
      "metadata": {
        "id": "xTd-2aik8Pip"
      },
      "execution_count": null,
      "outputs": []
    },
    {
      "cell_type": "code",
      "source": [
        "#accessing elements in an array using index value is constant time complexity\n",
        "#linear search is an example of o(n) time complexity linear time complexity\n",
        "#nested loop is an example of o(n^2) time complexity or quadratic time complexity\n",
        "#binary search where search list length is halved each time is an example of logarithmic time complexity where if i/p increases by 10 times time only increases by 1 times, 100 times then\n",
        "#time by 2 times and so on\n",
        "#nlogn timecomplexity\n",
        "#exponentail time complexity"
      ],
      "metadata": {
        "id": "C02UN90vj269"
      },
      "execution_count": null,
      "outputs": []
    },
    {
      "cell_type": "code",
      "source": [
        "#law of addition---If a code has 2 loops one having a time complexity of o(n) and other having a time complexity of o(n) then total time complexity would be o(2n) where 2 would\n",
        "#be ignored and time complexity would become o(n),  in a code when one loop has a time complexity of O(n) and other loop has a time complexity of O(n^2) then total time complexity\n",
        "#will be of O(n+n^2) as the lower one will be ignored so time complexity would be O(n^2)\n",
        "#in case we have 2 nested loops then time complexity will get multiplied"
      ],
      "metadata": {
        "id": "csSnjB-HlQVF"
      },
      "execution_count": null,
      "outputs": []
    },
    {
      "cell_type": "code",
      "source": [
        "a=int(input(\"Enter your number: \"))\n",
        "s=\"\"\n",
        "k=\"0123456789\"\n",
        "while a!=0:\n",
        "  s=k[a%10]+s\n",
        "  a=a//10\n",
        "print(s)\n",
        "#when you increase the input by 10 times, the loop increases 1 time, when i/p is increased by 100 times the loop increases 2 times\n",
        "#so this has a logn logarithmic time complexity"
      ],
      "metadata": {
        "colab": {
          "base_uri": "https://localhost:8080/"
        },
        "id": "U840p32IdF_O",
        "outputId": "e9f2e474-5183-42ea-9d2f-8a89b2b619d4"
      },
      "execution_count": null,
      "outputs": [
        {
          "output_type": "stream",
          "name": "stdout",
          "text": [
            "Enter your number: 345\n",
            "345\n"
          ]
        }
      ]
    },
    {
      "cell_type": "code",
      "source": [
        "l=[1,2,3,4,5]\n",
        "sum=0\n",
        "for i in l:\n",
        "  sum+=i\n",
        "prod=1\n",
        "for i in l:\n",
        "  prod*=i\n",
        "print(sum,prod)\n",
        "#time complexity is linear of the order of O(n)"
      ],
      "metadata": {
        "id": "E29gjfOir5QA"
      },
      "execution_count": null,
      "outputs": []
    },
    {
      "cell_type": "code",
      "source": [
        "a=[1,2,3]\n",
        "b=[4,5,6]\n",
        "for i in a:\n",
        "  for j in b:\n",
        "    for k in range(10000):\n",
        "      print(i,j,k)\n",
        "#order of n^2 quadratic time complexity as n^2*10000 is total time complexity and as multiplicative time constants are ignored so we get order of n^2 as time complexity"
      ],
      "metadata": {
        "id": "1CYD2yum7GHp"
      },
      "execution_count": null,
      "outputs": []
    },
    {
      "cell_type": "code",
      "source": [
        "#even if loop runs half the size of array...time complexity will still be of the order of n O(n)\n",
        "n=10\n",
        "k=10\n",
        "for i in range(n//2,n):\n",
        "  for j in range(2,n,pow(2,j)):\n",
        "    k=k+n/2\n",
        "#the time complexity of outer one is n for the inner one the number of input keep getting divided by 2 everytime j increases...hence total time complexity is nlogn\n",
        "#if no loops are involved time complexity is constant"
      ],
      "metadata": {
        "id": "-Qooqa1v7gb6"
      },
      "execution_count": null,
      "outputs": []
    },
    {
      "cell_type": "code",
      "source": [
        "def fib(n):\n",
        "  if n==0 or n==1:\n",
        "    return 1\n",
        "  else:\n",
        "    return fib(n-1)+fib(n-2)\n",
        "#so fib(3) would call fib(2) and fib(1) fib(2) would call fib(1) and fib(0) in case of fib(3) 5 functions are called\n",
        "#in case of fib(5) 15 functions are called so the time complexity here is exponential O(2^n)"
      ],
      "metadata": {
        "id": "q9WWaLT9EdMp"
      },
      "execution_count": null,
      "outputs": []
    },
    {
      "cell_type": "code",
      "source": [
        "#List is a datatype where you can store multiple items under 1 name. More technically lists can act as dynamic arrays which means you can add more items on the fly\n",
        "#Lists can store multiple datatypes l=[20,'jessa',35.75,[10,20,30]]\n",
        "#Advantage of list-heterogeneous and dynamic(in terms of size its size can be varied)\n",
        "#disadvantages of list -less speed of execution and high memory"
      ],
      "metadata": {
        "id": "Um518j9fGt60"
      },
      "execution_count": null,
      "outputs": []
    },
    {
      "cell_type": "code",
      "source": [
        "a=2\n",
        "print(id(a))#prints address"
      ],
      "metadata": {
        "id": "UCbLqY-2Uvt5",
        "colab": {
          "base_uri": "https://localhost:8080/"
        },
        "outputId": "ab258c4a-a98e-468b-b4f3-255699eb47bb"
      },
      "execution_count": null,
      "outputs": [
        {
          "output_type": "stream",
          "name": "stdout",
          "text": [
            "132637904421136\n"
          ]
        }
      ]
    },
    {
      "cell_type": "code",
      "source": [
        "l=[1,2,3]\n",
        "print(id(l))\n",
        "print(id(l[0]))#contents of list l are the addresses of each element, in this case address of 1\n",
        "print(id(l[1]))#2nd content of list l is the address of 2nd element of l , in this case address of 2\n",
        "print(id(l[2]))#3rd content of list l is the address of 3rd element of l, in this case address of 3\n",
        "print(id(1))\n",
        "print(id(2))\n",
        "print(id(3))\n",
        "#problem with this is execution speed is less as we first go to the address the extract element in that address, more memory too is required to store element and their address seperately\n",
        "#but advantage is we can store different kinds of elements as we are storing their addresses at the end of the day\n",
        "#list has a lot of unused space\n",
        "#Python list is slow and required more space(most of space is unused as it is dynamic)\n",
        "#list can have another list within it as list item\n",
        "l234=[[a,b,c],1,2,3,'fgh']#is valid"
      ],
      "metadata": {
        "colab": {
          "base_uri": "https://localhost:8080/"
        },
        "id": "OA-vYqfvgIzy",
        "outputId": "8ea86bf0-c94a-4df8-8285-0b3b30dff7a7"
      },
      "execution_count": null,
      "outputs": [
        {
          "output_type": "stream",
          "name": "stdout",
          "text": [
            "135110587477440\n",
            "135111007830256\n",
            "135111007830288\n",
            "135111007830320\n",
            "135111007830256\n",
            "135111007830288\n",
            "135111007830320\n"
          ]
        }
      ]
    },
    {
      "cell_type": "code",
      "source": [
        "#characteristic of list\n",
        "#List is ordered\n",
        "l1=[1,2,3]\n",
        "l2=[3,2,1]\n",
        "l1==l2\n"
      ],
      "metadata": {
        "colab": {
          "base_uri": "https://localhost:8080/"
        },
        "id": "0L4ilBzdMsZ7",
        "outputId": "62bc3144-1878-47a0-fb37-47045ac82ac1"
      },
      "execution_count": null,
      "outputs": [
        {
          "output_type": "execute_result",
          "data": {
            "text/plain": [
              "False"
            ]
          },
          "metadata": {},
          "execution_count": 2
        }
      ]
    },
    {
      "cell_type": "code",
      "source": [
        "#secondly list is mutable unlike strings which was unmutable\n",
        "#list items can be duplicate\n",
        "#list is dynamic, as you keep on adding items the memory keeps on getting incremented\n"
      ],
      "metadata": {
        "id": "KU7SVU2xM6Ae"
      },
      "execution_count": null,
      "outputs": []
    },
    {
      "cell_type": "code",
      "source": [
        "print([[[1,2],[3,4]],[[5,6],[7,8]]])#3D list\n"
      ],
      "metadata": {
        "colab": {
          "base_uri": "https://localhost:8080/"
        },
        "id": "t3Q1tTLdCmEa",
        "outputId": "76ab625a-5756-447a-f7b3-95403dc761ed"
      },
      "execution_count": null,
      "outputs": [
        {
          "output_type": "stream",
          "name": "stdout",
          "text": [
            "[[[1, 2], [3, 4]], [[5, 6], [7, 8]]]\n"
          ]
        }
      ]
    },
    {
      "cell_type": "code",
      "source": [
        "# positive indexing starts from left to right and negative indexing starts from right to left\n",
        "#negative indexing starts from -1"
      ],
      "metadata": {
        "id": "9Hn6d4rFX2ZI"
      },
      "execution_count": null,
      "outputs": []
    },
    {
      "cell_type": "code",
      "source": [
        "l1=['dhoni',2,3.76,[1,2]]\n",
        "print(l1[3][0])"
      ],
      "metadata": {
        "colab": {
          "base_uri": "https://localhost:8080/"
        },
        "id": "d16r0Rq1djdj",
        "outputId": "3c6fa94d-ced2-42c8-d6f7-515700d27bc7"
      },
      "execution_count": null,
      "outputs": [
        {
          "output_type": "stream",
          "name": "stdout",
          "text": [
            "1\n"
          ]
        }
      ]
    },
    {
      "cell_type": "code",
      "source": [
        "print(l1[-1][-2])"
      ],
      "metadata": {
        "colab": {
          "base_uri": "https://localhost:8080/"
        },
        "id": "0KV0dymAd6My",
        "outputId": "35fd89f3-5f0d-425e-adc3-54877c60a619"
      },
      "execution_count": null,
      "outputs": [
        {
          "output_type": "stream",
          "name": "stdout",
          "text": [
            "1\n"
          ]
        }
      ]
    },
    {
      "cell_type": "code",
      "source": [
        "l2=[[[1,2],[3,4]],[[5,6],[7,8]]]#3D list\n",
        "l2[1][0][0]"
      ],
      "metadata": {
        "colab": {
          "base_uri": "https://localhost:8080/"
        },
        "id": "7Ht52SHNeyUC",
        "outputId": "cac411dd-3e59-4df0-84c5-c4423e02cd12"
      },
      "execution_count": null,
      "outputs": [
        {
          "output_type": "execute_result",
          "data": {
            "text/plain": [
              "5"
            ]
          },
          "metadata": {},
          "execution_count": 4
        }
      ]
    },
    {
      "cell_type": "code",
      "source": [
        "l2[0][1][0]"
      ],
      "metadata": {
        "colab": {
          "base_uri": "https://localhost:8080/"
        },
        "id": "0pm21sq-mmWV",
        "outputId": "09bb5e47-846b-489a-bdbb-2db41a8d9b88"
      },
      "execution_count": null,
      "outputs": [
        {
          "output_type": "execute_result",
          "data": {
            "text/plain": [
              "3"
            ]
          },
          "metadata": {},
          "execution_count": 5
        }
      ]
    },
    {
      "cell_type": "code",
      "source": [
        "l3=[1,2,3,4,5,6,7,8,9]\n",
        "l3[-5:-2:2]"
      ],
      "metadata": {
        "id": "uBDr_O5emwJu",
        "colab": {
          "base_uri": "https://localhost:8080/"
        },
        "outputId": "de813851-d6b5-4b9a-95d9-5ca2f96cf570"
      },
      "execution_count": null,
      "outputs": [
        {
          "output_type": "execute_result",
          "data": {
            "text/plain": [
              "[5, 7]"
            ]
          },
          "metadata": {},
          "execution_count": 6
        }
      ]
    },
    {
      "cell_type": "code",
      "source": [
        "#append adds item at the last of list\n",
        "#extend can add multiple items in the list at once\n",
        "l1=[1,2,3,4,5]\n",
        "l1.extend([6,7,8])\n",
        "print(l1)"
      ],
      "metadata": {
        "colab": {
          "base_uri": "https://localhost:8080/"
        },
        "id": "6X9TCmW4FeOY",
        "outputId": "21a23bfd-5d7e-401d-9795-3b71aeed40bc"
      },
      "execution_count": null,
      "outputs": [
        {
          "output_type": "stream",
          "name": "stdout",
          "text": [
            "[1, 2, 3, 4, 5, 6, 7, 8]\n"
          ]
        }
      ]
    },
    {
      "cell_type": "code",
      "source": [
        "l1=[1,2,3,4,5]\n",
        "l1.extend('pithoda')\n",
        "print(l1)\n",
        "#extend adds multiple items so it broke string into various parts and added it"
      ],
      "metadata": {
        "colab": {
          "base_uri": "https://localhost:8080/"
        },
        "id": "y1OS4DlXRfjs",
        "outputId": "d88c05f3-8feb-4663-ea06-aabed708e14a"
      },
      "execution_count": null,
      "outputs": [
        {
          "output_type": "stream",
          "name": "stdout",
          "text": [
            "[1, 2, 3, 4, 5, 'p', 'i', 't', 'h', 'o', 'd', 'a']\n"
          ]
        }
      ]
    },
    {
      "cell_type": "code",
      "source": [
        "l1.extend('100')\n",
        "print(l1)"
      ],
      "metadata": {
        "colab": {
          "base_uri": "https://localhost:8080/"
        },
        "id": "stMnfuAbWaa-",
        "outputId": "c7224231-6713-4569-8c8c-59eaa942d6f3"
      },
      "execution_count": null,
      "outputs": [
        {
          "output_type": "stream",
          "name": "stdout",
          "text": [
            "[1, 2, 3, 4, 5, 'p', 'i', 't', 'h', 'o', 'd', 'a', '1', '0', '0']\n"
          ]
        }
      ]
    },
    {
      "cell_type": "code",
      "source": [
        "l1.extend([100])\n"
      ],
      "metadata": {
        "id": "gRRzw1WjWnZ0"
      },
      "execution_count": null,
      "outputs": []
    },
    {
      "cell_type": "code",
      "source": [
        "l12=[1,2,3,4,5]\n",
        "l12.insert(1,100)\n",
        "print(l12)\n",
        "#inserting in a list using index"
      ],
      "metadata": {
        "colab": {
          "base_uri": "https://localhost:8080/"
        },
        "id": "D6-dooSIY-i1",
        "outputId": "7e1f592e-8383-4e90-efd8-4452158a518f"
      },
      "execution_count": null,
      "outputs": [
        {
          "output_type": "stream",
          "name": "stdout",
          "text": [
            "[1, 100, 2, 3, 4, 5]\n"
          ]
        }
      ]
    },
    {
      "cell_type": "code",
      "source": [
        "l=[1,2,3,4,5]\n",
        "l[-1]=500\n",
        "print(l)"
      ],
      "metadata": {
        "colab": {
          "base_uri": "https://localhost:8080/"
        },
        "id": "Bzws5EzNcACk",
        "outputId": "a9318962-9002-4c28-d868-7fa35b5ef131"
      },
      "execution_count": null,
      "outputs": [
        {
          "output_type": "stream",
          "name": "stdout",
          "text": [
            "[1, 2, 3, 4, 500]\n"
          ]
        }
      ]
    },
    {
      "cell_type": "code",
      "source": [
        "l[1]=200\n",
        "print(l)"
      ],
      "metadata": {
        "colab": {
          "base_uri": "https://localhost:8080/"
        },
        "id": "UN8CjEipcR15",
        "outputId": "a87dc3dc-97ff-42e6-b472-4854441074d2"
      },
      "execution_count": null,
      "outputs": [
        {
          "output_type": "stream",
          "name": "stdout",
          "text": [
            "[1, 200, 3, 4, 500]\n"
          ]
        }
      ]
    },
    {
      "cell_type": "code",
      "source": [
        "l=[1,2,3,4,5,6,7]\n",
        "l[1:4]=[200,300,400]\n",
        "print(l)\n",
        "#list is mutable, so 2,3 and 4 is replaced with 200,300 and 400"
      ],
      "metadata": {
        "colab": {
          "base_uri": "https://localhost:8080/"
        },
        "id": "j5yF35Lxcqwo",
        "outputId": "0463a3c2-0f7f-4eb6-d63d-f65fc53aaa09"
      },
      "execution_count": null,
      "outputs": [
        {
          "output_type": "stream",
          "name": "stdout",
          "text": [
            "[1, 200, 300, 400, 5, 6, 7]\n"
          ]
        }
      ]
    },
    {
      "cell_type": "code",
      "source": [
        "l12=[1,2,3,4,5]\n",
        "print(l12)\n",
        "del l12\n",
        "print(l12)\n",
        "#deletes l12"
      ],
      "metadata": {
        "colab": {
          "base_uri": "https://localhost:8080/",
          "height": 217
        },
        "id": "_4kb1uAvdVAV",
        "outputId": "b479c470-0828-4291-9856-4d7da5a81e82"
      },
      "execution_count": null,
      "outputs": [
        {
          "output_type": "stream",
          "name": "stdout",
          "text": [
            "[1, 2, 3, 4, 5]\n"
          ]
        },
        {
          "output_type": "error",
          "ename": "NameError",
          "evalue": "ignored",
          "traceback": [
            "\u001b[0;31m---------------------------------------------------------------------------\u001b[0m",
            "\u001b[0;31mNameError\u001b[0m                                 Traceback (most recent call last)",
            "\u001b[0;32m<ipython-input-15-9cdea8fa56f6>\u001b[0m in \u001b[0;36m<cell line: 4>\u001b[0;34m()\u001b[0m\n\u001b[1;32m      2\u001b[0m \u001b[0mprint\u001b[0m\u001b[0;34m(\u001b[0m\u001b[0ml12\u001b[0m\u001b[0;34m)\u001b[0m\u001b[0;34m\u001b[0m\u001b[0;34m\u001b[0m\u001b[0m\n\u001b[1;32m      3\u001b[0m \u001b[0;32mdel\u001b[0m \u001b[0ml12\u001b[0m\u001b[0;34m\u001b[0m\u001b[0;34m\u001b[0m\u001b[0m\n\u001b[0;32m----> 4\u001b[0;31m \u001b[0mprint\u001b[0m\u001b[0;34m(\u001b[0m\u001b[0ml12\u001b[0m\u001b[0;34m)\u001b[0m\u001b[0;34m\u001b[0m\u001b[0;34m\u001b[0m\u001b[0m\n\u001b[0m",
            "\u001b[0;31mNameError\u001b[0m: name 'l12' is not defined"
          ]
        }
      ]
    },
    {
      "cell_type": "code",
      "source": [
        "l12=[1,2,3,4,5]\n",
        "del l12[-1]\n",
        "print(l12)"
      ],
      "metadata": {
        "colab": {
          "base_uri": "https://localhost:8080/"
        },
        "id": "L9qaZlkhgeCT",
        "outputId": "aba4e6d5-b5bf-41dc-8593-5126c50c0607"
      },
      "execution_count": null,
      "outputs": [
        {
          "output_type": "stream",
          "name": "stdout",
          "text": [
            "[1, 2, 3, 4]\n"
          ]
        }
      ]
    },
    {
      "cell_type": "code",
      "source": [
        "l13=[1,2,3,4,5]\n",
        "del l13[1:3]\n",
        "print(l13)"
      ],
      "metadata": {
        "colab": {
          "base_uri": "https://localhost:8080/"
        },
        "id": "3W6jqGc6l6SP",
        "outputId": "76308321-8eb4-4b30-a32c-a8879f49075e"
      },
      "execution_count": null,
      "outputs": [
        {
          "output_type": "stream",
          "name": "stdout",
          "text": [
            "[1, 4, 5]\n"
          ]
        }
      ]
    },
    {
      "cell_type": "code",
      "source": [
        "l14=[1,2,3,4,5]\n",
        "l14.remove(5)\n",
        "print(l14)\n",
        "#if you have to remove a specfic item using value we use remove, in case of del we delete using index"
      ],
      "metadata": {
        "colab": {
          "base_uri": "https://localhost:8080/"
        },
        "id": "qG_VtIa3oiTh",
        "outputId": "091a2568-23b0-429f-9d25-a1030f4333ef"
      },
      "execution_count": null,
      "outputs": [
        {
          "output_type": "stream",
          "name": "stdout",
          "text": [
            "[1, 2, 3, 4]\n"
          ]
        }
      ]
    },
    {
      "cell_type": "code",
      "source": [
        "l14=[1,2,3,4,5]\n",
        "l14.pop(0)\n",
        "l14"
      ],
      "metadata": {
        "colab": {
          "base_uri": "https://localhost:8080/"
        },
        "id": "D7nc_IjIqfAE",
        "outputId": "ed6328ec-72c7-4c29-e7d7-533b9ad56c8f"
      },
      "execution_count": null,
      "outputs": [
        {
          "output_type": "execute_result",
          "data": {
            "text/plain": [
              "[2, 3, 4, 5]"
            ]
          },
          "metadata": {},
          "execution_count": 19
        }
      ]
    },
    {
      "cell_type": "code",
      "source": [
        "l14=[1,2,3,4,5]\n",
        "l14.pop()\n",
        "l14\n",
        "#by default the last element is removed when pop function is called\n",
        "#else when pop(0) is called then"
      ],
      "metadata": {
        "colab": {
          "base_uri": "https://localhost:8080/"
        },
        "id": "h89ijIinr-rb",
        "outputId": "804a3f2b-56c5-4d65-8fbd-f9f750960391"
      },
      "execution_count": null,
      "outputs": [
        {
          "output_type": "execute_result",
          "data": {
            "text/plain": [
              "[1, 2, 3, 4]"
            ]
          },
          "metadata": {},
          "execution_count": 20
        }
      ]
    },
    {
      "cell_type": "code",
      "source": [
        "l1=[1,2,3,4]\n",
        "l1.clear()\n",
        "l1"
      ],
      "metadata": {
        "colab": {
          "base_uri": "https://localhost:8080/"
        },
        "id": "LGl6mak4diXO",
        "outputId": "8fe945e0-ffcf-4073-8752-7c21767272a9"
      },
      "execution_count": null,
      "outputs": [
        {
          "output_type": "execute_result",
          "data": {
            "text/plain": [
              "[]"
            ]
          },
          "metadata": {},
          "execution_count": 1
        }
      ]
    },
    {
      "cell_type": "code",
      "source": [
        "l1=[1,2,3]\n",
        "l2=[4,5,6]\n",
        "print(l1+l2)"
      ],
      "metadata": {
        "colab": {
          "base_uri": "https://localhost:8080/"
        },
        "id": "nQl0iGz2f-Zv",
        "outputId": "a2bdfcff-a0d0-4471-cfbe-8768f4e33dfa"
      },
      "execution_count": null,
      "outputs": [
        {
          "output_type": "stream",
          "name": "stdout",
          "text": [
            "[1, 2, 3, 4, 5, 6]\n"
          ]
        }
      ]
    },
    {
      "cell_type": "code",
      "source": [
        "print(l1*2)"
      ],
      "metadata": {
        "colab": {
          "base_uri": "https://localhost:8080/"
        },
        "id": "g0XF3ppBgHeA",
        "outputId": "67f461ac-3a68-446d-ebdd-90c0e9405643"
      },
      "execution_count": null,
      "outputs": [
        {
          "output_type": "stream",
          "name": "stdout",
          "text": [
            "[1, 2, 3, 1, 2, 3]\n"
          ]
        }
      ]
    },
    {
      "cell_type": "code",
      "source": [
        "l1=[1,2,3]\n",
        "print(3 in l1)"
      ],
      "metadata": {
        "colab": {
          "base_uri": "https://localhost:8080/"
        },
        "id": "7bKB3qHDgK3K",
        "outputId": "a1a1baad-e513-4316-db24-91fe5eec922c"
      },
      "execution_count": null,
      "outputs": [
        {
          "output_type": "stream",
          "name": "stdout",
          "text": [
            "True\n"
          ]
        }
      ]
    },
    {
      "cell_type": "code",
      "source": [
        "l1=[1,2,3,4,[5,6]]\n",
        "print(5 in l1)"
      ],
      "metadata": {
        "colab": {
          "base_uri": "https://localhost:8080/"
        },
        "id": "QqAeX-sfgdBn",
        "outputId": "69b82693-90d7-445a-ace7-e15a78afe49b"
      },
      "execution_count": null,
      "outputs": [
        {
          "output_type": "stream",
          "name": "stdout",
          "text": [
            "False\n"
          ]
        }
      ]
    },
    {
      "cell_type": "code",
      "source": [
        "l3=[[[1,2],[3,4]],[[5,6],[7,8]]]\n",
        "for i in l3:\n",
        "  print(i)"
      ],
      "metadata": {
        "colab": {
          "base_uri": "https://localhost:8080/"
        },
        "id": "yqPiFl8QhZRn",
        "outputId": "1be8f774-a819-4a83-a035-f69984b10f73"
      },
      "execution_count": null,
      "outputs": [
        {
          "output_type": "stream",
          "name": "stdout",
          "text": [
            "[[1, 2], [3, 4]]\n",
            "[[5, 6], [7, 8]]\n"
          ]
        }
      ]
    },
    {
      "cell_type": "code",
      "source": [
        "lam=[2,1,5,7,0]\n",
        "sorted(lam)#smaller to biggest"
      ],
      "metadata": {
        "id": "Xqw3on33hmhA",
        "colab": {
          "base_uri": "https://localhost:8080/"
        },
        "outputId": "4c92dfd0-97ac-45e8-aaf8-90388c08b795"
      },
      "execution_count": null,
      "outputs": [
        {
          "output_type": "execute_result",
          "data": {
            "text/plain": [
              "[0, 1, 2, 5, 7]"
            ]
          },
          "metadata": {},
          "execution_count": 2
        }
      ]
    },
    {
      "cell_type": "code",
      "source": [
        "sorted(lam,reverse=True)\n",
        "#biggest to smaller"
      ],
      "metadata": {
        "colab": {
          "base_uri": "https://localhost:8080/"
        },
        "id": "xwlplpMYylim",
        "outputId": "b2cfb7a7-662c-4fd3-8b1b-8823ed37f108"
      },
      "execution_count": null,
      "outputs": [
        {
          "output_type": "execute_result",
          "data": {
            "text/plain": [
              "[7, 5, 2, 1, 0]"
            ]
          },
          "metadata": {},
          "execution_count": 3
        }
      ]
    },
    {
      "cell_type": "code",
      "source": [
        "l12=[1,2,1,2,1,2,1,2,1,2,1,2,3,3,3,4,4,4,4,5,6,7,8,8]\n",
        "l12.count(1)"
      ],
      "metadata": {
        "colab": {
          "base_uri": "https://localhost:8080/"
        },
        "id": "shyxBQSmyqh5",
        "outputId": "96e16681-1c42-4076-b901-780f36765a9e"
      },
      "execution_count": null,
      "outputs": [
        {
          "output_type": "execute_result",
          "data": {
            "text/plain": [
              "6"
            ]
          },
          "metadata": {},
          "execution_count": 4
        }
      ]
    },
    {
      "cell_type": "code",
      "source": [
        "l12.count(2)#count counts the frequency of a given number"
      ],
      "metadata": {
        "colab": {
          "base_uri": "https://localhost:8080/"
        },
        "id": "XvDAk8xo3ZlV",
        "outputId": "a281385b-681d-464a-8203-3d07125dd8ac"
      },
      "execution_count": null,
      "outputs": [
        {
          "output_type": "execute_result",
          "data": {
            "text/plain": [
              "6"
            ]
          },
          "metadata": {},
          "execution_count": 5
        }
      ]
    },
    {
      "cell_type": "code",
      "source": [
        "l12.count(3)#count here is counting the frequency of 3"
      ],
      "metadata": {
        "colab": {
          "base_uri": "https://localhost:8080/"
        },
        "id": "a4y-i9ax3mmH",
        "outputId": "5488edcb-b8bf-427b-d383-cd799a19a625"
      },
      "execution_count": null,
      "outputs": [
        {
          "output_type": "execute_result",
          "data": {
            "text/plain": [
              "3"
            ]
          },
          "metadata": {},
          "execution_count": 6
        }
      ]
    },
    {
      "cell_type": "code",
      "source": [
        "l12=[1,2,1,3,4,1,5]\n",
        "l12.index(2)#index gives out the index of"
      ],
      "metadata": {
        "colab": {
          "base_uri": "https://localhost:8080/"
        },
        "id": "gwKN-VL77dtx",
        "outputId": "8d185bf0-933f-4299-8e5f-9b8ac3ba7d9c"
      },
      "execution_count": null,
      "outputs": [
        {
          "output_type": "execute_result",
          "data": {
            "text/plain": [
              "1"
            ]
          },
          "metadata": {},
          "execution_count": 7
        }
      ]
    },
    {
      "cell_type": "code",
      "source": [
        "l12.index(3)#index gives out the index of 3"
      ],
      "metadata": {
        "colab": {
          "base_uri": "https://localhost:8080/"
        },
        "id": "aF3E5PH18pwi",
        "outputId": "8ba2e1a7-e2c9-48cf-c430-e73b04da8b76"
      },
      "execution_count": null,
      "outputs": [
        {
          "output_type": "execute_result",
          "data": {
            "text/plain": [
              "3"
            ]
          },
          "metadata": {},
          "execution_count": 8
        }
      ]
    },
    {
      "cell_type": "code",
      "source": [
        "l12.index(1)#in case a number appears more than once in a list then index function would display the first element of the list"
      ],
      "metadata": {
        "colab": {
          "base_uri": "https://localhost:8080/"
        },
        "id": "4jQrDILO84xs",
        "outputId": "63530ad8-6625-4dce-f558-3deb63d92581"
      },
      "execution_count": null,
      "outputs": [
        {
          "output_type": "execute_result",
          "data": {
            "text/plain": [
              "0"
            ]
          },
          "metadata": {},
          "execution_count": 9
        }
      ]
    },
    {
      "cell_type": "code",
      "source": [
        "l13=[2,1,5,7,0]\n",
        "l13.reverse()\n",
        "l13#this permanently reverses a list(the original list)"
      ],
      "metadata": {
        "colab": {
          "base_uri": "https://localhost:8080/"
        },
        "id": "6jGESeUCBW26",
        "outputId": "dccbdad2-f9c5-4eb1-c57d-b91b295f048c"
      },
      "execution_count": null,
      "outputs": [
        {
          "output_type": "execute_result",
          "data": {
            "text/plain": [
              "[0, 7, 5, 1, 2]"
            ]
          },
          "metadata": {},
          "execution_count": 10
        }
      ]
    },
    {
      "cell_type": "code",
      "source": [
        "l14=[2,1,5,7,0]\n",
        "l14.sort()\n",
        "print(l14)\n",
        "#unlike sorted which is not permanent and makes no changes in the original list, sort function does make changes in the original list permanently"
      ],
      "metadata": {
        "colab": {
          "base_uri": "https://localhost:8080/"
        },
        "id": "RcfdbWDKBnPj",
        "outputId": "a4821e76-4342-48b2-9d7c-46b241e525fe"
      },
      "execution_count": null,
      "outputs": [
        {
          "output_type": "stream",
          "name": "stdout",
          "text": [
            "[0, 1, 2, 5, 7]\n"
          ]
        }
      ]
    },
    {
      "cell_type": "code",
      "source": [
        "l14=[2,1,5,7,0]\n",
        "print(id(l14))\n",
        "l15=l14.copy()\n",
        "print(l15)\n",
        "print(id(l15))\n",
        "#this is shallow copying in which a new copy is made at a different memory location"
      ],
      "metadata": {
        "colab": {
          "base_uri": "https://localhost:8080/"
        },
        "id": "4U1DqZc4LM8f",
        "outputId": "830a2b25-782e-4935-9d5f-7f53344948f8"
      },
      "execution_count": null,
      "outputs": [
        {
          "output_type": "stream",
          "name": "stdout",
          "text": [
            "135626193261760\n",
            "[2, 1, 5, 7, 0]\n",
            "135626193263808\n"
          ]
        }
      ]
    },
    {
      "cell_type": "code",
      "source": [
        "#list comprehension\n",
        "#list=[expression for item in iterable if condition==True]\n",
        "as12=[i for i in range(1,11)]\n",
        "print(as12)"
      ],
      "metadata": {
        "colab": {
          "base_uri": "https://localhost:8080/"
        },
        "id": "BvuwDml6YG3J",
        "outputId": "8a798093-75e4-473d-d7d3-a6410c007346"
      },
      "execution_count": null,
      "outputs": [
        {
          "output_type": "stream",
          "name": "stdout",
          "text": [
            "[1, 2, 3, 4, 5, 6, 7, 8, 9, 10]\n"
          ]
        }
      ]
    },
    {
      "cell_type": "code",
      "source": [
        "#scalar multiplication on vectors\n",
        "v=[2,3,4]\n",
        "s=-3\n",
        "v11=[s*i for i in v]\n",
        "print(v11)\n",
        "#list comprehension has lesser time complexity compared"
      ],
      "metadata": {
        "colab": {
          "base_uri": "https://localhost:8080/"
        },
        "id": "OFMPUfHplWSY",
        "outputId": "069200cd-be71-45ad-fa71-71da8254c03a"
      },
      "execution_count": null,
      "outputs": [
        {
          "output_type": "stream",
          "name": "stdout",
          "text": [
            "[-6, -9, -12]\n"
          ]
        }
      ]
    },
    {
      "cell_type": "code",
      "source": [
        "#print squares of numbers\n",
        "a1=[1,2,3,4,5]\n",
        "a2=[i**2 for i in a1]\n",
        "print(a2)"
      ],
      "metadata": {
        "colab": {
          "base_uri": "https://localhost:8080/"
        },
        "id": "lo69MJdJCW2-",
        "outputId": "861f8671-e6a5-492e-a5f5-13301fa1551a"
      },
      "execution_count": null,
      "outputs": [
        {
          "output_type": "stream",
          "name": "stdout",
          "text": [
            "[1, 4, 9, 16, 25]\n"
          ]
        }
      ]
    },
    {
      "cell_type": "code",
      "source": [
        "#print all numbers between 1 to 50 divisible by 5\n",
        "a4=[i for i in range(1,51) if i%5==0]\n",
        "a4"
      ],
      "metadata": {
        "colab": {
          "base_uri": "https://localhost:8080/"
        },
        "id": "GQr6LSamDu44",
        "outputId": "ce6012af-292b-4600-a75f-9862d2369172"
      },
      "execution_count": null,
      "outputs": [
        {
          "output_type": "execute_result",
          "data": {
            "text/plain": [
              "[5, 10, 15, 20, 25, 30, 35, 40, 45, 50]"
            ]
          },
          "metadata": {},
          "execution_count": 3
        }
      ]
    },
    {
      "cell_type": "code",
      "source": [
        "#find languages which start with letter p\n",
        "languages=['java','python','php','c','javascript']\n",
        "[i for i in languages if i[0]=='p']"
      ],
      "metadata": {
        "colab": {
          "base_uri": "https://localhost:8080/"
        },
        "id": "W_hurQjOExgJ",
        "outputId": "cfbd55d6-99b1-4f31-f98d-7bdd8e72e8cc"
      },
      "execution_count": null,
      "outputs": [
        {
          "output_type": "execute_result",
          "data": {
            "text/plain": [
              "['python', 'php']"
            ]
          },
          "metadata": {},
          "execution_count": 4
        }
      ]
    },
    {
      "cell_type": "code",
      "source": [
        "#find languages which start with letter p\n",
        "lang=['java','python','php','c','javascript']\n",
        "[i for i in lang if i.startswith('p')]"
      ],
      "metadata": {
        "colab": {
          "base_uri": "https://localhost:8080/"
        },
        "id": "D5kWQlPjOw-A",
        "outputId": "5dfa2551-5576-4d35-d59e-471ef96d03d7"
      },
      "execution_count": null,
      "outputs": [
        {
          "output_type": "execute_result",
          "data": {
            "text/plain": [
              "['python', 'php']"
            ]
          },
          "metadata": {},
          "execution_count": 5
        }
      ]
    },
    {
      "cell_type": "code",
      "source": [
        "#add new list from my_fruits if the fruit exists in basket and also starts with 'a'\n",
        "basket=['apple','guava','cherry','banana']\n",
        "my_fruits=['apple','kiwi','grapes','banana']\n",
        "[i for i in my_fruits if i in basket if i.startswith('a')]"
      ],
      "metadata": {
        "colab": {
          "base_uri": "https://localhost:8080/"
        },
        "id": "vaGCongKTvah",
        "outputId": "f9e1d0ea-1413-4c63-8473-85b260757314"
      },
      "execution_count": null,
      "outputs": [
        {
          "output_type": "execute_result",
          "data": {
            "text/plain": [
              "['apple']"
            ]
          },
          "metadata": {},
          "execution_count": 6
        }
      ]
    },
    {
      "cell_type": "code",
      "source": [
        "#print a (3,3) matrix using list comprehension --> nested list comprehension\n",
        "[[i*j for i in range(1,4)] for j in range(1,4)]"
      ],
      "metadata": {
        "colab": {
          "base_uri": "https://localhost:8080/"
        },
        "id": "4dt-szbJZ3_j",
        "outputId": "aae01f53-893b-45ad-dd18-91e99706321c"
      },
      "execution_count": null,
      "outputs": [
        {
          "output_type": "execute_result",
          "data": {
            "text/plain": [
              "[[1, 2, 3], [2, 4, 6], [3, 6, 9]]"
            ]
          },
          "metadata": {},
          "execution_count": 7
        }
      ]
    },
    {
      "cell_type": "code",
      "source": [
        "[[[i*j for i in range(1,4)] for j in range(1,4)] for k in range(1,4)]"
      ],
      "metadata": {
        "colab": {
          "base_uri": "https://localhost:8080/"
        },
        "id": "XbLdiM45frJo",
        "outputId": "2669b4a6-432c-47e4-9ca9-abaee42c782e"
      },
      "execution_count": null,
      "outputs": [
        {
          "output_type": "execute_result",
          "data": {
            "text/plain": [
              "[[[1, 2, 3], [2, 4, 6], [3, 6, 9]],\n",
              " [[1, 2, 3], [2, 4, 6], [3, 6, 9]],\n",
              " [[1, 2, 3], [2, 4, 6], [3, 6, 9]]]"
            ]
          },
          "metadata": {},
          "execution_count": 8
        }
      ]
    },
    {
      "cell_type": "code",
      "source": [
        "#cartesian products ==>list comprehension on 2 lists together\n",
        "a=[1,2,3,4]\n",
        "b=[5,6,7,8]\n",
        "[i*j for i in a for j in b]\n",
        "#5,6,7,8 is found by multiplying 5 of j to 1,2,3 and 4 of i(a), 6 of j is multiplied by 1,2,3 and 4 of i,7 of j is multiplied by 1,2,3 and 4 of i lastly 8 of j is multiplied by\n",
        "#by 1,2,3 and 4 of i\n",
        "#the outer loop remains stagnant(j in this case) while the inner loop runs(i in this case)"
      ],
      "metadata": {
        "colab": {
          "base_uri": "https://localhost:8080/"
        },
        "id": "obzezlKJlILx",
        "outputId": "5854d4ec-050e-4ecc-d12e-fcaa9eb2404c"
      },
      "execution_count": null,
      "outputs": [
        {
          "output_type": "execute_result",
          "data": {
            "text/plain": [
              "[5, 6, 7, 8, 10, 12, 14, 16, 15, 18, 21, 24, 20, 24, 28, 32]"
            ]
          },
          "metadata": {},
          "execution_count": 9
        }
      ]
    },
    {
      "cell_type": "code",
      "source": [
        "a1=[1,2,3,4]\n",
        "a2=[-1,-2,-3,-4]\n",
        "a3=list(zip(a1,a2))\n",
        "a3"
      ],
      "metadata": {
        "id": "3_IGUqp2qRHC",
        "colab": {
          "base_uri": "https://localhost:8080/"
        },
        "outputId": "e6f78179-7ab9-48da-d22d-fef5f27cc11e"
      },
      "execution_count": null,
      "outputs": [
        {
          "output_type": "execute_result",
          "data": {
            "text/plain": [
              "[(1, -1), (2, -2), (3, -3), (4, -4)]"
            ]
          },
          "metadata": {},
          "execution_count": 1
        }
      ]
    },
    {
      "cell_type": "code",
      "source": [
        "[i+j for i,j in a3]"
      ],
      "metadata": {
        "colab": {
          "base_uri": "https://localhost:8080/"
        },
        "id": "VJA0R9zuZ8gs",
        "outputId": "be2832c5-a0fa-4e4e-d366-9b0e6649a4a1"
      },
      "execution_count": null,
      "outputs": [
        {
          "output_type": "execute_result",
          "data": {
            "text/plain": [
              "[0, 0, 0, 0]"
            ]
          },
          "metadata": {},
          "execution_count": 2
        }
      ]
    },
    {
      "cell_type": "code",
      "source": [
        "[i+j for i,j in list(zip(a1,a2))]"
      ],
      "metadata": {
        "colab": {
          "base_uri": "https://localhost:8080/"
        },
        "id": "QG0XkEpwaE_9",
        "outputId": "23b4d976-a4b6-4f58-ed0d-115f057196e1"
      },
      "execution_count": null,
      "outputs": [
        {
          "output_type": "execute_result",
          "data": {
            "text/plain": [
              "[0, 0, 0, 0]"
            ]
          },
          "metadata": {},
          "execution_count": 3
        }
      ]
    },
    {
      "cell_type": "code",
      "source": [
        "l=[1,2,print,type,input]\n",
        "l#inbuilt function can also be a list item\n",
        "#any object can be a list item"
      ],
      "metadata": {
        "colab": {
          "base_uri": "https://localhost:8080/"
        },
        "id": "qiawDccEdU65",
        "outputId": "017e8493-edc2-4082-a665-6636474d8f32"
      },
      "execution_count": null,
      "outputs": [
        {
          "output_type": "execute_result",
          "data": {
            "text/plain": [
              "[1,\n",
              " 2,\n",
              " <function print>,\n",
              " type,\n",
              " <bound method Kernel.raw_input of <google.colab._kernel.Kernel object at 0x7c0a08d542b0>>]"
            ]
          },
          "metadata": {},
          "execution_count": 4
        }
      ]
    },
    {
      "cell_type": "code",
      "source": [
        "#Python is a dynamically typed language meaning variables or the type of data is not predetermined here and it can be changed during runtime(as we can see below the sizes of string,\n",
        "# integer and float is different,they take up different bytes of memory 50,28,24 respectively).This flexibility requires additional information overhead to store the type of information\n",
        "#of each element in the list\n",
        "#In python when you create a list and add elements to it, the elements themselves are not directly stored inside the list. Instead, a list stores references to the memory location where the\n",
        "#actual objects are stored. # Creating a list with elements of different types\n",
        "# my_list = [1, \"hello\", 3.14, True] in the list we have four elements of different types . When you create a list python doesnot store actual elements inside the list. Instead, it stores\n",
        "#references(or pointers ) to the memory location where these elements are stored.\n",
        "# my_list ---[reference]---> memory location of integer 1\n",
        "          # [reference]---> memory location of string \"hello\"\n",
        "          # [reference]---> memory location of float 3.14\n",
        "          # [reference]---> memory location of boolean True\n",
        "#The use of references introduces some overhead in memory consumption because each reference requires some additional memory.\n",
        "#Python list implementation uses a dynamic-array like structure called list-objects to store elements. These list object uses over-allocated memory to provide room for future growth."
      ],
      "metadata": {
        "id": "Qnnx9d7ifdue"
      },
      "execution_count": null,
      "outputs": []
    },
    {
      "cell_type": "code",
      "source": [
        "import sys\n",
        "\n",
        "my_string = \"4\"\n",
        "my_integer = 4\n",
        "my_float = 3.1\n",
        "\n",
        "print(sys.getsizeof(my_string))  # Output: 54 (approximate value)\n",
        "print(sys.getsizeof(my_integer))  # Output: 28 (approximate value)\n",
        "print(sys.getsizeof(my_float))  # Output: 24 (approximate value)"
      ],
      "metadata": {
        "colab": {
          "base_uri": "https://localhost:8080/"
        },
        "id": "NdMPTsaAkKdS",
        "outputId": "8bc0c421-2ee8-495b-b89b-7551d635113d"
      },
      "execution_count": null,
      "outputs": [
        {
          "output_type": "stream",
          "name": "stdout",
          "text": [
            "50\n",
            "28\n",
            "24\n"
          ]
        }
      ]
    },
    {
      "cell_type": "code",
      "source": [
        "a=[1,2,3]\n",
        "b=a\n",
        "print(a)\n",
        "print(b)\n",
        "a.append(4)\n",
        "print(a)\n",
        "print(b)\n",
        "#change in a has been reflected in b as well and this has happened because when you did b=a both a and b started pointing towards the same memory location"
      ],
      "metadata": {
        "colab": {
          "base_uri": "https://localhost:8080/"
        },
        "id": "QQK2a0V2Il9b",
        "outputId": "daf79da2-7b65-4238-b7ef-5ec3fd19620c"
      },
      "execution_count": null,
      "outputs": [
        {
          "output_type": "stream",
          "name": "stdout",
          "text": [
            "[1, 2, 3]\n",
            "[1, 2, 3]\n",
            "[1, 2, 3, 4]\n",
            "[1, 2, 3, 4]\n"
          ]
        }
      ]
    },
    {
      "cell_type": "code",
      "source": [
        "#In order to stop the change in a being reflected in b beacuse of b=a we can avoid a and b to share the memory location by doing the following\n",
        "a=[1,2,3]\n",
        "b=a.copy()\n",
        "print(a)\n",
        "print(b)\n",
        "a.append(4)\n",
        "print(a)\n",
        "print(b)\n",
        "#by doing b=a.copy() memory location of a is not copied to b"
      ],
      "metadata": {
        "colab": {
          "base_uri": "https://localhost:8080/"
        },
        "id": "j3ba0MSVQW1W",
        "outputId": "fef8cdea-7547-4ea1-8d73-fb072c6c98d0"
      },
      "execution_count": null,
      "outputs": [
        {
          "output_type": "stream",
          "name": "stdout",
          "text": [
            "[1, 2, 3]\n",
            "[1, 2, 3]\n",
            "[1, 2, 3, 4]\n",
            "[1, 2, 3]\n"
          ]
        }
      ]
    },
    {
      "cell_type": "code",
      "source": [
        "# Write a program to add two lists index-wise. Create a new list that contains the 0th index item from both the list, then the 1st index item, and so on till the last element. any leftover items will get added at the end of the new list.\n",
        "\n",
        "# Given List:\n",
        "\n",
        "# list1 = [\"M\", \"na\", \"i\", \"Kh\"]\n",
        "# list2 = [\"y\", \"me\", \"s\", \"an\"]\n",
        "list1=[\"M\",\"na\",\"i\",\"Kh\"]\n",
        "list2=[\"y\",\"me\",\"s\",\"an\"]\n",
        "c=list(zip(list1,list2))"
      ],
      "metadata": {
        "colab": {
          "base_uri": "https://localhost:8080/"
        },
        "id": "rNtiCX_VXUSk",
        "outputId": "aa85e977-d331-4a36-bfb2-a6427bfa5582"
      },
      "execution_count": null,
      "outputs": [
        {
          "output_type": "execute_result",
          "data": {
            "text/plain": [
              "[[('M', 'y')], [('na', 'me')], [('i', 's')], [('Kh', 'an')]]"
            ]
          },
          "metadata": {},
          "execution_count": 7
        }
      ]
    },
    {
      "cell_type": "code",
      "source": [
        "[[i for i in list1]]"
      ],
      "metadata": {
        "colab": {
          "base_uri": "https://localhost:8080/"
        },
        "id": "VfXt1QfuiYge",
        "outputId": "7eb66f6b-a549-4188-9cb8-9ba3e16669da"
      },
      "execution_count": null,
      "outputs": [
        {
          "output_type": "execute_result",
          "data": {
            "text/plain": [
              "[['M', 'na', 'i', 'Kh']]"
            ]
          },
          "metadata": {},
          "execution_count": 6
        }
      ]
    },
    {
      "cell_type": "code",
      "source": [
        "list4=[2,3,4,5]\n",
        "[[item] for item in list4]"
      ],
      "metadata": {
        "colab": {
          "base_uri": "https://localhost:8080/"
        },
        "id": "UWo4gWl2lW0G",
        "outputId": "e8211534-20f7-4900-c72b-9eac1347bb23"
      },
      "execution_count": null,
      "outputs": [
        {
          "output_type": "execute_result",
          "data": {
            "text/plain": [
              "[[2], [3], [4], [5]]"
            ]
          },
          "metadata": {},
          "execution_count": 8
        }
      ]
    },
    {
      "cell_type": "code",
      "source": [
        "[item for item in list4]"
      ],
      "metadata": {
        "colab": {
          "base_uri": "https://localhost:8080/"
        },
        "id": "YCVGbOIjp0v1",
        "outputId": "2925830a-7ab8-4a10-dabe-d525e65345f8"
      },
      "execution_count": null,
      "outputs": [
        {
          "output_type": "execute_result",
          "data": {
            "text/plain": [
              "[2, 3, 4, 5]"
            ]
          },
          "metadata": {},
          "execution_count": 9
        }
      ]
    },
    {
      "cell_type": "code",
      "source": [
        "list1=[\"M\",\"na\",\"i\",\"Kh\"]\n",
        "list2=[\"y\",\"me\",\"s\",\"an\"]\n",
        "min_length=min(len(list1),len(list2))\n",
        "result_list=[[list1[i],list2[i]] for i in range(min_length)]\n",
        "result_list+=[[item] for item in list1[min_length:]]+[[item] for item in list2[min_length:]]\n",
        "result_list"
      ],
      "metadata": {
        "colab": {
          "base_uri": "https://localhost:8080/"
        },
        "id": "ZwbA9fB7p8vz",
        "outputId": "e3066e87-f426-4505-8d4f-a295fec76275"
      },
      "execution_count": null,
      "outputs": [
        {
          "output_type": "execute_result",
          "data": {
            "text/plain": [
              "[['M', 'y'], ['na', 'me'], ['i', 's'], ['Kh', 'an']]"
            ]
          },
          "metadata": {},
          "execution_count": 12
        }
      ]
    },
    {
      "cell_type": "code",
      "source": [
        "[[1],[2],[3],[4]]+[[5],[6],[7],[8]]#This is one way in which a new list can be appended"
      ],
      "metadata": {
        "colab": {
          "base_uri": "https://localhost:8080/"
        },
        "id": "pXgawSoYtLuN",
        "outputId": "d1ce503c-5bef-4324-a152-b38ecf6b27f7"
      },
      "execution_count": null,
      "outputs": [
        {
          "output_type": "execute_result",
          "data": {
            "text/plain": [
              "[[1], [2], [3], [4], [5], [6], [7], [8]]"
            ]
          },
          "metadata": {},
          "execution_count": 11
        }
      ]
    },
    {
      "cell_type": "code",
      "source": [
        "list1=[\"M\",\"na\",\"i\",\"kh\",\"sa\",\"er\",\"yt\"]\n",
        "list2=[\"y\",\"me\",\"s\",\"an\"]\n",
        "min_length=min(len(list1),len(list2))\n",
        "result_list=[[list1[i],list2[i]] for i in range(min_length)]\n",
        "result_list+=[[item] for item in list1[min_length:]]+[[item] for item in list2[min_length:]]\n",
        "result_list\n",
        "#This is one way of creating 2 dimensional list"
      ],
      "metadata": {
        "colab": {
          "base_uri": "https://localhost:8080/"
        },
        "id": "meNsg1YNu_Ax",
        "outputId": "bc78b31c-c5ba-4e56-9a61-ec3428a5b95c"
      },
      "execution_count": null,
      "outputs": [
        {
          "output_type": "execute_result",
          "data": {
            "text/plain": [
              "[['M', 'y'], ['na', 'me'], ['i', 's'], ['kh', 'an'], ['sa'], ['er'], ['yt']]"
            ]
          },
          "metadata": {},
          "execution_count": 14
        }
      ]
    },
    {
      "cell_type": "code",
      "source": [
        "# Write a program to add item 7000 after 6000 in the following Python List\n",
        "\n",
        "# list1 = [10, 20, [300, 400, [5000, 6000], 500], 30, 40]\n",
        "list1=[10,20,[300,400,[5000,6000],500],30,40]\n",
        "list1[2][2]=[5000,6000,7000]\n",
        "list1"
      ],
      "metadata": {
        "colab": {
          "base_uri": "https://localhost:8080/"
        },
        "id": "afaHmTFUyDLF",
        "outputId": "4a7cd0d7-5969-45a3-a9c5-d704063d5ca9"
      },
      "execution_count": null,
      "outputs": [
        {
          "output_type": "execute_result",
          "data": {
            "text/plain": [
              "[10, 20, [300, 400, [5000, 6000, 7000], 500], 30, 40]"
            ]
          },
          "metadata": {},
          "execution_count": 18
        }
      ]
    },
    {
      "cell_type": "code",
      "source": [
        "# Suppose you are given a list of candy and another list of same size representing no of items of respective candy.\n",
        "\n",
        "# i.e -\n",
        "\n",
        "candy_list = ['Jelly Belly','Kit Kat','Double Bubble','Milky Way','Three Musketeers']\n",
        "no_of_items = [10,20,34,74,32]\n",
        "c=[[candy_list[i],\"-\",no_of_items[i]] for i in range(len(candy_list))]\n",
        "for i in c:\n",
        "  for k in i:\n",
        "     print(k,end=\"\")\n",
        "  print()\n",
        "#In order to print the below pattern we first have a create a python list which should have a list items 'element i of candy_list','-',element i of no_of_items in one list(which forms each item of the final list)\n",
        "#for that we have [[candy_list[i],\"-\",no_of_items[i]] for i in range(len(candy_list))], now we loop through each element of the list ,then go inside those respective elements\n",
        "#print those elements by combining them within the inner for loop and then come out of that loop to add print() in the outer for loop\n",
        "#This is done by using\n",
        "#for i in c:\n",
        "    #for k in i:\n",
        "      #  print(k,end=\"\")\n",
        "    # print()"
      ],
      "metadata": {
        "colab": {
          "base_uri": "https://localhost:8080/"
        },
        "id": "9Wxz_txjEKMT",
        "outputId": "eff5d10d-8ae2-43be-922a-9ef0f2b9e294"
      },
      "execution_count": null,
      "outputs": [
        {
          "output_type": "stream",
          "name": "stdout",
          "text": [
            "Jelly Belly-10\n",
            "Kit Kat-20\n",
            "Double Bubble-34\n",
            "Milky Way-74\n",
            "Three Musketeers-32\n"
          ]
        }
      ]
    },
    {
      "cell_type": "code",
      "source": [
        "# Problem 4: Running Sum on list\n",
        "# Write a program to print a list after performing running sum on it.\n",
        "\n",
        "# i.e:\n",
        "\n",
        "# Input:\n",
        "\n",
        "list1 = [1,2,3,4,5,6]\n",
        "sum=0\n",
        "list2=[]\n",
        "for i in list1:\n",
        "  sum+=i\n",
        "  list2.append(sum)\n",
        "list2"
      ],
      "metadata": {
        "colab": {
          "base_uri": "https://localhost:8080/"
        },
        "id": "hQq0mWojNjrs",
        "outputId": "5dc958fa-ed7f-4c95-c573-7349552a9dcf"
      },
      "execution_count": null,
      "outputs": [
        {
          "output_type": "execute_result",
          "data": {
            "text/plain": [
              "[1, 3, 6, 10, 15, 21]"
            ]
          },
          "metadata": {},
          "execution_count": 32
        }
      ]
    },
    {
      "cell_type": "code",
      "source": [
        "# Problem 5: You are given a list of integers. You are asked to make a list by running through elements of the list by adding all elements greater and itself.\n",
        "# i.e. Say given list is [2,4,6,10,1] resultant list will be [22,20,10,23].\n",
        "\n",
        "# For 1st element 2 ->> these are greater (4+6+10) values and 2 itself so on adding becomes 22.\n",
        "\n",
        "# For 2nd element 4 ->> greater elements are (6, 10) and 4 itself, so on adding 20\n",
        "\n",
        "# like wise for all other elememts.\n",
        "\n",
        "# [2,4,6,10,1]-->[22,20,16,10,23]\n",
        "list1=[2,4,6,10,1]\n",
        "list2=[]\n",
        "sum=0\n",
        "for i in list1:\n",
        "  sum=0\n",
        "  for j in list1:\n",
        "    if i<=j:\n",
        "      sum+=j\n",
        "  list2.append(sum)\n",
        "list2\n"
      ],
      "metadata": {
        "colab": {
          "base_uri": "https://localhost:8080/"
        },
        "id": "0iDmDXYSURr2",
        "outputId": "58ed87b2-eb7a-4c00-99b4-111b781c98b1"
      },
      "execution_count": null,
      "outputs": [
        {
          "output_type": "execute_result",
          "data": {
            "text/plain": [
              "[22, 20, 16, 10, 23]"
            ]
          },
          "metadata": {},
          "execution_count": 34
        }
      ]
    },
    {
      "cell_type": "code",
      "source": [
        "# Problem 6: Find list of common unique items from two list. and show in increasing order\n",
        "# Input\n",
        "\n",
        "# num1 = [23,45,67,78,89,34]\n",
        "# num2 = [34,89,55,56,39,67]\n",
        "num1=[23,45,67,78,89,34]\n",
        "num2=[34,89,55,56,39,67]\n",
        "c=[i for i in num1 if i in num2]\n",
        "c.sort()\n",
        "c"
      ],
      "metadata": {
        "colab": {
          "base_uri": "https://localhost:8080/"
        },
        "id": "qf2HvAmYcce6",
        "outputId": "7db6c869-47d2-452f-aa0d-0d164a6c6d06"
      },
      "execution_count": null,
      "outputs": [
        {
          "output_type": "execute_result",
          "data": {
            "text/plain": [
              "[34, 67, 89]"
            ]
          },
          "metadata": {},
          "execution_count": 37
        }
      ]
    },
    {
      "cell_type": "code",
      "source": [
        "# Problem 7: Sort a list of alphanumeric strings based on product value of numeric character in it. If in any string there is no numeric character take it's product value as 1.\n",
        "list1=['1ac21', '23fg', '456', '098d','1','kls']\n",
        "list2=[]\n",
        "for i in list1:\n",
        "  product=1\n",
        "  for k in i:\n",
        "    if k.isdigit():\n",
        "      product=product*int(k)\n",
        "  list2.append(product)\n",
        "print(sorted(list2,reverse=True))"
      ],
      "metadata": {
        "colab": {
          "base_uri": "https://localhost:8080/"
        },
        "id": "vqBeZ1EtjCnO",
        "outputId": "4a8406af-9640-4011-feee-9bfc822c1f6b"
      },
      "execution_count": null,
      "outputs": [
        {
          "output_type": "stream",
          "name": "stdout",
          "text": [
            "[120, 6, 2, 1, 1, 0]\n"
          ]
        }
      ]
    },
    {
      "cell_type": "code",
      "source": [
        "# Problem 8: Split String of list on K character.\n",
        "\n",
        "# Example :\n",
        "\n",
        "# Input:\n",
        "\n",
        "k=['CampusX is a channel', 'for data-science', 'aspirants.']\n",
        "s=[]\n",
        "for i in k:\n",
        "  s+=i.split()\n",
        "print(s)"
      ],
      "metadata": {
        "colab": {
          "base_uri": "https://localhost:8080/"
        },
        "id": "PvhC_NUyt8UA",
        "outputId": "633bde8a-c15c-44da-8817-2c6ca00c338d"
      },
      "execution_count": null,
      "outputs": [
        {
          "output_type": "stream",
          "name": "stdout",
          "text": [
            "['CampusX', 'is', 'a', 'channel', 'for', 'data-science', 'aspirants.']\n"
          ]
        }
      ]
    },
    {
      "cell_type": "code",
      "source": [
        "# Problem 9: Convert Character Matrix to single String using string comprehension.\n",
        "# Example 1:\n",
        "\n",
        "# Input:\n",
        "\n",
        "d14=[['c', 'a', 'm', 'p', 'u', 'x'], ['i', 's'], ['b', 'e', 's', 't'], ['c', 'h', 'a', 'n', 'n', 'e', 'l']]\n",
        "for k in d14:\n",
        "  s=\"\"\n",
        "  for i in k:\n",
        "    s+=i\n",
        "  print(s,end=\" \")"
      ],
      "metadata": {
        "colab": {
          "base_uri": "https://localhost:8080/"
        },
        "id": "SnYWa3CbwSR_",
        "outputId": "56765f53-4313-48b9-ad8b-848103888760"
      },
      "execution_count": null,
      "outputs": [
        {
          "output_type": "stream",
          "name": "stdout",
          "text": [
            "campux is best channel "
          ]
        }
      ]
    },
    {
      "cell_type": "code",
      "source": [
        "# Problem 10: Add Space between Potential Words.\n",
        "# Example:\n",
        "\n",
        "# Input:\n",
        "\n",
        "k=['campusxIs', 'bestFor', 'dataScientist']\n",
        "z=[]\n",
        "for i in k:\n",
        "  cnt=0\n",
        "  for j in i:\n",
        "    cnt+=1\n",
        "    if j.isupper():\n",
        "      break\n",
        "  z+=[i[:cnt-1]]+[i[cnt-1:]]\n",
        "print(z)"
      ],
      "metadata": {
        "colab": {
          "base_uri": "https://localhost:8080/"
        },
        "id": "7oj9lJ1vzRyd",
        "outputId": "a77b3693-e5f0-4bac-beba-6c1b2da14d85"
      },
      "execution_count": null,
      "outputs": [
        {
          "output_type": "stream",
          "name": "stdout",
          "text": [
            "['campusx', 'Is', 'best', 'For', 'data', 'Scientist']\n"
          ]
        }
      ]
    },
    {
      "cell_type": "code",
      "source": [
        "'campusxIs'.split()"
      ],
      "metadata": {
        "colab": {
          "base_uri": "https://localhost:8080/"
        },
        "id": "iVSn_YTt3SLi",
        "outputId": "c07ad451-4a7b-47b4-9cf1-b494c46db092"
      },
      "execution_count": null,
      "outputs": [
        {
          "output_type": "execute_result",
          "data": {
            "text/plain": [
              "['campusxIs']"
            ]
          },
          "metadata": {},
          "execution_count": 43
        }
      ]
    },
    {
      "cell_type": "code",
      "source": [
        "# Problem 11: Write a program that can perform union operation on 2 lists\n",
        "# Example:\n",
        "\n",
        "# Input:\n",
        "\n",
        "a=[1,2,3,4,5,1]\n",
        "b=[2,3,5,7,8]\n",
        "c=[i for i in a]+[j for j in b]\n",
        "c=list(set(c))\n",
        "print(c)"
      ],
      "metadata": {
        "colab": {
          "base_uri": "https://localhost:8080/"
        },
        "id": "LSKe0F6R6de4",
        "outputId": "644167cb-1d30-4b70-81ad-059438d666c0"
      },
      "execution_count": null,
      "outputs": [
        {
          "output_type": "stream",
          "name": "stdout",
          "text": [
            "[1, 2, 3, 4, 5, 7, 8]\n"
          ]
        }
      ]
    },
    {
      "cell_type": "code",
      "source": [
        "# Problem 12: Write a program that can find the max number of each row of a matrix\n",
        "# Example:\n",
        "\n",
        "# Input:\n",
        "\n",
        "input1=[[1,2,3],[4,5,6],[7,8,9]]\n",
        "[max(i) for i in input1]"
      ],
      "metadata": {
        "colab": {
          "base_uri": "https://localhost:8080/"
        },
        "id": "dk-9v0kmg4AJ",
        "outputId": "1715f8e5-56b1-4804-f310-f91f2d74806c"
      },
      "execution_count": null,
      "outputs": [
        {
          "output_type": "execute_result",
          "data": {
            "text/plain": [
              "[3, 6, 9]"
            ]
          },
          "metadata": {},
          "execution_count": 4
        }
      ]
    },
    {
      "cell_type": "code",
      "source": [
        "# Problem 13: Write a list comprehension to print the following matrix\n",
        "# [[0, 1, 2], [3, 4, 5], [6, 7, 8]]\n",
        "[[i] for i in range(3)]+[[i] for i in range(3,6)]+[[i] for i in range(6,9)]"
      ],
      "metadata": {
        "colab": {
          "base_uri": "https://localhost:8080/"
        },
        "id": "AG8BeF4FiVYe",
        "outputId": "c6e8d8e7-2b0d-40bd-c013-7adeee659a35"
      },
      "execution_count": null,
      "outputs": [
        {
          "output_type": "execute_result",
          "data": {
            "text/plain": [
              "[[0], [1], [2], [3], [4], [5], [6], [7], [8]]"
            ]
          },
          "metadata": {},
          "execution_count": 5
        }
      ]
    },
    {
      "cell_type": "code",
      "source": [
        "[[i for i in range(3)]]+[[i for i in range(3,6)]]+[[i for i in range(6,9)]]"
      ],
      "metadata": {
        "colab": {
          "base_uri": "https://localhost:8080/"
        },
        "id": "I-XDWzSVr-sQ",
        "outputId": "183d971d-8e0f-4ba6-937a-039f263cfed6"
      },
      "execution_count": null,
      "outputs": [
        {
          "output_type": "execute_result",
          "data": {
            "text/plain": [
              "[[0, 1, 2], [3, 4, 5], [6, 7, 8]]"
            ]
          },
          "metadata": {},
          "execution_count": 6
        }
      ]
    },
    {
      "cell_type": "code",
      "source": [
        "# Problem 14: Write a list comprehension that can transpose a given matrix\n",
        "matrix = [\n",
        "[1,2,3],\n",
        "[4,5,6],\n",
        "[7,8,9]\n",
        "]\n",
        "for i in matrix:\n",
        "  for j in i:\n",
        "    print(i,j)"
      ],
      "metadata": {
        "id": "gG6RWcc1sc8H",
        "colab": {
          "base_uri": "https://localhost:8080/"
        },
        "outputId": "16179347-984f-4efd-97c3-a1aa74388326"
      },
      "execution_count": null,
      "outputs": [
        {
          "output_type": "stream",
          "name": "stdout",
          "text": [
            "[1, 2, 3] 1\n",
            "[1, 2, 3] 2\n",
            "[1, 2, 3] 3\n",
            "[4, 5, 6] 4\n",
            "[4, 5, 6] 5\n",
            "[4, 5, 6] 6\n",
            "[7, 8, 9] 7\n",
            "[7, 8, 9] 8\n",
            "[7, 8, 9] 9\n"
          ]
        }
      ]
    },
    {
      "cell_type": "code",
      "source": [
        "# Problem 15: Write a list comprehension that can flatten a nested list\n",
        "# Input\n",
        "matrix = [\n",
        "[1,2,3],\n",
        "[4,5,6],\n",
        "[7,8,9]\n",
        "]\n",
        "for i in matrix:\n",
        "  for j in i:\n",
        "    print()"
      ],
      "metadata": {
        "colab": {
          "base_uri": "https://localhost:8080/"
        },
        "id": "C9kTUIhiL-fh",
        "outputId": "ce09af88-f4ab-461d-ed2c-372fc08df838"
      },
      "execution_count": null,
      "outputs": [
        {
          "output_type": "stream",
          "name": "stdout",
          "text": [
            "[1, 2, 3]\n",
            "[1, 2, 3]\n",
            "[1, 2, 3]\n",
            "[4, 5, 6]\n",
            "[4, 5, 6]\n",
            "[4, 5, 6]\n",
            "[7, 8, 9]\n",
            "[7, 8, 9]\n",
            "[7, 8, 9]\n"
          ]
        }
      ]
    },
    {
      "cell_type": "code",
      "source": [
        "[j for i in matrix for j in i]"
      ],
      "metadata": {
        "colab": {
          "base_uri": "https://localhost:8080/"
        },
        "id": "7oTJ9mRobcWm",
        "outputId": "bdcdbb5b-f556-4e5b-fbab-e0ad246425b2"
      },
      "execution_count": null,
      "outputs": [
        {
          "output_type": "execute_result",
          "data": {
            "text/plain": [
              "[1, 2, 3, 4, 5, 6, 7, 8, 9]"
            ]
          },
          "metadata": {},
          "execution_count": 21
        }
      ]
    },
    {
      "cell_type": "code",
      "source": [
        "#problem 1 new solution\n",
        "list1 = [\"M\", \"na\", \"i\", \"Kh\"]\n",
        "list2 = [\"y\", \"me\", \"s\", \"an\"]\n",
        "c=list(zip(list1,list2))\n",
        "[[i,j] for (i,j) in c]"
      ],
      "metadata": {
        "colab": {
          "base_uri": "https://localhost:8080/"
        },
        "id": "CkW4l3OzipAo",
        "outputId": "720c2d9b-2d65-4302-f9ba-624a44812a72"
      },
      "execution_count": null,
      "outputs": [
        {
          "output_type": "execute_result",
          "data": {
            "text/plain": [
              "[['M', 'y'], ['na', 'me'], ['i', 's'], ['Kh', 'an']]"
            ]
          },
          "metadata": {},
          "execution_count": 36
        }
      ]
    },
    {
      "cell_type": "code",
      "source": [
        "#problem 2 solution\n",
        "list1 = [10, 20, [300, 400, [5000, 6000], 500], 30, 40]\n",
        "list1[2][2].append(7000)\n",
        "list1"
      ],
      "metadata": {
        "colab": {
          "base_uri": "https://localhost:8080/"
        },
        "id": "j-kg6fvSkWXa",
        "outputId": "62936f24-d92e-432c-b333-8f208a904c56"
      },
      "execution_count": null,
      "outputs": [
        {
          "output_type": "execute_result",
          "data": {
            "text/plain": [
              "[10, 20, [300, 400, [5000, 6000, 7000], 500], 30, 40]"
            ]
          },
          "metadata": {},
          "execution_count": 37
        }
      ]
    },
    {
      "cell_type": "code",
      "source": [
        "# Problem 3: Update no of items available\n",
        "# Suppose you are given a list of candy and another list of same size representing no of items of respective candy.\n",
        "\n",
        "# i.e -\n",
        "\n",
        "candy_list = ['Jelly Belly','Kit Kat','Double Bubble','Milky Way','Three Musketeers']\n",
        "no_of_items = [10,20,34,74,32]\n",
        "for (i,j) in zip(candy_list,no_of_items):\n",
        "  print(i,\"-\",j,sep=\"\")"
      ],
      "metadata": {
        "colab": {
          "base_uri": "https://localhost:8080/"
        },
        "id": "q1B8Au_KoIaZ",
        "outputId": "10c2f87f-cdd4-43a5-f8ff-811beaf77ef1"
      },
      "execution_count": null,
      "outputs": [
        {
          "output_type": "stream",
          "name": "stdout",
          "text": [
            "Jelly Belly-10\n",
            "Kit Kat-20\n",
            "Double Bubble-34\n",
            "Milky Way-74\n",
            "Three Musketeers-32\n"
          ]
        }
      ]
    },
    {
      "cell_type": "code",
      "source": [
        "#problem 5\n",
        "l=[2,4,6,10,1]\n",
        "l1=[]\n",
        "for i in l:\n",
        "  sum=0\n",
        "  for j in l:\n",
        "    if i<=j:\n",
        "      sum+=j\n",
        "  l1.append(sum)\n",
        "l1"
      ],
      "metadata": {
        "colab": {
          "base_uri": "https://localhost:8080/"
        },
        "id": "-LbIZkDpxsDO",
        "outputId": "c1c90c60-9dec-4014-a37b-a08868602acc"
      },
      "execution_count": null,
      "outputs": [
        {
          "output_type": "execute_result",
          "data": {
            "text/plain": [
              "[22, 20, 16, 10, 23]"
            ]
          },
          "metadata": {},
          "execution_count": 40
        }
      ]
    },
    {
      "cell_type": "code",
      "source": [
        "# Problem 6: Find list of common unique items from two list. and show in increasing order\n",
        "# Input\n",
        "\n",
        "num1 = [23,45,67,78,89,34]\n",
        "num2 = [34,89,55,56,39,67]\n",
        "common=[]\n",
        "for i in num1:\n",
        "  if i in num2:\n",
        "    if i not in common:\n",
        "      common.append(i)\n",
        "common.sort()\n",
        "common"
      ],
      "metadata": {
        "id": "NpEbrcvOyLjj",
        "colab": {
          "base_uri": "https://localhost:8080/"
        },
        "outputId": "4ba61303-c3a6-424b-fc2e-d95ef4105650"
      },
      "execution_count": null,
      "outputs": [
        {
          "output_type": "execute_result",
          "data": {
            "text/plain": [
              "[34, 67, 89]"
            ]
          },
          "metadata": {},
          "execution_count": 41
        }
      ]
    },
    {
      "cell_type": "code",
      "source": [
        "#problem 7\n",
        "c=['1ac21', '23fg', '456', '098d','1','kls']\n",
        "l=[]\n",
        "for i in c:\n",
        "  product=1\n",
        "  for j in i:\n",
        "    if j.isdigit():\n",
        "      product*=int(j)\n",
        "  l.append(product)\n",
        "d=sorted(list(zip(l,c)),reverse=True)\n",
        "[i[1] for i in d]\n"
      ],
      "metadata": {
        "colab": {
          "base_uri": "https://localhost:8080/"
        },
        "id": "HiITH5DtN7pH",
        "outputId": "a5b2446b-b907-4fb4-cf1f-4f9929d12db9"
      },
      "execution_count": null,
      "outputs": [
        {
          "output_type": "execute_result",
          "data": {
            "text/plain": [
              "['456', '23fg', '1ac21', 'kls', '1', '098d']"
            ]
          },
          "metadata": {},
          "execution_count": 47
        }
      ]
    },
    {
      "cell_type": "code",
      "source": [
        "#problem 8\n",
        "c=['CampusX is a channel', 'for data-science', 'aspirants.']\n",
        "d=[]\n",
        "for i in c:\n",
        "  d.extend(i.split())\n",
        "print(d)"
      ],
      "metadata": {
        "colab": {
          "base_uri": "https://localhost:8080/"
        },
        "id": "Uoj6Xo_ZUCcn",
        "outputId": "749c1f50-eb3c-454a-b0f1-7d275b9d2a1b"
      },
      "execution_count": null,
      "outputs": [
        {
          "output_type": "stream",
          "name": "stdout",
          "text": [
            "['CampusX', 'is', 'a', 'channel', 'for', 'data-science', 'aspirants.']\n"
          ]
        }
      ]
    },
    {
      "cell_type": "code",
      "source": [
        "a=[]\n",
        "a.extend(\"amanabh\")\n",
        "a\n",
        "#extend segregates the string seperately considering the entire string as an array"
      ],
      "metadata": {
        "colab": {
          "base_uri": "https://localhost:8080/"
        },
        "id": "RfWmKtmJZO11",
        "outputId": "2f79204a-b897-409b-cfb9-4fd6e53a3e30"
      },
      "execution_count": null,
      "outputs": [
        {
          "output_type": "execute_result",
          "data": {
            "text/plain": [
              "['a', 'm', 'a', 'n', 'a', 'b', 'h']"
            ]
          },
          "metadata": {},
          "execution_count": 53
        }
      ]
    },
    {
      "cell_type": "code",
      "source": [
        "a=[]\n",
        "a.append('amanabh')\n",
        "a\n",
        "# using append the entire string is added as it is"
      ],
      "metadata": {
        "colab": {
          "base_uri": "https://localhost:8080/"
        },
        "id": "0M-WIxMdZYuG",
        "outputId": "212c3bd3-afbc-49e6-f94e-36c1099705b2"
      },
      "execution_count": null,
      "outputs": [
        {
          "output_type": "execute_result",
          "data": {
            "text/plain": [
              "['amanabh']"
            ]
          },
          "metadata": {},
          "execution_count": 54
        }
      ]
    },
    {
      "cell_type": "code",
      "source": [
        "a=[]\n",
        "i=\"aman hai chor\"\n",
        "a.append('aman hai chor'.split())\n",
        "a\n",
        "#using append the entire list is added at once as a list"
      ],
      "metadata": {
        "colab": {
          "base_uri": "https://localhost:8080/"
        },
        "id": "Pec7QSfPZfXz",
        "outputId": "979087f4-83f4-43cb-af8a-12357ae17dab"
      },
      "execution_count": null,
      "outputs": [
        {
          "output_type": "execute_result",
          "data": {
            "text/plain": [
              "[['aman', 'hai', 'chor']]"
            ]
          },
          "metadata": {},
          "execution_count": 56
        }
      ]
    },
    {
      "cell_type": "code",
      "source": [
        "a=[]\n",
        "a.extend('aman hai chor'.split())\n",
        "a\n",
        "#using extend the entire list is added sepearately as seperate items"
      ],
      "metadata": {
        "colab": {
          "base_uri": "https://localhost:8080/"
        },
        "id": "SiuI7_y0ah4V",
        "outputId": "738aa6ee-7517-46ae-e40a-70c5539ece16"
      },
      "execution_count": null,
      "outputs": [
        {
          "output_type": "execute_result",
          "data": {
            "text/plain": [
              "['aman', 'hai', 'chor']"
            ]
          },
          "metadata": {},
          "execution_count": 57
        }
      ]
    },
    {
      "cell_type": "code",
      "source": [
        "#Problem 9\n",
        "d=[['c', 'a', 'm', 'p', 'u', 'x'], ['i', 's'], ['b', 'e', 's', 't'], ['c', 'h', 'a', 'n', 'n', 'e', 'l']]\n",
        "\" \".join([\"\".join(i) for i in d])"
      ],
      "metadata": {
        "colab": {
          "base_uri": "https://localhost:8080/",
          "height": 36
        },
        "id": "6W5Bs5r2cpE0",
        "outputId": "02640098-fe1e-4344-f284-5cfc743085e3"
      },
      "execution_count": null,
      "outputs": [
        {
          "output_type": "execute_result",
          "data": {
            "text/plain": [
              "'campux is best channel'"
            ],
            "application/vnd.google.colaboratory.intrinsic+json": {
              "type": "string"
            }
          },
          "metadata": {},
          "execution_count": 59
        }
      ]
    },
    {
      "cell_type": "code",
      "source": [
        "#Problem 10\n",
        "c=['campusxIs', 'bestFor', 'dataScientist']\n",
        "result=[]\n",
        "for i in c:\n",
        "  temp=[[]]\n",
        "  for char in i:\n",
        "    if char.isupper():\n",
        "      temp.append([])\n",
        "    temp[-1].append(char)\n",
        "  print(temp)"
      ],
      "metadata": {
        "id": "Pk5SRhyNf0Ze",
        "colab": {
          "base_uri": "https://localhost:8080/"
        },
        "outputId": "c92efb55-3538-42d8-c17d-42f01f4d0329"
      },
      "execution_count": null,
      "outputs": [
        {
          "output_type": "stream",
          "name": "stdout",
          "text": [
            "[['c', 'a', 'm', 'p', 'u', 's', 'x'], ['I', 's']]\n",
            "[['b', 'e', 's', 't'], ['F', 'o', 'r']]\n",
            "[['d', 'a', 't', 'a'], ['S', 'c', 'i', 'e', 'n', 't', 'i', 's', 't']]\n"
          ]
        }
      ]
    },
    {
      "cell_type": "code",
      "source": [
        "#Problem 10\n",
        "c=['campusxIs', 'bestFor', 'dataScientist']\n",
        "result=[]\n",
        "for i in c:\n",
        "  temp=[[]]\n",
        "  for char in i:\n",
        "    if char.isupper():\n",
        "      temp.append([])\n",
        "    temp[-1].append(char)\n",
        "  result_char=\"\"\n",
        "  for c in temp:\n",
        "    result_char=result_char+\"\".join(c)+\" \"\n",
        "  result.append(result_char[:-1])\n",
        "print(result)\n",
        "#if we run into a upper character then we add another list and start adding rest of the characters in that list\n",
        "#now using the for loop we go through each item of temp list and add it to result char and now append result list with result_char[:-1]"
      ],
      "metadata": {
        "colab": {
          "base_uri": "https://localhost:8080/"
        },
        "id": "fJDMPgZd3Lav",
        "outputId": "50915991-0e65-4f13-9bdf-8dbf3c82c08f"
      },
      "execution_count": null,
      "outputs": [
        {
          "output_type": "stream",
          "name": "stdout",
          "text": [
            "['campusx Is', 'best For', 'data Scientist']\n"
          ]
        }
      ]
    },
    {
      "cell_type": "code",
      "source": [
        "#Problem 11\n",
        "a=[1,2,3,4,5,1]\n",
        "b=[2,3,5,7,8]\n",
        "c=[]\n",
        "for i in a:\n",
        "  if i not in c:\n",
        "    c.append(i)\n",
        "for j in b:\n",
        "  if j not in c:\n",
        "    c.append(j)\n",
        "print(c)"
      ],
      "metadata": {
        "colab": {
          "base_uri": "https://localhost:8080/"
        },
        "id": "b2DesdzSAc6F",
        "outputId": "ec8d06b1-e3f6-4414-fd3f-44fca430b4ed"
      },
      "execution_count": null,
      "outputs": [
        {
          "output_type": "stream",
          "name": "stdout",
          "text": [
            "[1, 2, 3, 4, 5, 7, 8]\n"
          ]
        }
      ]
    },
    {
      "cell_type": "code",
      "source": [
        "#problem 12\n",
        "a=[[1,2,3],[4,5,6],[7,8,9]]\n",
        "c=[]\n",
        "for i in a:\n",
        "  c.append(max(i))\n",
        "c"
      ],
      "metadata": {
        "colab": {
          "base_uri": "https://localhost:8080/"
        },
        "id": "kUviyAXwnJoI",
        "outputId": "fa44e4ea-62bc-4bb3-cc8d-e5b497e02987"
      },
      "execution_count": null,
      "outputs": [
        {
          "output_type": "execute_result",
          "data": {
            "text/plain": [
              "[3, 6, 9]"
            ]
          },
          "metadata": {},
          "execution_count": 1
        }
      ]
    },
    {
      "cell_type": "code",
      "source": [
        "#Problem 13\n",
        "# a=[[0, 1, 2], [3, 4, 5], [6, 7, 8]]\n",
        "[[(i,j) for j in range(0,3)] for i in range(0,3)]"
      ],
      "metadata": {
        "colab": {
          "base_uri": "https://localhost:8080/"
        },
        "id": "GbRx1iuXxz1n",
        "outputId": "be71587e-4693-4050-ef53-102f756d95d2"
      },
      "execution_count": null,
      "outputs": [
        {
          "output_type": "execute_result",
          "data": {
            "text/plain": [
              "[[(0, 0), (0, 1), (0, 2)], [(1, 0), (1, 1), (1, 2)], [(2, 0), (2, 1), (2, 2)]]"
            ]
          },
          "metadata": {},
          "execution_count": 2
        }
      ]
    },
    {
      "cell_type": "code",
      "source": [
        "[[j+3*i for j in range(0,3)] for i in range(0,3)]"
      ],
      "metadata": {
        "colab": {
          "base_uri": "https://localhost:8080/"
        },
        "id": "pjVCE0Zc0Uts",
        "outputId": "59ff90b2-d1b6-4ac2-80c5-d959a7156c3a"
      },
      "execution_count": null,
      "outputs": [
        {
          "output_type": "execute_result",
          "data": {
            "text/plain": [
              "[[0, 1, 2], [3, 4, 5], [6, 7, 8]]"
            ]
          },
          "metadata": {},
          "execution_count": 3
        }
      ]
    },
    {
      "cell_type": "code",
      "source": [
        "matrix1=[[1,2,3],[5,6,7],[1,2,9]]\n",
        "print(len(matrix1))"
      ],
      "metadata": {
        "colab": {
          "base_uri": "https://localhost:8080/"
        },
        "id": "TgY2AHps0eko",
        "outputId": "19394020-a5d6-4efc-c06c-0c9f63a6ecc2"
      },
      "execution_count": 2,
      "outputs": [
        {
          "output_type": "stream",
          "name": "stdout",
          "text": [
            "3\n"
          ]
        }
      ]
    },
    {
      "cell_type": "code",
      "source": [
        "for k in range(len(matrix1)):\n",
        "  for row in matrix1:\n",
        "    print(row[k])\n"
      ],
      "metadata": {
        "colab": {
          "base_uri": "https://localhost:8080/"
        },
        "id": "2lGDXwXE4rC0",
        "outputId": "ab1e28de-fb78-4b27-d249-295137469a13"
      },
      "execution_count": 3,
      "outputs": [
        {
          "output_type": "stream",
          "name": "stdout",
          "text": [
            "1\n",
            "5\n",
            "1\n",
            "2\n",
            "6\n",
            "2\n",
            "3\n",
            "7\n",
            "9\n"
          ]
        }
      ]
    },
    {
      "cell_type": "code",
      "source": [
        "for row in matrix1:\n",
        "  print(row[1])"
      ],
      "metadata": {
        "colab": {
          "base_uri": "https://localhost:8080/"
        },
        "id": "AStMKqpl5kgq",
        "outputId": "56754be5-bb58-40e2-c9de-3355d4a8b391"
      },
      "execution_count": 4,
      "outputs": [
        {
          "output_type": "stream",
          "name": "stdout",
          "text": [
            "2\n",
            "6\n",
            "2\n"
          ]
        }
      ]
    },
    {
      "cell_type": "code",
      "source": [
        "for row in matrix1:\n",
        "  print(row[0])"
      ],
      "metadata": {
        "colab": {
          "base_uri": "https://localhost:8080/"
        },
        "id": "kLscLWG5mqSO",
        "outputId": "3a511888-8897-4759-8ba7-85a296f1efde"
      },
      "execution_count": 5,
      "outputs": [
        {
          "output_type": "stream",
          "name": "stdout",
          "text": [
            "1\n",
            "5\n",
            "1\n"
          ]
        }
      ]
    },
    {
      "cell_type": "code",
      "source": [
        "for row in matrix1:\n",
        "  print(row[2])"
      ],
      "metadata": {
        "colab": {
          "base_uri": "https://localhost:8080/"
        },
        "id": "p4g2cyW1nJhk",
        "outputId": "bffa1343-d926-42d2-a4ce-9b9d5384696b"
      },
      "execution_count": 7,
      "outputs": [
        {
          "output_type": "stream",
          "name": "stdout",
          "text": [
            "3\n",
            "7\n",
            "9\n"
          ]
        }
      ]
    },
    {
      "cell_type": "code",
      "source": [
        "for i in range(len(matrix1)):\n",
        "  for row in matrix1:\n",
        "    print(row[i])"
      ],
      "metadata": {
        "colab": {
          "base_uri": "https://localhost:8080/"
        },
        "id": "QrWzmoNIovag",
        "outputId": "920cadd2-5d0a-4358-cf81-1ef84f46fbf4"
      },
      "execution_count": 8,
      "outputs": [
        {
          "output_type": "stream",
          "name": "stdout",
          "text": [
            "1\n",
            "5\n",
            "1\n",
            "2\n",
            "6\n",
            "2\n",
            "3\n",
            "7\n",
            "9\n"
          ]
        }
      ]
    },
    {
      "cell_type": "code",
      "source": [
        "[[row[i] for row in matrix1]for i in range(len(matrix1))]\n",
        "#for i=0 we traverse through each row and extract the ith element then when row gets over, we come out first for and then increment i\n",
        "#first row0[0] is picked, row1[0] and then row2[0]\n",
        "#secondly row0[1], row1[1] and row2[1]\n",
        "#Thirdly row0[2], row1[2] and row2[2]"
      ],
      "metadata": {
        "colab": {
          "base_uri": "https://localhost:8080/"
        },
        "id": "QaOAZm8vpqT2",
        "outputId": "f286f1c2-7d9c-4c13-f2ad-c209724afd22"
      },
      "execution_count": 11,
      "outputs": [
        {
          "output_type": "execute_result",
          "data": {
            "text/plain": [
              "[[1, 5, 1], [2, 6, 2], [3, 7, 9]]"
            ]
          },
          "metadata": {},
          "execution_count": 11
        }
      ]
    },
    {
      "cell_type": "code",
      "source": [
        "#Problem 14\n",
        "matrix = [\n",
        "[1,2,3],\n",
        "[4,5,6],\n",
        "[7,8,9]\n",
        "]\n",
        "[[row[i] for row in matrix] for i in range(len(matrix1))]"
      ],
      "metadata": {
        "id": "NSpCEmfL0DgU",
        "outputId": "a79809b0-cafc-4f4a-92f4-3705558d3c20",
        "colab": {
          "base_uri": "https://localhost:8080/"
        }
      },
      "execution_count": 12,
      "outputs": [
        {
          "output_type": "execute_result",
          "data": {
            "text/plain": [
              "[[1, 4, 7], [2, 5, 8], [3, 6, 9]]"
            ]
          },
          "metadata": {},
          "execution_count": 12
        }
      ]
    },
    {
      "cell_type": "code",
      "source": [
        "#Problem 15\n",
        "matrix = [\n",
        "[1,2,3],\n",
        "[4,5,6],\n",
        "[7,8,9]\n",
        "]\n",
        "[i for j in matrix for i in j]\n",
        "#for j in matrix first we go to the first list element of the 2D list matrix and go through each element of j and then\n",
        "#j is incremented and goes to next element of matrix list and passes through each element of jth element and prints i"
      ],
      "metadata": {
        "id": "NVPO3js12g0D",
        "outputId": "2c584106-269f-41f8-d0b4-8a601ecf5890",
        "colab": {
          "base_uri": "https://localhost:8080/"
        }
      },
      "execution_count": 15,
      "outputs": [
        {
          "output_type": "execute_result",
          "data": {
            "text/plain": [
              "[1, 2, 3, 4, 5, 6, 7, 8, 9]"
            ]
          },
          "metadata": {},
          "execution_count": 15
        }
      ]
    },
    {
      "cell_type": "code",
      "source": [
        "matrix = [\n",
        "[1,2,3],\n",
        "[4,5,6],\n",
        "[7,8,9]\n",
        "]\n",
        "[[row[i] for row in matrix] for i in range(len(matrix))]\n",
        "#till the time we traverse through all elements of the list the i remains constant(0 initially) then 0 is incremented and we pick up and print corresponding ith element for each row"
      ],
      "metadata": {
        "id": "cUV0tHJS6ys5",
        "outputId": "9eb8c2fb-a144-4cbd-fe3e-6d40b899448a",
        "colab": {
          "base_uri": "https://localhost:8080/"
        }
      },
      "execution_count": 18,
      "outputs": [
        {
          "output_type": "execute_result",
          "data": {
            "text/plain": [
              "[[1, 4, 7], [2, 5, 8], [3, 6, 9]]"
            ]
          },
          "metadata": {},
          "execution_count": 18
        }
      ]
    },
    {
      "cell_type": "code",
      "source": [
        "matrix = [\n",
        "[1,2,3],\n",
        "[4,5,6],\n",
        "[7,8,9]\n",
        "]\n",
        "[i for j in matrix for i in j]"
      ],
      "metadata": {
        "id": "mlok5gQa8AmZ",
        "outputId": "c968c66f-d48d-486a-92d5-f885c789c5cf",
        "colab": {
          "base_uri": "https://localhost:8080/"
        }
      },
      "execution_count": 19,
      "outputs": [
        {
          "output_type": "execute_result",
          "data": {
            "text/plain": [
              "[1, 2, 3, 4, 5, 6, 7, 8, 9]"
            ]
          },
          "metadata": {},
          "execution_count": 19
        }
      ]
    }
  ],
  "metadata": {
    "colab": {
      "provenance": []
    },
    "kernelspec": {
      "display_name": "Python 3",
      "name": "python3"
    },
    "language_info": {
      "name": "python"
    }
  },
  "nbformat": 4,
  "nbformat_minor": 0
}